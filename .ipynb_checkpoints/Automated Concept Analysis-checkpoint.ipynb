{
 "cells": [
  {
   "cell_type": "markdown",
   "metadata": {},
   "source": [
    "# Gensim word vector visualization of various word vectors"
   ]
  },
  {
   "cell_type": "code",
   "execution_count": 48,
   "metadata": {},
   "outputs": [],
   "source": [
    "import numpy as np\n",
    "\n",
    "# Get the interactive Tools for Matplotlib\n",
    "%matplotlib notebook\n",
    "import matplotlib.pyplot as plt\n",
    "plt.style.use('ggplot')\n",
    "\n",
    "from sklearn.decomposition import PCA\n",
    "\n",
    "from gensim.test.utils import datapath, get_tmpfile\n",
    "from gensim.models import KeyedVectors\n",
    "from gensim.scripts.glove2word2vec import glove2word2vec\n",
    "from sklearn.metrics.pairwise import cosine_similarity"
   ]
  },
  {
   "cell_type": "markdown",
   "metadata": {},
   "source": [
    "For looking at word vectors, I'll use Gensim. We also use it in hw1 for word vectors. Gensim isn't really a deep learning package. It's a package for for word and text similarity modeling, which started with (LDA-style) topic models and grew into SVD and neural word representations. But its efficient and scalable, and quite widely used."
   ]
  },
  {
   "cell_type": "markdown",
   "metadata": {},
   "source": [
    "Our homegrown Stanford offering is GloVe word vectors. Gensim doesn't give them first class support, but allows you to convert a file of GloVe vectors into word2vec format. You can download the GloVe vectors from [the Glove page](https://nlp.stanford.edu/projects/glove/). They're inside [this zip file](https://nlp.stanford.edu/data/glove.6B.zip)"
   ]
  },
  {
   "cell_type": "markdown",
   "metadata": {},
   "source": [
    "(I use the 100d vectors below as a mix between speed and smallness vs. quality. If you try out the 50d vectors, they basically work for similarity but clearly aren't as good for analogy problems. If you load the 300d vectors, they're even better than the 100d vectors.)"
   ]
  },
  {
   "cell_type": "markdown",
   "metadata": {},
   "source": [
    "### Load word2vec 100d and 300d and look at some of the word vectors"
   ]
  },
  {
   "cell_type": "code",
   "execution_count": 3,
   "metadata": {},
   "outputs": [
    {
     "name": "stderr",
     "output_type": "stream",
     "text": [
      "<ipython-input-3-fed696d60718>:3: DeprecationWarning: Call to deprecated `glove2word2vec` (KeyedVectors.load_word2vec_format(.., binary=False, no_header=True) loads GLoVE text vectors.).\n",
      "  glove2word2vec(glove_file, word2vec_glove_file)\n"
     ]
    },
    {
     "data": {
      "text/plain": [
       "(400000, 100)"
      ]
     },
     "execution_count": 3,
     "metadata": {},
     "output_type": "execute_result"
    }
   ],
   "source": [
    "glove_file = datapath(\"glove.6B\\glove.6B.100d.txt\")\n",
    "word2vec_glove_file = get_tmpfile(\"glove.6B.100d.word2vec.txt\")\n",
    "glove2word2vec(glove_file, word2vec_glove_file)"
   ]
  },
  {
   "cell_type": "code",
   "execution_count": 4,
   "metadata": {},
   "outputs": [
    {
     "name": "stderr",
     "output_type": "stream",
     "text": [
      "<ipython-input-4-0664e9791f5e>:3: DeprecationWarning: Call to deprecated `glove2word2vec` (KeyedVectors.load_word2vec_format(.., binary=False, no_header=True) loads GLoVE text vectors.).\n",
      "  glove2word2vec(glove_file_300d, word2vec_glove_file_300d)\n"
     ]
    },
    {
     "data": {
      "text/plain": [
       "(400000, 300)"
      ]
     },
     "execution_count": 4,
     "metadata": {},
     "output_type": "execute_result"
    }
   ],
   "source": [
    "glove_file_300d = datapath(\"glove.6B\\glove.6B.300d.txt\")\n",
    "word2vec_glove_file_300d = get_tmpfile(\"glove.6B.300d.word2vec.txt\")\n",
    "glove2word2vec(glove_file_300d, word2vec_glove_file_300d)"
   ]
  },
  {
   "cell_type": "code",
   "execution_count": 5,
   "metadata": {},
   "outputs": [],
   "source": [
    "model = KeyedVectors.load_word2vec_format(word2vec_glove_file)\n",
    "model_300d = KeyedVectors.load_word2vec_format(word2vec_glove_file_300d)"
   ]
  },
  {
   "cell_type": "code",
   "execution_count": 21,
   "metadata": {},
   "outputs": [
    {
     "data": {
      "text/plain": [
       "array([ 0.8322   , -0.14642  , -0.2002   ,  0.32142  ,  0.31173  ,\n",
       "       -0.030808 ,  0.65621  ,  0.15722  , -0.89315  ,  0.9287   ,\n",
       "       -0.4073   , -0.012328 ,  0.26558  ,  1.5675   ,  0.54457  ,\n",
       "       -0.31347  ,  0.57195  ,  0.17359  ,  0.22574  ,  1.0666   ,\n",
       "       -1.2983   ,  0.2712   ,  0.15471  , -0.92268  ,  0.57024  ,\n",
       "       -0.068484 ,  0.14368  , -0.94394  ,  0.02954  , -0.92536  ,\n",
       "       -0.92351  ,  0.97338  , -0.3583   , -0.065045 , -0.51683  ,\n",
       "        0.44481  , -0.51399  , -0.29038  , -0.59909  ,  0.47418  ,\n",
       "       -0.41489  , -0.0016607, -0.27886  , -0.31239  , -0.037998 ,\n",
       "       -0.0026353,  0.30399  ,  0.93702  ,  0.82374  ,  0.24486  ,\n",
       "       -0.61944  , -0.52649  ,  0.56107  , -0.3573   ,  0.10587  ,\n",
       "       -0.71975  ,  0.98628  , -0.40722  ,  1.2808   ,  0.063544 ,\n",
       "        0.12206  ,  0.18842  , -0.82301  , -0.53925  ,  0.42135  ,\n",
       "        0.01962  ,  0.27123  , -0.21934  ,  0.60616  ,  1.2176   ,\n",
       "       -1.0249   ,  0.41784  , -0.12338  ,  0.97374  , -0.98415  ,\n",
       "        0.40053  , -0.46693  , -0.65503  , -0.25758  , -0.88689  ,\n",
       "        0.30292  ,  0.49153  , -0.03613  , -0.26277  , -0.29533  ,\n",
       "        0.34747  ,  0.95605  , -0.58002  ,  0.40942  , -0.94555  ,\n",
       "        0.095729 , -0.39694  ,  0.41077  ,  0.98265  , -1.0129   ,\n",
       "        0.32186  , -0.14381  , -0.37175  ,  0.27348  , -0.68893  ],\n",
       "      dtype=float32)"
      ]
     },
     "execution_count": 21,
     "metadata": {},
     "output_type": "execute_result"
    }
   ],
   "source": [
    "model['bachelor']"
   ]
  },
  {
   "cell_type": "code",
   "execution_count": 6,
   "metadata": {},
   "outputs": [
    {
     "data": {
      "text/plain": [
       "array([-0.6253   , -0.1771   ,  0.27251  ,  0.39703  , -0.64292  ,\n",
       "        0.34638  ,  0.20717  , -0.54641  , -0.067688 ,  0.2473   ,\n",
       "        0.31673  ,  0.35247  , -0.081559 ,  0.39658  ,  0.79198  ,\n",
       "        0.52533  ,  0.32633  , -0.26819  ,  0.2159   ,  0.33554  ,\n",
       "       -0.38797  ,  0.35297  ,  0.21187  ,  0.68271  , -0.80815  ,\n",
       "        0.74676  ,  0.21105  ,  0.22228  ,  0.079729 , -0.57853  ,\n",
       "       -0.31118  , -0.41152  ,  0.41781  ,  0.15691  ,  0.0098227,\n",
       "        0.7202   ,  0.3779   ,  0.086    , -0.1633   ,  0.088281 ,\n",
       "       -0.15639  ,  0.087224 , -0.22681  ,  0.068579 ,  0.16802  ,\n",
       "       -0.46802  ,  0.29859  ,  0.36217  ,  0.39329  , -0.85394  ,\n",
       "       -0.59082  , -0.37417  ,  0.57294  ,  0.41029  ,  0.42961  ,\n",
       "       -0.33777  ,  0.85083  , -0.71015  ,  0.21539  ,  0.13623  ,\n",
       "       -0.46485  ,  0.5929   ,  0.34484  ,  0.65869  , -0.25801  ,\n",
       "       -0.69305  ,  0.5626   , -0.12317  , -0.042026 , -0.24511  ,\n",
       "       -0.029207 , -0.34903  , -0.1432   , -0.01761  , -0.53151  ,\n",
       "        0.57248  ,  0.090295 ,  0.26178  ,  0.032295 ,  0.47863  ,\n",
       "        0.59189  , -0.3451   , -0.6905   , -0.62033  ,  0.15598  ,\n",
       "       -0.43706  ,  0.22797  , -0.54555  , -0.88475  , -0.096557 ,\n",
       "        0.37141  , -0.30529  ,  0.18826  ,  0.41412  ,  0.25423  ,\n",
       "        0.28887  ,  0.15659  ,  0.26192  , -0.1523   , -0.36414  ,\n",
       "       -0.51441  ,  0.025112 ,  0.0034651,  1.0968   , -0.40364  ,\n",
       "        0.0020874,  0.34738  , -0.16877  , -0.32737  , -0.89458  ,\n",
       "       -0.017622 , -0.88299  , -0.095762 , -0.59018  ,  0.44533  ,\n",
       "       -0.33036  , -0.54712  , -0.13955  , -0.38278  ,  0.74943  ,\n",
       "        0.42298  ,  0.58699  , -0.72629  ,  0.25358  , -0.083804 ,\n",
       "        0.37372  ,  0.48735  , -0.51394  ,  0.59636  , -0.21385  ,\n",
       "       -0.058658 , -0.2878   , -0.027356 , -0.43825  , -0.078782 ,\n",
       "       -0.59269  , -0.1538   ,  0.27042  , -0.39178  ,  0.3482   ,\n",
       "        0.65895  ,  0.60987  , -0.20406  , -0.16434  ,  0.64853  ,\n",
       "       -0.44556  , -0.10833  , -0.54225  ,  0.28924  ,  0.27536  ,\n",
       "        0.92778  ,  0.30937  ,  0.18376  ,  0.31575  ,  0.11514  ,\n",
       "       -0.039268 , -0.16205  , -0.70678  ,  0.047087 , -0.23671  ,\n",
       "        1.0026   ,  0.081258 , -0.054548 , -0.29175  , -0.12877  ,\n",
       "       -0.29834  , -0.13538  , -0.58992  ,  0.30268  ,  0.52862  ,\n",
       "       -0.28851  , -0.45809  , -0.80081  ,  0.16626  , -0.012958 ,\n",
       "        0.041939 ,  0.35545  , -0.7891   , -0.069018 ,  0.26907  ,\n",
       "        0.42892  ,  0.3773   ,  0.015111 ,  0.54037  ,  0.31237  ,\n",
       "        0.47469  , -0.45905  ,  0.20309  , -0.49475  ,  0.24644  ,\n",
       "       -0.67827  , -0.076173 , -0.12972  , -0.10784  ,  0.3141   ,\n",
       "       -0.058658 , -0.57786  ,  0.44496  ,  0.15171  , -0.22     ,\n",
       "        1.1309   ,  0.095089 ,  0.013001 ,  0.29911  , -0.08038  ,\n",
       "       -0.49213  , -0.28781  ,  0.69947  ,  0.40272  , -0.36706  ,\n",
       "        0.3323   ,  0.32399  ,  0.11149  , -0.40178  , -0.18875  ,\n",
       "        0.25749  , -0.20294  , -0.34729  ,  0.64792  ,  0.19591  ,\n",
       "       -0.8162   ,  0.24209  ,  0.28835  ,  0.69411  , -0.34123  ,\n",
       "        0.11928  , -0.90412  , -0.63221  ,  1.0799   ,  0.45979  ,\n",
       "        0.19623  ,  0.025463 ,  0.17869  , -0.64191  , -0.6309   ,\n",
       "       -0.051893 ,  0.44476  , -0.31758  , -0.28945  , -0.10658  ,\n",
       "        0.43974  , -0.0025999,  0.18701  ,  0.2488   , -0.84845  ,\n",
       "        0.42523  , -0.67439  ,  0.26947  ,  0.30645  , -0.059553 ,\n",
       "       -0.18162  , -0.19394  , -0.042901 , -0.24345  ,  0.062603 ,\n",
       "        0.70818  , -0.15557  ,  0.8377   ,  0.50327  ,  0.3662   ,\n",
       "       -0.55597  , -0.52531  ,  0.24045  ,  0.12531  ,  0.15411  ,\n",
       "        0.33112  , -0.20981  , -0.24042  ,  0.41053  ,  1.1568   ,\n",
       "       -0.55349  ,  0.076254 ,  0.37783  , -0.09643  , -0.20653  ,\n",
       "       -0.13466  , -0.80432  , -0.33397  , -0.24519  , -0.58238  ,\n",
       "       -0.20976  , -0.29569  ,  0.035278 , -0.31094  , -0.47277  ,\n",
       "        0.088922 , -0.43701  ,  0.70931  , -0.038253 , -0.56843  ,\n",
       "       -0.77242  , -0.10047  ,  0.21167  , -0.41245  ,  0.34455  ,\n",
       "        0.061047 ,  0.49964  , -0.73619  ,  0.087703 ,  0.049501 ],\n",
       "      dtype=float32)"
      ]
     },
     "execution_count": 6,
     "metadata": {},
     "output_type": "execute_result"
    }
   ],
   "source": [
    "model_300d['bachelor']"
   ]
  },
  {
   "cell_type": "code",
   "execution_count": 7,
   "metadata": {},
   "outputs": [
    {
     "data": {
      "text/plain": [
       "array([ 4.8565e-01, -1.7018e-01, -1.6144e-01, -2.1791e-01, -1.0460e-02,\n",
       "        4.8495e-01,  6.7276e-02,  2.9462e-01,  3.1315e-01,  4.9928e-02,\n",
       "        1.0945e-01,  3.9305e-01,  1.1124e-01,  5.0850e-01,  4.2969e-02,\n",
       "       -8.1070e-01,  3.6790e-01, -3.0680e-01, -4.8652e-01,  1.2743e+00,\n",
       "       -5.1865e-01,  2.0353e-01,  3.4956e-01,  1.0083e+00,  5.8926e-01,\n",
       "        2.9031e-01, -8.2186e-02, -1.2684e+00,  4.7815e-01,  1.3295e+00,\n",
       "        2.8491e-01,  6.9858e-01,  1.0986e+00, -1.1188e-01, -9.4430e-02,\n",
       "        1.1840e-01,  4.6057e-01, -3.0710e-01,  6.3531e-01, -8.4389e-02,\n",
       "       -1.4146e-01,  2.0203e-01,  1.9946e-01, -2.5948e-01,  6.6133e-02,\n",
       "        2.1409e-01, -6.4537e-01,  2.4769e-01,  8.2065e-01, -2.1496e-02,\n",
       "       -4.6824e-01,  3.6111e-01,  8.8937e-01,  6.2047e-01,  4.1908e-01,\n",
       "       -2.1499e+00, -5.1015e-01,  3.7842e-01,  1.4951e-01,  7.4265e-01,\n",
       "        1.5995e-01,  6.7740e-01,  1.2485e-01, -3.6054e-02,  3.3998e-01,\n",
       "        1.7371e-03, -2.3472e-01,  8.9622e-01,  2.8156e-01,  3.9052e-01,\n",
       "       -2.0163e-01, -9.3723e-02,  1.3477e-01, -3.1689e-01,  3.3974e-01,\n",
       "        6.6709e-01,  3.5369e-01, -6.3700e-01, -5.6860e-01, -3.9810e-01,\n",
       "       -3.0161e-01,  4.2381e-01,  6.2174e-01,  6.3476e-01, -1.3050e+00,\n",
       "       -7.3160e-01, -1.8555e-01, -7.8236e-02,  1.0122e-01, -4.9992e-01,\n",
       "        6.2842e-02,  5.8025e-02,  9.7369e-01,  5.3665e-01, -8.7783e-01,\n",
       "       -2.9598e-02, -5.8930e-01, -5.9675e-01,  8.3672e-02, -2.6258e-02],\n",
       "      dtype=float32)"
      ]
     },
     "execution_count": 7,
     "metadata": {},
     "output_type": "execute_result"
    }
   ],
   "source": [
    "model['sister']"
   ]
  },
  {
   "cell_type": "code",
   "execution_count": 8,
   "metadata": {},
   "outputs": [
    {
     "data": {
      "text/plain": [
       "array([-4.7697e-01,  7.6817e-02, -4.7216e-01, -1.3498e-01,  1.9208e-01,\n",
       "        6.3901e-02, -2.5592e-01,  2.1369e-01, -1.5501e-02, -1.0011e+00,\n",
       "        4.7837e-01, -1.0016e-01,  3.7329e-01,  2.5675e-02,  1.7184e-01,\n",
       "       -1.7170e-01,  1.9915e-01, -7.9400e-01,  1.7587e-01, -2.4506e-01,\n",
       "       -3.3253e-01,  1.1413e-01, -4.6364e-01, -1.6337e-01,  2.3461e-01,\n",
       "        2.3505e-01, -4.4175e-01,  1.5266e-01, -2.6450e-01, -1.6728e-01,\n",
       "       -3.7696e-01,  3.4513e-01,  4.6997e-01,  6.2069e-01, -5.8430e-01,\n",
       "        7.0751e-01,  2.2559e-02, -8.8599e-02, -1.0567e-02,  2.4054e-01,\n",
       "       -8.0747e-02, -3.0653e-01,  5.1538e-01,  2.4590e-02,  1.3628e-01,\n",
       "        1.6749e-01,  7.5620e-01,  5.3949e-01,  2.1593e-01, -4.0733e-01,\n",
       "        1.7660e-01, -3.1790e-02,  3.6881e-01, -2.7978e-01, -4.9880e-01,\n",
       "       -1.7215e-01,  3.2854e-02,  5.6740e-01,  3.2670e-01, -9.0277e-01,\n",
       "        1.7485e-01,  2.9574e-01,  5.8915e-01,  3.7608e-01,  8.1893e-03,\n",
       "       -2.6108e-01,  5.4040e-02, -1.3468e-01, -4.5592e-01,  4.6138e-01,\n",
       "       -4.9759e-01, -4.1067e-01, -5.1969e-01,  1.7740e-02,  2.6943e-01,\n",
       "       -3.1362e-02,  2.8572e-02, -4.5179e-01, -3.7345e-01,  2.7716e-01,\n",
       "       -2.1645e-01,  2.0573e-01,  1.9270e-01, -3.4579e-01, -1.7028e-01,\n",
       "        1.6523e-01,  1.5914e-01,  4.9143e-01,  1.8195e-02, -2.7825e-02,\n",
       "       -3.7119e-02,  2.8075e-01, -2.5342e-01,  6.8119e-02,  1.2936e-02,\n",
       "       -9.3197e-02, -8.8739e-02, -3.5213e-01,  5.7967e-01, -4.0110e-01,\n",
       "        3.7061e-01, -6.4058e-01,  2.1008e-01,  1.0315e-01,  1.4454e-01,\n",
       "        3.2704e-01,  4.8503e-01, -3.7008e-01,  1.5986e-01,  1.8817e-01,\n",
       "       -1.4846e-01,  3.5041e-01, -4.7291e-02,  1.7861e-01, -1.4773e-02,\n",
       "       -1.1608e-01, -1.6462e-01,  2.0232e-01,  3.4227e-01,  3.6379e-01,\n",
       "       -9.5208e-02,  3.6023e-01, -1.8371e-01, -4.0569e-01, -1.4949e-01,\n",
       "       -1.0351e-01,  1.9857e-01, -7.9851e-02,  1.9623e-01, -2.9906e-01,\n",
       "        2.5299e-01, -2.0372e-01,  1.4308e-01, -2.7480e-01, -1.1365e-01,\n",
       "       -4.0205e-02,  2.0977e-01,  7.7081e-02, -2.3831e-01,  7.3526e-02,\n",
       "        2.9151e-01,  3.0512e-01,  1.1771e-01,  3.3268e-01, -1.1585e-01,\n",
       "       -8.7747e-02, -1.5301e-01,  4.9130e-01,  2.2682e-01,  1.6625e-01,\n",
       "        7.4165e-01,  3.4662e-01, -3.3030e-01,  1.4562e-01,  1.0964e-01,\n",
       "        2.5770e-01,  1.3411e-01,  2.7003e-02, -7.5289e-02, -6.5210e-02,\n",
       "        5.0589e-01,  9.4593e-02,  5.4239e-01,  1.3494e-01, -4.6246e-01,\n",
       "        2.8007e-01, -4.7526e-01,  1.1083e-01,  7.4055e-02,  2.9819e-01,\n",
       "       -3.5197e-01,  4.6856e-01, -3.4914e-01,  3.5163e-01, -1.9267e-01,\n",
       "       -8.2222e-02, -1.6578e-01, -3.0357e-01,  1.1818e-01,  2.7660e-01,\n",
       "        1.6721e-01,  4.9563e-01, -3.2504e-02, -2.1449e-01, -2.9880e-02,\n",
       "        1.4446e-01, -9.3486e-01, -1.3400e-02,  4.5705e-01, -3.8528e-01,\n",
       "       -1.9938e-02, -5.0233e-01, -5.3402e-01,  5.9038e-02, -6.3913e-01,\n",
       "        3.1348e-01, -9.0359e-02, -3.7370e-01, -1.5004e-01, -3.3318e-01,\n",
       "        1.3962e+00, -2.2265e-01,  2.6798e-01,  7.0798e-01, -3.0139e-03,\n",
       "       -7.8472e-02,  1.5142e-01,  2.3854e-02,  1.1449e-01, -1.6551e-01,\n",
       "       -5.5063e-01,  4.5828e-01,  1.3918e-01, -1.2336e-01,  3.1007e-01,\n",
       "       -1.2911e-01,  5.9983e-04, -6.5530e-01, -1.3231e-01, -3.9608e-02,\n",
       "        2.7272e-01, -1.9776e-01, -5.7429e-02,  3.8264e-01, -3.6697e-01,\n",
       "        1.0284e+00,  4.9093e-01, -5.2107e-01, -3.0778e-01,  9.5275e-02,\n",
       "       -1.9299e-01, -2.6137e-01, -3.5539e-01, -3.8030e-01, -2.8990e-01,\n",
       "        1.0905e-01,  9.0775e-02,  9.0374e-01, -7.0825e-02, -3.1120e-01,\n",
       "       -5.9036e-02,  4.3356e-02, -5.7552e-02,  4.2264e-02, -9.0915e-02,\n",
       "        2.4094e-01,  8.9757e-02, -1.0360e-01,  6.2191e-02, -6.8553e-02,\n",
       "       -2.8718e-01,  1.5448e-01, -1.6262e-01,  5.9918e-01,  8.3321e-01,\n",
       "        2.5690e-02,  1.7756e-01,  1.5190e-02,  3.9042e-01, -3.6902e-01,\n",
       "       -5.5244e-03,  4.9620e-02, -2.2760e-01, -1.1256e-01, -5.1481e-01,\n",
       "        3.2017e-01,  2.0116e-02, -1.5302e-01,  9.3468e-02,  2.0724e-01,\n",
       "       -1.4893e-01, -2.1434e-01,  4.5080e-01, -4.0759e-01,  7.9605e-02,\n",
       "       -9.5991e-02, -8.2007e-01, -4.0223e-01,  3.7895e-02,  6.6071e-01,\n",
       "       -1.1801e-01,  1.0007e+00, -4.6828e-01, -4.2692e-01, -7.5485e-01,\n",
       "        3.2762e-01, -6.0199e-02,  2.0967e-01,  4.0646e-01,  1.4935e-01,\n",
       "        3.2179e-01, -6.6310e-02,  2.2960e-01, -3.5215e-01, -4.1052e-01,\n",
       "        5.3305e-04,  6.5563e-01,  1.5374e-01, -8.2714e-02,  8.4418e-01],\n",
       "      dtype=float32)"
      ]
     },
     "execution_count": 8,
     "metadata": {},
     "output_type": "execute_result"
    }
   ],
   "source": [
    "model_300d['sister']"
   ]
  },
  {
   "cell_type": "code",
   "execution_count": 23,
   "metadata": {},
   "outputs": [
    {
     "data": {
      "text/plain": [
       "array([ 0.31026  ,  0.39302  ,  0.98134  , -0.61414  , -0.5776   ,\n",
       "       -0.022865 , -0.34611  , -0.11463  ,  0.38457  , -0.30959  ,\n",
       "        0.21686  ,  0.27442  ,  0.093896 ,  0.014929 , -0.35822  ,\n",
       "        0.023941 , -0.15049  ,  0.55903  , -0.30462  ,  0.8508   ,\n",
       "       -0.36188  ,  0.27116  , -0.42309  , -0.87782  , -0.24462  ,\n",
       "        0.22018  , -0.30799  , -0.87968  ,  0.14946  , -0.43172  ,\n",
       "       -0.46944  ,  1.115    ,  0.39214  ,  0.044364 ,  0.30981  ,\n",
       "        0.19762  , -0.45981  ,  0.16763  ,  0.38016  , -0.2242   ,\n",
       "       -0.4728   ,  0.29229  ,  0.62778  , -0.68372  , -0.97454  ,\n",
       "       -0.018768 ,  0.18173  , -0.50506  , -0.057814 , -0.52812  ,\n",
       "        0.46425  , -0.34489  ,  0.30607  ,  0.64536  ,  0.18735  ,\n",
       "       -1.854    ,  0.0099879,  0.12502  ,  0.30881  ,  0.7356   ,\n",
       "        0.37825  ,  0.65349  , -0.16762  , -0.57033  ,  0.59705  ,\n",
       "        0.18893  ,  0.96182  ,  0.10457  , -0.47462  ,  0.54552  ,\n",
       "        0.47311  , -0.34428  , -0.078226 , -0.22945  ,  0.86198  ,\n",
       "       -0.13458  ,  0.035581 , -0.48298  , -0.29761  ,  0.41294  ,\n",
       "        0.57923  ,  0.024059 , -0.83074  , -0.084851 , -0.93498  ,\n",
       "       -0.35617  , -0.62006  , -0.11257  , -0.12244  , -0.18881  ,\n",
       "        0.20529  ,  0.06383  ,  0.44341  , -0.1705   , -0.56692  ,\n",
       "        0.21725  , -0.30332  , -0.18677  , -0.070191 ,  0.67877  ],\n",
       "      dtype=float32)"
      ]
     },
     "execution_count": 23,
     "metadata": {},
     "output_type": "execute_result"
    }
   ],
   "source": [
    "model['knows']"
   ]
  },
  {
   "cell_type": "code",
   "execution_count": 24,
   "metadata": {},
   "outputs": [
    {
     "data": {
      "text/plain": [
       "array([-0.27155  ,  0.6229   , -0.174    ,  0.095774 ,  0.21727  ,\n",
       "        0.18718  , -0.060586 , -0.41622  ,  0.4103   , -0.38533  ,\n",
       "       -0.56599  , -0.011766 ,  0.35273  ,  0.093323 ,  0.36715  ,\n",
       "       -0.24886  , -1.0586   , -0.41443  ,  0.15717  ,  0.27091  ,\n",
       "       -0.069785 , -0.69661  , -0.25355  , -0.037957 ,  0.0342   ,\n",
       "        0.68938  ,  0.17122  , -0.33451  ,  0.3867   , -0.031507 ,\n",
       "        0.43334  ,  0.85433  ,  0.10439  ,  0.16353  , -0.63141  ,\n",
       "       -0.20468  ,  0.2494   , -0.038951 , -0.27215  ,  0.721    ,\n",
       "       -0.64843  ,  0.2111   , -0.4947   , -1.1552   ,  0.21294  ,\n",
       "        0.26758  ,  0.11159  ,  0.36198  , -1.0189   , -0.46101  ,\n",
       "        0.67484  ,  0.047161 , -0.37284  ,  0.56961  ,  0.48131  ,\n",
       "       -1.3026   ,  0.1731   , -0.20101  ,  1.2521   ,  0.9539   ,\n",
       "       -0.018293 ,  1.099    ,  0.38064  ,  0.007869 ,  1.2553   ,\n",
       "        0.23543  , -0.065692 , -0.94835  ,  0.88404  , -0.95202  ,\n",
       "       -0.29859  , -0.43715  , -0.16622  ,  0.43485  ,  0.56097  ,\n",
       "       -0.34948  ,  0.49151  , -0.40667  , -0.64014  ,  0.59632  ,\n",
       "        0.1698   ,  0.35186  , -0.35774  ,  0.12594  , -1.2727   ,\n",
       "       -0.28099  , -0.0039435,  0.17617  , -0.47559  , -0.25938  ,\n",
       "       -0.21707  , -0.3183   , -0.1412   ,  0.21063  ,  0.039191 ,\n",
       "        0.12655  , -0.05159  , -0.94447  ,  0.76319  , -0.70714  ],\n",
       "      dtype=float32)"
      ]
     },
     "execution_count": 24,
     "metadata": {},
     "output_type": "execute_result"
    }
   ],
   "source": [
    "model['causes']"
   ]
  },
  {
   "cell_type": "markdown",
   "metadata": {},
   "source": [
    "### Compare combinations of words and their corresponding words in 100d and 300d respectively"
   ]
  },
  {
   "cell_type": "markdown",
   "metadata": {},
   "source": [
    "Example: \"man\" + \"unmarried\" = \"bachelor\"\n",
    "\n",
    "First we will see what words are most similar to \"man\" + \"unmarried\", using the 100d and 300d models respectively. \n",
    "Then we will calculate the similarity between \"man\" + \"unmarried\" and \"bachelor\""
   ]
  },
  {
   "cell_type": "code",
   "execution_count": 9,
   "metadata": {},
   "outputs": [],
   "source": [
    "def definition(x1, x2):\n",
    "    result = model.most_similar(positive=[x1, x2])\n",
    "    return result"
   ]
  },
  {
   "cell_type": "code",
   "execution_count": 10,
   "metadata": {},
   "outputs": [],
   "source": [
    "def definition_300d(x1, x2):\n",
    "    result = model_300d.most_similar(positive=[x1, x2])\n",
    "    return result"
   ]
  },
  {
   "cell_type": "code",
   "execution_count": 57,
   "metadata": {},
   "outputs": [],
   "source": [
    "# Use 100d model and cosine_similarity to calculate similarity between a defining \n",
    "# phrase and the word.\n",
    "#\n",
    "# You can use doc2vec for this but there isn't any good pre-trained doc2vec models \n",
    "# and it takes too long to train my own model so I just averaged the two defining \n",
    "# words. This should make some sense.\n",
    "# \n",
    "# The Phrases model for word2vec doesn't support extracting individual word vectors\n",
    "\n",
    "def calculate_similarity(x1, x2, x3):\n",
    "    phrase = ((model[x1] + model[x2])/2).reshape(1, -1)\n",
    "    word = model[x3].reshape(1, -1)\n",
    "    result = cosine_similarity(phrase, word)\n",
    "    return result"
   ]
  },
  {
   "cell_type": "markdown",
   "metadata": {},
   "source": [
    "### 'man' + 'unmarried' = 'bachelor'"
   ]
  },
  {
   "cell_type": "code",
   "execution_count": 11,
   "metadata": {},
   "outputs": [
    {
     "data": {
      "text/plain": [
       "[('woman', 0.7986403107643127),\n",
       " ('child', 0.7451243996620178),\n",
       " ('young', 0.7399294972419739),\n",
       " ('mother', 0.7386444807052612),\n",
       " ('daughter', 0.7077805399894714),\n",
       " ('pregnant', 0.7069243788719177),\n",
       " ('husband', 0.7020798921585083),\n",
       " ('wife', 0.6987427473068237),\n",
       " ('married', 0.6970356702804565),\n",
       " ('couple', 0.6967206597328186)]"
      ]
     },
     "execution_count": 11,
     "metadata": {},
     "output_type": "execute_result"
    }
   ],
   "source": [
    "definition('man', 'unmarried')"
   ]
  },
  {
   "cell_type": "code",
   "execution_count": 12,
   "metadata": {},
   "outputs": [
    {
     "data": {
      "text/plain": [
       "[('woman', 0.6883418560028076),\n",
       " ('young', 0.5598209500312805),\n",
       " ('person', 0.5512592196464539),\n",
       " ('men', 0.5502604842185974),\n",
       " ('girl', 0.5314196944236755),\n",
       " ('father', 0.5271446704864502),\n",
       " ('mother', 0.5231339931488037),\n",
       " ('boy', 0.5209730267524719),\n",
       " ('husband', 0.5178412795066833),\n",
       " ('married', 0.5143395066261292)]"
      ]
     },
     "execution_count": 12,
     "metadata": {},
     "output_type": "execute_result"
    }
   ],
   "source": [
    "definition_300d('man', 'unmarried')"
   ]
  },
  {
   "cell_type": "code",
   "execution_count": 55,
   "metadata": {},
   "outputs": [
    {
     "data": {
      "text/plain": [
       "array([[0.24648492]], dtype=float32)"
      ]
     },
     "execution_count": 55,
     "metadata": {},
     "output_type": "execute_result"
    }
   ],
   "source": [
    "calculate_similarity('man', 'unmarried', 'bachelor')"
   ]
  },
  {
   "cell_type": "code",
   "execution_count": 34,
   "metadata": {},
   "outputs": [
    {
     "data": {
      "text/plain": [
       "[('wife', 0.8625936508178711),\n",
       " ('father', 0.8617380261421204),\n",
       " ('daughter', 0.8578408360481262),\n",
       " ('mother', 0.8562560081481934),\n",
       " ('husband', 0.8406583666801453),\n",
       " ('woman', 0.8323313593864441),\n",
       " ('son', 0.8255986571311951),\n",
       " ('brother', 0.8143599629402161),\n",
       " ('friend', 0.8068794012069702),\n",
       " ('couple', 0.7818995118141174)]"
      ]
     },
     "execution_count": 34,
     "metadata": {},
     "output_type": "execute_result"
    }
   ],
   "source": [
    "definition('man', 'married')"
   ]
  },
  {
   "cell_type": "code",
   "execution_count": 13,
   "metadata": {},
   "outputs": [
    {
     "data": {
      "text/plain": [
       "[('wife', 0.7292513251304626),\n",
       " ('woman', 0.723426342010498),\n",
       " ('father', 0.6977101564407349),\n",
       " ('husband', 0.6957255601882935),\n",
       " ('daughter', 0.695209264755249),\n",
       " ('mother', 0.6820749640464783),\n",
       " ('son', 0.6648902893066406),\n",
       " ('whom', 0.6425804495811462),\n",
       " ('who', 0.6358213424682617),\n",
       " ('brother', 0.6327465176582336)]"
      ]
     },
     "execution_count": 13,
     "metadata": {},
     "output_type": "execute_result"
    }
   ],
   "source": [
    "definition_300d('man', 'married')"
   ]
  },
  {
   "cell_type": "code",
   "execution_count": 58,
   "metadata": {},
   "outputs": [
    {
     "data": {
      "text/plain": [
       "array([[0.8438991]], dtype=float32)"
      ]
     },
     "execution_count": 58,
     "metadata": {},
     "output_type": "execute_result"
    }
   ],
   "source": [
    "calculate_similarity('man', 'married', 'husband')"
   ]
  },
  {
   "cell_type": "markdown",
   "metadata": {},
   "source": [
    "### 'man' + 'sibling' = 'brother' and variations"
   ]
  },
  {
   "cell_type": "code",
   "execution_count": 35,
   "metadata": {},
   "outputs": [
    {
     "data": {
      "text/plain": [
       "[('woman', 0.7361669540405273),\n",
       " ('boy', 0.7141108512878418),\n",
       " ('sister', 0.7016093730926514),\n",
       " ('mother', 0.7012602686882019),\n",
       " ('father', 0.7009888887405396),\n",
       " ('brother', 0.7004384398460388),\n",
       " ('girl', 0.6949325203895569),\n",
       " ('old', 0.6894643306732178),\n",
       " ('cousin', 0.689385712146759),\n",
       " ('husband', 0.6875988841056824)]"
      ]
     },
     "execution_count": 35,
     "metadata": {},
     "output_type": "execute_result"
    }
   ],
   "source": [
    "deifnition('man', 'sibling')"
   ]
  },
  {
   "cell_type": "code",
   "execution_count": 15,
   "metadata": {},
   "outputs": [
    {
     "data": {
      "text/plain": [
       "[('brother', 0.6034399271011353),\n",
       " ('woman', 0.5631415843963623),\n",
       " ('boy', 0.56154465675354),\n",
       " ('father', 0.5563958883285522),\n",
       " ('person', 0.545726478099823),\n",
       " ('siblings', 0.5419252514839172),\n",
       " ('son', 0.5360830426216125),\n",
       " ('sister', 0.5275253653526306),\n",
       " ('another', 0.523565948009491),\n",
       " ('cousin', 0.5221625566482544)]"
      ]
     },
     "execution_count": 15,
     "metadata": {},
     "output_type": "execute_result"
    }
   ],
   "source": [
    "definition_300d('man', 'sibling')"
   ]
  },
  {
   "cell_type": "code",
   "execution_count": 59,
   "metadata": {},
   "outputs": [
    {
     "data": {
      "text/plain": [
       "array([[0.71456873]], dtype=float32)"
      ]
     },
     "execution_count": 59,
     "metadata": {},
     "output_type": "execute_result"
    }
   ],
   "source": [
    "calculate_similarity('man', 'sibling', 'brother')"
   ]
  },
  {
   "cell_type": "code",
   "execution_count": 38,
   "metadata": {},
   "outputs": [
    {
     "data": {
      "text/plain": [
       "[('mother', 0.831328272819519),\n",
       " ('father', 0.8232245445251465),\n",
       " ('brother', 0.8065662980079651),\n",
       " ('daughter', 0.7940962314605713),\n",
       " ('daughters', 0.7939693331718445),\n",
       " ('couple', 0.7888948321342468),\n",
       " ('parents', 0.7833898663520813),\n",
       " ('son', 0.777420163154602),\n",
       " ('woman', 0.776724636554718),\n",
       " ('boy', 0.7763882279396057)]"
      ]
     },
     "execution_count": 38,
     "metadata": {},
     "output_type": "execute_result"
    }
   ],
   "source": [
    "definition('man', 'siblings')"
   ]
  },
  {
   "cell_type": "code",
   "execution_count": 16,
   "metadata": {},
   "outputs": [
    {
     "data": {
      "text/plain": [
       "[('brother', 0.7179766893386841),\n",
       " ('father', 0.7076143622398376),\n",
       " ('mother', 0.6765961050987244),\n",
       " ('boy', 0.6628767848014832),\n",
       " ('son', 0.6588661670684814),\n",
       " ('daughters', 0.6247597336769104),\n",
       " ('daughter', 0.6227795481681824),\n",
       " ('woman', 0.6163303852081299),\n",
       " ('parents', 0.6153721809387207),\n",
       " ('sons', 0.6127268075942993)]"
      ]
     },
     "execution_count": 16,
     "metadata": {},
     "output_type": "execute_result"
    }
   ],
   "source": [
    "definition_300d('man', 'siblings')"
   ]
  },
  {
   "cell_type": "code",
   "execution_count": 63,
   "metadata": {},
   "outputs": [
    {
     "data": {
      "text/plain": [
       "array([[0.80870104]], dtype=float32)"
      ]
     },
     "execution_count": 63,
     "metadata": {},
     "output_type": "execute_result"
    }
   ],
   "source": [
    "calculate_similarity('man', 'siblings', 'brother')"
   ]
  },
  {
   "cell_type": "code",
   "execution_count": 40,
   "metadata": {},
   "outputs": [
    {
     "data": {
      "text/plain": [
       "[('girls', 0.8442649841308594),\n",
       " ('daughters', 0.8137844800949097),\n",
       " ('parents', 0.8068130016326904),\n",
       " ('sisters', 0.7994521856307983),\n",
       " ('children', 0.7879793643951416),\n",
       " ('wives', 0.7606745958328247),\n",
       " ('sons', 0.7523584961891174),\n",
       " ('kids', 0.7394457459449768),\n",
       " ('mothers', 0.7384538054466248),\n",
       " ('cousins', 0.7275663614273071)]"
      ]
     },
     "execution_count": 40,
     "metadata": {},
     "output_type": "execute_result"
    }
   ],
   "source": [
    "definition('boys', 'siblings')"
   ]
  },
  {
   "cell_type": "code",
   "execution_count": 17,
   "metadata": {},
   "outputs": [
    {
     "data": {
      "text/plain": [
       "[('girls', 0.7515750527381897),\n",
       " ('parents', 0.7100813984870911),\n",
       " ('children', 0.6979014873504639),\n",
       " ('daughters', 0.6948514580726624),\n",
       " ('sisters', 0.6566587686538696),\n",
       " ('kids', 0.6551515460014343),\n",
       " ('boy', 0.6459047198295593),\n",
       " ('sons', 0.6436418890953064),\n",
       " ('younger', 0.630037784576416),\n",
       " ('grandparents', 0.6026526689529419)]"
      ]
     },
     "execution_count": 17,
     "metadata": {},
     "output_type": "execute_result"
    }
   ],
   "source": [
    "definition_300d('boys', 'siblings')"
   ]
  },
  {
   "cell_type": "code",
   "execution_count": 61,
   "metadata": {},
   "outputs": [
    {
     "data": {
      "text/plain": [
       "array([[0.6346437]], dtype=float32)"
      ]
     },
     "execution_count": 61,
     "metadata": {},
     "output_type": "execute_result"
    }
   ],
   "source": [
    "calculate_similarity('boys', 'siblings', 'brother')"
   ]
  },
  {
   "cell_type": "code",
   "execution_count": 18,
   "metadata": {},
   "outputs": [
    {
     "data": {
      "text/plain": [
       "[('female', 0.792033314704895),\n",
       " ('offspring', 0.6855543851852417),\n",
       " ('siblings', 0.6600726842880249),\n",
       " ('adult', 0.6374537944793701),\n",
       " ('older', 0.6364030241966248),\n",
       " ('younger', 0.6293515563011169),\n",
       " ('teenage', 0.6042073965072632),\n",
       " ('child', 0.5940395593643188),\n",
       " ('age', 0.5822728872299194),\n",
       " ('heterosexual', 0.5779051184654236)]"
      ]
     },
     "execution_count": 18,
     "metadata": {},
     "output_type": "execute_result"
    }
   ],
   "source": [
    "definition('male', 'sibling')"
   ]
  },
  {
   "cell_type": "code",
   "execution_count": 19,
   "metadata": {},
   "outputs": [
    {
     "data": {
      "text/plain": [
       "[('female', 0.6721418499946594),\n",
       " ('siblings', 0.5821443200111389),\n",
       " ('offspring', 0.5680257678031921),\n",
       " ('younger', 0.5557777881622314),\n",
       " ('adult', 0.5555258989334106),\n",
       " ('males', 0.5307093262672424),\n",
       " ('older', 0.5281656980514526),\n",
       " ('females', 0.47854527831077576),\n",
       " ('spouse', 0.46651503443717957),\n",
       " ('teenage', 0.46035030484199524)]"
      ]
     },
     "execution_count": 19,
     "metadata": {},
     "output_type": "execute_result"
    }
   ],
   "source": [
    "definition_300d('male', 'sibling')"
   ]
  },
  {
   "cell_type": "code",
   "execution_count": 65,
   "metadata": {},
   "outputs": [
    {
     "data": {
      "text/plain": [
       "array([[0.45691442]], dtype=float32)"
      ]
     },
     "execution_count": 65,
     "metadata": {},
     "output_type": "execute_result"
    }
   ],
   "source": [
    "calculate_similarity('male', 'sibling', 'brother')"
   ]
  },
  {
   "cell_type": "code",
   "execution_count": 20,
   "metadata": {},
   "outputs": [
    {
     "data": {
      "text/plain": [
       "[('female', 0.8215169906616211),\n",
       " ('younger', 0.7605322003364563),\n",
       " ('daughters', 0.7517505288124084),\n",
       " ('older', 0.7497366666793823),\n",
       " ('offspring', 0.7340948581695557),\n",
       " ('children', 0.7283878326416016),\n",
       " ('wives', 0.7223488092422485),\n",
       " ('parents', 0.7122332453727722),\n",
       " ('child', 0.7094624042510986),\n",
       " ('mothers', 0.7060766220092773)]"
      ]
     },
     "execution_count": 20,
     "metadata": {},
     "output_type": "execute_result"
    }
   ],
   "source": [
    "definition('male', 'siblings')"
   ]
  },
  {
   "cell_type": "code",
   "execution_count": 21,
   "metadata": {},
   "outputs": [
    {
     "data": {
      "text/plain": [
       "[('female', 0.6994714736938477),\n",
       " ('younger', 0.6667450070381165),\n",
       " ('daughters', 0.6269418597221375),\n",
       " ('older', 0.6267310380935669),\n",
       " ('parents', 0.6101293563842773),\n",
       " ('offspring', 0.6061515808105469),\n",
       " ('adult', 0.581416130065918),\n",
       " ('children', 0.5795009136199951),\n",
       " ('cousins', 0.5776026248931885),\n",
       " ('sibling', 0.5571399927139282)]"
      ]
     },
     "execution_count": 21,
     "metadata": {},
     "output_type": "execute_result"
    }
   ],
   "source": [
    "definition_300d('male', 'siblings')"
   ]
  },
  {
   "cell_type": "code",
   "execution_count": 66,
   "metadata": {},
   "outputs": [
    {
     "data": {
      "text/plain": [
       "array([[0.5659557]], dtype=float32)"
      ]
     },
     "execution_count": 66,
     "metadata": {},
     "output_type": "execute_result"
    }
   ],
   "source": [
    "calculate_similarity('male', 'siblings', 'brother')"
   ]
  },
  {
   "cell_type": "markdown",
   "metadata": {},
   "source": [
    "### 'female' + 'siblings' = 'sisters' and variations"
   ]
  },
  {
   "cell_type": "code",
   "execution_count": 41,
   "metadata": {},
   "outputs": [
    {
     "data": {
      "text/plain": [
       "[('male', 0.8359555006027222),\n",
       " ('daughters', 0.7697874307632446),\n",
       " ('younger', 0.7622777819633484),\n",
       " ('children', 0.7363816499710083),\n",
       " ('older', 0.733374297618866),\n",
       " ('sisters', 0.7206032276153564),\n",
       " ('parents', 0.7201247215270996),\n",
       " ('child', 0.7192729115486145),\n",
       " ('wives', 0.7162964344024658),\n",
       " ('mothers', 0.7024577856063843)]"
      ]
     },
     "execution_count": 41,
     "metadata": {},
     "output_type": "execute_result"
    }
   ],
   "source": [
    "definition('female', 'siblings')"
   ]
  },
  {
   "cell_type": "code",
   "execution_count": 22,
   "metadata": {},
   "outputs": [
    {
     "data": {
      "text/plain": [
       "[('male', 0.7708662152290344),\n",
       " ('daughters', 0.6533423066139221),\n",
       " ('younger', 0.64931720495224),\n",
       " ('parents', 0.6057436466217041),\n",
       " ('older', 0.6045342683792114),\n",
       " ('children', 0.597601056098938),\n",
       " ('mother', 0.5867751240730286),\n",
       " ('offspring', 0.5863634943962097),\n",
       " ('adult', 0.5797701478004456),\n",
       " ('child', 0.5736057758331299)]"
      ]
     },
     "execution_count": 22,
     "metadata": {},
     "output_type": "execute_result"
    }
   ],
   "source": [
    "definition_300d('female', 'siblings')"
   ]
  },
  {
   "cell_type": "code",
   "execution_count": 68,
   "metadata": {},
   "outputs": [
    {
     "data": {
      "text/plain": [
       "array([[0.69978017]], dtype=float32)"
      ]
     },
     "execution_count": 68,
     "metadata": {},
     "output_type": "execute_result"
    }
   ],
   "source": [
    "calculate_similarity('female', 'siblings', 'sisters')"
   ]
  },
  {
   "cell_type": "code",
   "execution_count": 28,
   "metadata": {},
   "outputs": [
    {
     "data": {
      "text/plain": [
       "[('male', 0.8382307887077332),\n",
       " ('siblings', 0.6623550653457642),\n",
       " ('offspring', 0.6500701308250427),\n",
       " ('adult', 0.6476441621780396),\n",
       " ('younger', 0.6384185552597046),\n",
       " ('teenage', 0.6355264782905579),\n",
       " ('woman', 0.6274023056030273),\n",
       " ('older', 0.6271515488624573),\n",
       " ('child', 0.6109919548034668),\n",
       " ('sister', 0.6051296591758728)]"
      ]
     },
     "execution_count": 28,
     "metadata": {},
     "output_type": "execute_result"
    }
   ],
   "source": [
    "definition('female', 'sibling')"
   ]
  },
  {
   "cell_type": "code",
   "execution_count": 29,
   "metadata": {},
   "outputs": [
    {
     "data": {
      "text/plain": [
       "[('male', 0.7697254419326782),\n",
       " ('adult', 0.5595094561576843),\n",
       " ('siblings', 0.5565780401229858),\n",
       " ('offspring', 0.5531947016716003),\n",
       " ('younger', 0.5409057140350342),\n",
       " ('older', 0.5084829330444336),\n",
       " ('youngest', 0.49774616956710815),\n",
       " ('woman', 0.48929962515830994),\n",
       " ('spouse', 0.48802831768989563),\n",
       " ('child', 0.48531606793403625)]"
      ]
     },
     "execution_count": 29,
     "metadata": {},
     "output_type": "execute_result"
    }
   ],
   "source": [
    "definition_300d('female', 'sibling')"
   ]
  },
  {
   "cell_type": "code",
   "execution_count": 71,
   "metadata": {},
   "outputs": [
    {
     "data": {
      "text/plain": [
       "array([[0.5975423]], dtype=float32)"
      ]
     },
     "execution_count": 71,
     "metadata": {},
     "output_type": "execute_result"
    }
   ],
   "source": [
    "calculate_similarity('female', 'sibling', 'sister')"
   ]
  },
  {
   "cell_type": "code",
   "execution_count": 42,
   "metadata": {},
   "outputs": [
    {
     "data": {
      "text/plain": [
       "[('mother', 0.8779049515724182),\n",
       " ('daughters', 0.849395215511322),\n",
       " ('daughter', 0.834620475769043),\n",
       " ('parents', 0.8141969442367554),\n",
       " ('sister', 0.8087382912635803),\n",
       " ('wife', 0.8057864308357239),\n",
       " ('girl', 0.8014374375343323),\n",
       " ('child', 0.7983404994010925),\n",
       " ('children', 0.7874230742454529),\n",
       " ('couple', 0.785481333732605)]"
      ]
     },
     "execution_count": 42,
     "metadata": {},
     "output_type": "execute_result"
    }
   ],
   "source": [
    "definition('woman', 'siblings')"
   ]
  },
  {
   "cell_type": "code",
   "execution_count": 23,
   "metadata": {},
   "outputs": [
    {
     "data": {
      "text/plain": [
       "[('mother', 0.8026262521743774),\n",
       " ('daughter', 0.7382708787918091),\n",
       " ('daughters', 0.7369828820228577),\n",
       " ('girl', 0.7010666131973267),\n",
       " ('grandmother', 0.692963719367981),\n",
       " ('wife', 0.6885506510734558),\n",
       " ('parents', 0.684693455696106),\n",
       " ('sister', 0.6800177693367004),\n",
       " ('child', 0.6582188606262207),\n",
       " ('husband', 0.6524820327758789)]"
      ]
     },
     "execution_count": 23,
     "metadata": {},
     "output_type": "execute_result"
    }
   ],
   "source": [
    "definition_300d('woman', 'siblings')"
   ]
  },
  {
   "cell_type": "code",
   "execution_count": 72,
   "metadata": {},
   "outputs": [
    {
     "data": {
      "text/plain": [
       "array([[0.8058896]], dtype=float32)"
      ]
     },
     "execution_count": 72,
     "metadata": {},
     "output_type": "execute_result"
    }
   ],
   "source": [
    "calculate_similarity('woman', 'siblings', 'sister')"
   ]
  },
  {
   "cell_type": "code",
   "execution_count": 30,
   "metadata": {},
   "outputs": [
    {
     "data": {
      "text/plain": [
       "[('mother', 0.7573694586753845),\n",
       " ('sister', 0.7480304837226868),\n",
       " ('girl', 0.7454620599746704),\n",
       " ('daughter', 0.7285175919532776),\n",
       " ('husband', 0.7076904773712158),\n",
       " ('child', 0.7028422951698303),\n",
       " ('female', 0.6914132833480835),\n",
       " ('wife', 0.6902039647102356),\n",
       " ('male', 0.6832150816917419),\n",
       " ('boy', 0.6797403693199158)]"
      ]
     },
     "execution_count": 30,
     "metadata": {},
     "output_type": "execute_result"
    }
   ],
   "source": [
    "definition('woman', 'sibling')"
   ]
  },
  {
   "cell_type": "code",
   "execution_count": 31,
   "metadata": {},
   "outputs": [
    {
     "data": {
      "text/plain": [
       "[('mother', 0.6591885089874268),\n",
       " ('sister', 0.6344946622848511),\n",
       " ('girl', 0.6248164772987366),\n",
       " ('daughter', 0.6147672533988953),\n",
       " ('child', 0.5877892374992371),\n",
       " ('siblings', 0.574110209941864),\n",
       " ('grandmother', 0.5471194386482239),\n",
       " ('male', 0.5452283024787903),\n",
       " ('spouse', 0.5451955199241638),\n",
       " ('female', 0.5398475527763367)]"
      ]
     },
     "execution_count": 31,
     "metadata": {},
     "output_type": "execute_result"
    }
   ],
   "source": [
    "definition_300d('woman', 'sibling')"
   ]
  },
  {
   "cell_type": "code",
   "execution_count": 73,
   "metadata": {},
   "outputs": [
    {
     "data": {
      "text/plain": [
       "array([[0.7543833]], dtype=float32)"
      ]
     },
     "execution_count": 73,
     "metadata": {},
     "output_type": "execute_result"
    }
   ],
   "source": [
    "calculate_similarity('woman', 'sibling', 'sister')"
   ]
  },
  {
   "cell_type": "code",
   "execution_count": 43,
   "metadata": {},
   "outputs": [
    {
     "data": {
      "text/plain": [
       "[('daughters', 0.8481532335281372),\n",
       " ('mother', 0.8339701890945435),\n",
       " ('daughter', 0.8201621770858765),\n",
       " ('sister', 0.8141985535621643),\n",
       " ('boy', 0.8040753602981567),\n",
       " ('parents', 0.8025711178779602),\n",
       " ('child', 0.7809332609176636),\n",
       " ('girls', 0.7796710133552551),\n",
       " ('sisters', 0.7791102528572083),\n",
       " ('children', 0.7709638476371765)]"
      ]
     },
     "execution_count": 43,
     "metadata": {},
     "output_type": "execute_result"
    }
   ],
   "source": [
    "definition('girl', 'siblings')"
   ]
  },
  {
   "cell_type": "code",
   "execution_count": 24,
   "metadata": {},
   "outputs": [
    {
     "data": {
      "text/plain": [
       "[('boy', 0.7384527325630188),\n",
       " ('daughters', 0.7363393306732178),\n",
       " ('mother', 0.7348366975784302),\n",
       " ('parents', 0.7229806184768677),\n",
       " ('daughter', 0.7228127717971802),\n",
       " ('sister', 0.6973134279251099),\n",
       " ('girls', 0.6810939311981201),\n",
       " ('child', 0.6802092790603638),\n",
       " ('grandmother', 0.6732290983200073),\n",
       " ('sisters', 0.6646929383277893)]"
      ]
     },
     "execution_count": 24,
     "metadata": {},
     "output_type": "execute_result"
    }
   ],
   "source": [
    "definition_300d('girl', 'siblings')"
   ]
  },
  {
   "cell_type": "code",
   "execution_count": 74,
   "metadata": {},
   "outputs": [
    {
     "data": {
      "text/plain": [
       "array([[0.7677466]], dtype=float32)"
      ]
     },
     "execution_count": 74,
     "metadata": {},
     "output_type": "execute_result"
    }
   ],
   "source": [
    "calculate_similarity('girl', 'siblings', 'sisters')"
   ]
  },
  {
   "cell_type": "code",
   "execution_count": 26,
   "metadata": {},
   "outputs": [
    {
     "data": {
      "text/plain": [
       "[('sister', 0.7638739943504333),\n",
       " ('boy', 0.7581804394721985),\n",
       " ('daughter', 0.7243503332138062),\n",
       " ('teenage', 0.7229381203651428),\n",
       " ('mother', 0.7229083180427551),\n",
       " ('woman', 0.7120601534843445),\n",
       " ('siblings', 0.6974316835403442),\n",
       " ('child', 0.6950110793113708),\n",
       " ('toddler', 0.6934158802032471),\n",
       " ('baby', 0.6900186538696289)]"
      ]
     },
     "execution_count": 26,
     "metadata": {},
     "output_type": "execute_result"
    }
   ],
   "source": [
    "definition('girl', 'sibling')"
   ]
  },
  {
   "cell_type": "code",
   "execution_count": 27,
   "metadata": {},
   "outputs": [
    {
     "data": {
      "text/plain": [
       "[('sister', 0.6665235757827759),\n",
       " ('boy', 0.6638965010643005),\n",
       " ('siblings', 0.6382166743278503),\n",
       " ('child', 0.6252896785736084),\n",
       " ('daughter', 0.6155028343200684),\n",
       " ('mother', 0.6058690547943115),\n",
       " ('teenage', 0.592934787273407),\n",
       " ('niece', 0.5739392638206482),\n",
       " ('girls', 0.5708860754966736),\n",
       " ('baby', 0.5577054619789124)]"
      ]
     },
     "execution_count": 27,
     "metadata": {},
     "output_type": "execute_result"
    }
   ],
   "source": [
    "definition_300d('girl', 'sibling')"
   ]
  },
  {
   "cell_type": "code",
   "execution_count": 75,
   "metadata": {},
   "outputs": [
    {
     "data": {
      "text/plain": [
       "array([[0.7725565]], dtype=float32)"
      ]
     },
     "execution_count": 75,
     "metadata": {},
     "output_type": "execute_result"
    }
   ],
   "source": [
    "calculate_similarity('girl', 'sibling', 'sister')"
   ]
  },
  {
   "cell_type": "markdown",
   "metadata": {},
   "source": [
    "### 'girl' + 'children' = 'daughter' and variations"
   ]
  },
  {
   "cell_type": "code",
   "execution_count": 44,
   "metadata": {},
   "outputs": [
    {
     "data": {
      "text/plain": [
       "[('child', 0.886604905128479),\n",
       " ('girls', 0.8535959124565125),\n",
       " ('boy', 0.8525450229644775),\n",
       " ('mother', 0.8281201720237732),\n",
       " ('woman', 0.8268085718154907),\n",
       " ('parents', 0.8134887218475342),\n",
       " ('boys', 0.7949939370155334),\n",
       " ('baby', 0.7723804116249084),\n",
       " ('daughter', 0.7696700692176819),\n",
       " ('pregnant', 0.7669316530227661)]"
      ]
     },
     "execution_count": 44,
     "metadata": {},
     "output_type": "execute_result"
    }
   ],
   "source": [
    "definition('girl', 'children')"
   ]
  },
  {
   "cell_type": "code",
   "execution_count": 32,
   "metadata": {},
   "outputs": [
    {
     "data": {
      "text/plain": [
       "[('child', 0.7879396080970764),\n",
       " ('girls', 0.7792677879333496),\n",
       " ('boy', 0.7619722485542297),\n",
       " ('parents', 0.7411299347877502),\n",
       " ('kids', 0.7217090129852295),\n",
       " ('mother', 0.6994401216506958),\n",
       " ('boys', 0.6920749545097351),\n",
       " ('daughter', 0.6760267019271851),\n",
       " ('woman', 0.6596529483795166),\n",
       " ('daughters', 0.644815981388092)]"
      ]
     },
     "execution_count": 32,
     "metadata": {},
     "output_type": "execute_result"
    }
   ],
   "source": [
    "definition_300d('girl', 'children')"
   ]
  },
  {
   "cell_type": "code",
   "execution_count": 76,
   "metadata": {},
   "outputs": [
    {
     "data": {
      "text/plain": [
       "array([[0.7682451]], dtype=float32)"
      ]
     },
     "execution_count": 76,
     "metadata": {},
     "output_type": "execute_result"
    }
   ],
   "source": [
    "calculate_similarity('girl', 'children', 'daughter')"
   ]
  },
  {
   "cell_type": "code",
   "execution_count": 45,
   "metadata": {},
   "outputs": [
    {
     "data": {
      "text/plain": [
       "[('child', 0.8859902620315552),\n",
       " ('mother', 0.8509006500244141),\n",
       " ('girl', 0.8303909301757812),\n",
       " ('parents', 0.8068933486938477),\n",
       " ('women', 0.7791352868080139),\n",
       " ('she', 0.7788202166557312),\n",
       " ('pregnant', 0.7787449955940247),\n",
       " ('boy', 0.7738879323005676),\n",
       " ('her', 0.769166111946106),\n",
       " ('young', 0.7673245072364807)]"
      ]
     },
     "execution_count": 45,
     "metadata": {},
     "output_type": "execute_result"
    }
   ],
   "source": [
    "definition('woman', 'children')"
   ]
  },
  {
   "cell_type": "code",
   "execution_count": 33,
   "metadata": {},
   "outputs": [
    {
     "data": {
      "text/plain": [
       "[('child', 0.7599184513092041),\n",
       " ('mother', 0.7502972483634949),\n",
       " ('girl', 0.7349914908409119),\n",
       " ('parents', 0.694279134273529),\n",
       " ('daughter', 0.6775768399238586),\n",
       " ('her', 0.6636809706687927),\n",
       " ('women', 0.6613084673881531),\n",
       " ('she', 0.6520648002624512),\n",
       " ('girls', 0.6514615416526794),\n",
       " ('young', 0.647993803024292)]"
      ]
     },
     "execution_count": 33,
     "metadata": {},
     "output_type": "execute_result"
    }
   ],
   "source": [
    "definition_300d('woman', 'children')"
   ]
  },
  {
   "cell_type": "code",
   "execution_count": 77,
   "metadata": {},
   "outputs": [
    {
     "data": {
      "text/plain": [
       "array([[0.76445735]], dtype=float32)"
      ]
     },
     "execution_count": 77,
     "metadata": {},
     "output_type": "execute_result"
    }
   ],
   "source": [
    "calculate_similarity('woman', 'children', 'daughter')"
   ]
  },
  {
   "cell_type": "code",
   "execution_count": 46,
   "metadata": {},
   "outputs": [
    {
     "data": {
      "text/plain": [
       "[('male', 0.8574326038360596),\n",
       " ('child', 0.8380101323127747),\n",
       " ('women', 0.8125495314598083),\n",
       " ('young', 0.7888067960739136),\n",
       " ('girls', 0.7795611023902893),\n",
       " ('woman', 0.776369035243988),\n",
       " ('adult', 0.761245846748352),\n",
       " ('mothers', 0.7439872026443481),\n",
       " ('parents', 0.7428076267242432),\n",
       " ('pregnant', 0.7315382957458496)]"
      ]
     },
     "execution_count": 46,
     "metadata": {},
     "output_type": "execute_result"
    }
   ],
   "source": [
    "definition('female', 'children')"
   ]
  },
  {
   "cell_type": "code",
   "execution_count": 34,
   "metadata": {},
   "outputs": [
    {
     "data": {
      "text/plain": [
       "[('male', 0.7566388249397278),\n",
       " ('child', 0.6960158944129944),\n",
       " ('women', 0.6858314275741577),\n",
       " ('young', 0.661391019821167),\n",
       " ('girls', 0.6555755138397217),\n",
       " ('adult', 0.6462522745132446),\n",
       " ('parents', 0.6341460347175598),\n",
       " ('woman', 0.6337342262268066),\n",
       " ('adults', 0.6003085374832153),\n",
       " ('mothers', 0.5944299101829529)]"
      ]
     },
     "execution_count": 34,
     "metadata": {},
     "output_type": "execute_result"
    }
   ],
   "source": [
    "definition_300d('female', 'children')"
   ]
  },
  {
   "cell_type": "code",
   "execution_count": 78,
   "metadata": {},
   "outputs": [
    {
     "data": {
      "text/plain": [
       "array([[0.64307594]], dtype=float32)"
      ]
     },
     "execution_count": 78,
     "metadata": {},
     "output_type": "execute_result"
    }
   ],
   "source": [
    "calculate_similarity('female', 'children', 'daughter')"
   ]
  },
  {
   "cell_type": "code",
   "execution_count": 48,
   "metadata": {},
   "outputs": [
    {
     "data": {
      "text/plain": [
       "[('male', 0.7095398306846619),\n",
       " ('offspring', 0.688175618648529),\n",
       " ('siblings', 0.600884199142456),\n",
       " ('spouses', 0.6006006598472595),\n",
       " ('wives', 0.5958591103553772),\n",
       " ('husbands', 0.5817289352416992),\n",
       " ('progeny', 0.5592339634895325),\n",
       " ('protagonists', 0.5539281368255615),\n",
       " ('genitalia', 0.5478838086128235),\n",
       " ('girlfriends', 0.5273348689079285)]"
      ]
     },
     "execution_count": 48,
     "metadata": {},
     "output_type": "execute_result"
    }
   ],
   "source": [
    "definition('female', 'offsprings')"
   ]
  },
  {
   "cell_type": "code",
   "execution_count": 35,
   "metadata": {},
   "outputs": [
    {
     "data": {
      "text/plain": [
       "[('male', 0.6583625674247742),\n",
       " ('offspring', 0.5315585136413574),\n",
       " ('gametes', 0.43372949957847595),\n",
       " ('progeny', 0.41627082228660583),\n",
       " ('gonads', 0.411285936832428),\n",
       " ('females', 0.40803220868110657),\n",
       " ('genitalia', 0.40111616253852844),\n",
       " ('unmarried', 0.3996923267841339),\n",
       " ('protagonists', 0.3902529776096344),\n",
       " ('trainees', 0.38945841789245605)]"
      ]
     },
     "execution_count": 35,
     "metadata": {},
     "output_type": "execute_result"
    }
   ],
   "source": [
    "definition_300d('female', 'offsprings')"
   ]
  },
  {
   "cell_type": "code",
   "execution_count": 79,
   "metadata": {},
   "outputs": [
    {
     "data": {
      "text/plain": [
       "array([[0.39938354]], dtype=float32)"
      ]
     },
     "execution_count": 79,
     "metadata": {},
     "output_type": "execute_result"
    }
   ],
   "source": [
    "calculate_similarity('female', 'offsprings', 'daughter')"
   ]
  },
  {
   "cell_type": "code",
   "execution_count": 36,
   "metadata": {},
   "outputs": [
    {
     "data": {
      "text/plain": [
       "[('siblings', 0.6576163172721863),\n",
       " ('husbands', 0.6404382586479187),\n",
       " ('wives', 0.6365442872047424),\n",
       " ('daughters', 0.6234209537506104),\n",
       " ('offspring', 0.617749810218811),\n",
       " ('spouses', 0.588084876537323),\n",
       " ('pregnant', 0.5867756009101868),\n",
       " ('mother', 0.5764126777648926),\n",
       " ('female', 0.5692703723907471),\n",
       " ('male', 0.5688695907592773)]"
      ]
     },
     "execution_count": 36,
     "metadata": {},
     "output_type": "execute_result"
    }
   ],
   "source": [
    "definition('woman', 'offsprings')"
   ]
  },
  {
   "cell_type": "code",
   "execution_count": 37,
   "metadata": {},
   "outputs": [
    {
     "data": {
      "text/plain": [
       "[('female', 0.4957338869571686),\n",
       " ('mother', 0.47116518020629883),\n",
       " ('pregnant', 0.47105303406715393),\n",
       " ('girl', 0.4570048749446869),\n",
       " ('male', 0.45187920331954956),\n",
       " ('daughter', 0.4516623914241791),\n",
       " ('daughters', 0.4442852735519409),\n",
       " ('unmarried', 0.4414706230163574),\n",
       " ('offspring', 0.4405021667480469),\n",
       " ('wife', 0.4342300593852997)]"
      ]
     },
     "execution_count": 37,
     "metadata": {},
     "output_type": "execute_result"
    }
   ],
   "source": [
    "definition_300d('woman', 'offsprings')"
   ]
  },
  {
   "cell_type": "code",
   "execution_count": 80,
   "metadata": {},
   "outputs": [
    {
     "data": {
      "text/plain": [
       "array([[0.69001687]], dtype=float32)"
      ]
     },
     "execution_count": 80,
     "metadata": {},
     "output_type": "execute_result"
    }
   ],
   "source": [
    "calculate_similarity('woman', 'offsprings', 'daughter')"
   ]
  },
  {
   "cell_type": "markdown",
   "metadata": {},
   "source": [
    "### 'woman' + 'spouses' = 'wives'/'wife', 'man' + 'spouses' = 'husband' and variations"
   ]
  },
  {
   "cell_type": "code",
   "execution_count": 49,
   "metadata": {},
   "outputs": [
    {
     "data": {
      "text/plain": [
       "[('parents', 0.7681692242622375),\n",
       " ('mother', 0.7526997327804565),\n",
       " ('pregnant', 0.7449538707733154),\n",
       " ('child', 0.7423197031021118),\n",
       " ('spouse', 0.7361156344413757),\n",
       " ('wives', 0.7301071882247925),\n",
       " ('couple', 0.7288706302642822),\n",
       " ('husbands', 0.7234518527984619),\n",
       " ('children', 0.7203859686851501),\n",
       " ('wife', 0.7164435982704163)]"
      ]
     },
     "execution_count": 49,
     "metadata": {},
     "output_type": "execute_result"
    }
   ],
   "source": [
    "definition('woman', 'spouses')"
   ]
  },
  {
   "cell_type": "code",
   "execution_count": 38,
   "metadata": {},
   "outputs": [
    {
     "data": {
      "text/plain": [
       "[('spouse', 0.6913601756095886),\n",
       " ('wives', 0.6204648017883301),\n",
       " ('husbands', 0.618625283241272),\n",
       " ('mother', 0.6058530807495117),\n",
       " ('wife', 0.6057422161102295),\n",
       " ('pregnant', 0.5965089797973633),\n",
       " ('couple', 0.586215615272522),\n",
       " ('parents', 0.5861546993255615),\n",
       " ('husband', 0.5838871598243713),\n",
       " ('women', 0.5832949876785278)]"
      ]
     },
     "execution_count": 38,
     "metadata": {},
     "output_type": "execute_result"
    }
   ],
   "source": [
    "definition_300d('woman', 'spouses')"
   ]
  },
  {
   "cell_type": "code",
   "execution_count": 81,
   "metadata": {},
   "outputs": [
    {
     "data": {
      "text/plain": [
       "array([[0.7186432]], dtype=float32)"
      ]
     },
     "execution_count": 81,
     "metadata": {},
     "output_type": "execute_result"
    }
   ],
   "source": [
    "calculate_similarity('woman', 'spouses', 'wives')"
   ]
  },
  {
   "cell_type": "code",
   "execution_count": 82,
   "metadata": {},
   "outputs": [
    {
     "data": {
      "text/plain": [
       "array([[0.7275724]], dtype=float32)"
      ]
     },
     "execution_count": 82,
     "metadata": {},
     "output_type": "execute_result"
    }
   ],
   "source": [
    "calculate_similarity('woman', 'spouses', 'wife')"
   ]
  },
  {
   "cell_type": "code",
   "execution_count": 53,
   "metadata": {},
   "outputs": [
    {
     "data": {
      "text/plain": [
       "[('female', 0.8126022219657898),\n",
       " ('wives', 0.7350186109542847),\n",
       " ('husbands', 0.7245387434959412),\n",
       " ('mothers', 0.7060080170631409),\n",
       " ('couples', 0.6785614490509033),\n",
       " ('offspring', 0.6780828237533569),\n",
       " ('unmarried', 0.6756021976470947),\n",
       " ('spouse', 0.6748630404472351),\n",
       " ('women', 0.6671302914619446),\n",
       " ('siblings', 0.6540225148200989)]"
      ]
     },
     "execution_count": 53,
     "metadata": {},
     "output_type": "execute_result"
    }
   ],
   "source": [
    "definition('male', 'spouses')"
   ]
  },
  {
   "cell_type": "code",
   "execution_count": 39,
   "metadata": {},
   "outputs": [
    {
     "data": {
      "text/plain": [
       "[('female', 0.721327006816864),\n",
       " ('husbands', 0.6353976130485535),\n",
       " ('wives', 0.6263058185577393),\n",
       " ('spouse', 0.6175006031990051),\n",
       " ('couples', 0.5744408369064331),\n",
       " ('unmarried', 0.5724306702613831),\n",
       " ('heterosexual', 0.5606091618537903),\n",
       " ('males', 0.5482465028762817),\n",
       " ('mothers', 0.5427603125572205),\n",
       " ('sex', 0.5306220054626465)]"
      ]
     },
     "execution_count": 39,
     "metadata": {},
     "output_type": "execute_result"
    }
   ],
   "source": [
    "definition_300d('male', 'spouses')"
   ]
  },
  {
   "cell_type": "code",
   "execution_count": 87,
   "metadata": {},
   "outputs": [
    {
     "data": {
      "text/plain": [
       "array([[0.71036553]], dtype=float32)"
      ]
     },
     "execution_count": 87,
     "metadata": {},
     "output_type": "execute_result"
    }
   ],
   "source": [
    "calculate_similarity('male', 'spouses', 'husbands')"
   ]
  },
  {
   "cell_type": "code",
   "execution_count": 89,
   "metadata": {},
   "outputs": [
    {
     "data": {
      "text/plain": [
       "array([[0.6500168]], dtype=float32)"
      ]
     },
     "execution_count": 89,
     "metadata": {},
     "output_type": "execute_result"
    }
   ],
   "source": [
    "calculate_similarity('male', 'spouse', 'husband')"
   ]
  },
  {
   "cell_type": "code",
   "execution_count": 90,
   "metadata": {},
   "outputs": [
    {
     "data": {
      "text/plain": [
       "array([[0.5309439]], dtype=float32)"
      ]
     },
     "execution_count": 90,
     "metadata": {},
     "output_type": "execute_result"
    }
   ],
   "source": [
    "calculate_similarity('male', 'spouses', 'husband')"
   ]
  },
  {
   "cell_type": "code",
   "execution_count": 84,
   "metadata": {},
   "outputs": [
    {
     "data": {
      "text/plain": [
       "[('woman', 0.7600047588348389),\n",
       " ('parents', 0.7566503286361694),\n",
       " ('couple', 0.7525718808174133),\n",
       " ('wives', 0.7497987151145935),\n",
       " ('friends', 0.7447857856750488),\n",
       " ('child', 0.7329953908920288),\n",
       " ('young', 0.7296339273452759),\n",
       " ('mother', 0.720712423324585),\n",
       " ('whom', 0.7118040919303894),\n",
       " ('person', 0.710668683052063)]"
      ]
     },
     "execution_count": 84,
     "metadata": {},
     "output_type": "execute_result"
    }
   ],
   "source": [
    "definition('man', 'spouses')"
   ]
  },
  {
   "cell_type": "code",
   "execution_count": 85,
   "metadata": {},
   "outputs": [
    {
     "data": {
      "text/plain": [
       "[('woman', 0.6131700873374939),\n",
       " ('spouse', 0.6114341616630554),\n",
       " ('wives', 0.5958060026168823),\n",
       " ('husbands', 0.5797724723815918),\n",
       " ('person', 0.5757161378860474),\n",
       " ('elderly', 0.5619040727615356),\n",
       " ('whom', 0.5615295171737671),\n",
       " ('couple', 0.557274341583252),\n",
       " ('who', 0.5519247651100159),\n",
       " ('men', 0.5494856238365173)]"
      ]
     },
     "execution_count": 85,
     "metadata": {},
     "output_type": "execute_result"
    }
   ],
   "source": [
    "definition_300d('man', 'spouses')"
   ]
  },
  {
   "cell_type": "code",
   "execution_count": 88,
   "metadata": {},
   "outputs": [
    {
     "data": {
      "text/plain": [
       "array([[0.70117164]], dtype=float32)"
      ]
     },
     "execution_count": 88,
     "metadata": {},
     "output_type": "execute_result"
    }
   ],
   "source": [
    "calculate_similarity('man', 'spouses', 'husbands')"
   ]
  },
  {
   "cell_type": "markdown",
   "metadata": {},
   "source": [
    "### 'baby' + 'duck' = 'duckling' and variations"
   ]
  },
  {
   "cell_type": "code",
   "execution_count": 55,
   "metadata": {},
   "outputs": [
    {
     "data": {
      "text/plain": [
       "[('cat', 0.7357245087623596),\n",
       " ('rabbit', 0.7031602263450623),\n",
       " ('dog', 0.7006856799125671),\n",
       " ('boy', 0.671177327632904),\n",
       " ('pet', 0.6643341779708862),\n",
       " ('chicken', 0.6521880030632019),\n",
       " ('cow', 0.6426712274551392),\n",
       " ('pig', 0.6388294100761414),\n",
       " ('girl', 0.624531090259552),\n",
       " ('goose', 0.6224647760391235)]"
      ]
     },
     "execution_count": 55,
     "metadata": {},
     "output_type": "execute_result"
    }
   ],
   "source": [
    "definition('baby', 'duck')"
   ]
  },
  {
   "cell_type": "code",
   "execution_count": 43,
   "metadata": {},
   "outputs": [
    {
     "data": {
      "text/plain": [
       "[('babies', 0.5189098715782166),\n",
       " ('chicken', 0.5070104598999023),\n",
       " ('boy', 0.5019789934158325),\n",
       " ('newborn', 0.49996501207351685),\n",
       " ('girl', 0.47992628812789917),\n",
       " ('infant', 0.4641655683517456),\n",
       " ('pig', 0.45999667048454285),\n",
       " ('dog', 0.45428943634033203),\n",
       " ('rabbit', 0.44439950585365295),\n",
       " ('goose', 0.44183123111724854)]"
      ]
     },
     "execution_count": 43,
     "metadata": {},
     "output_type": "execute_result"
    }
   ],
   "source": [
    "definition_300d('baby', 'duck')"
   ]
  },
  {
   "cell_type": "code",
   "execution_count": 91,
   "metadata": {},
   "outputs": [
    {
     "data": {
      "text/plain": [
       "array([[0.31431836]], dtype=float32)"
      ]
     },
     "execution_count": 91,
     "metadata": {},
     "output_type": "execute_result"
    }
   ],
   "source": [
    "calculate_similarity('baby', 'duck', 'duckling')"
   ]
  },
  {
   "cell_type": "code",
   "execution_count": 57,
   "metadata": {},
   "outputs": [
    {
     "data": {
      "text/plain": [
       "[('large', 0.7329149842262268),\n",
       " ('little', 0.6936571598052979),\n",
       " ('tiny', 0.6864888668060303),\n",
       " ('big', 0.6588542461395264),\n",
       " ('few', 0.6588490009307861),\n",
       " ('fish', 0.6484575271606445),\n",
       " ('one', 0.6448154449462891),\n",
       " ('cat', 0.6425182223320007),\n",
       " ('short', 0.6358485817909241),\n",
       " ('chicken', 0.6342458128929138)]"
      ]
     },
     "execution_count": 57,
     "metadata": {},
     "output_type": "execute_result"
    }
   ],
   "source": [
    "definition('small', 'duck')"
   ]
  },
  {
   "cell_type": "code",
   "execution_count": 44,
   "metadata": {},
   "outputs": [
    {
     "data": {
      "text/plain": [
       "[('large', 0.60807865858078),\n",
       " ('tiny', 0.5721938014030457),\n",
       " ('little', 0.5320278406143188),\n",
       " ('smaller', 0.502325177192688),\n",
       " ('few', 0.49825578927993774),\n",
       " ('chicken', 0.4941973090171814),\n",
       " ('big', 0.483223557472229),\n",
       " ('sized', 0.48181411623954773),\n",
       " ('fish', 0.47811469435691833),\n",
       " ('larger', 0.47321608662605286)]"
      ]
     },
     "execution_count": 44,
     "metadata": {},
     "output_type": "execute_result"
    }
   ],
   "source": [
    "definition_300d('small', 'duck')"
   ]
  },
  {
   "cell_type": "code",
   "execution_count": 92,
   "metadata": {},
   "outputs": [
    {
     "data": {
      "text/plain": [
       "array([[0.14753377]], dtype=float32)"
      ]
     },
     "execution_count": 92,
     "metadata": {},
     "output_type": "execute_result"
    }
   ],
   "source": [
    "calculate_similarity('small', 'duck', 'duckling')"
   ]
  },
  {
   "cell_type": "code",
   "execution_count": 59,
   "metadata": {},
   "outputs": [
    {
     "data": {
      "text/plain": [
       "[('bit', 0.7100890278816223),\n",
       " ('too', 0.7056362628936768),\n",
       " ('just', 0.69776850938797),\n",
       " ('big', 0.685026228427887),\n",
       " ('cat', 0.6744759678840637),\n",
       " ('dog', 0.6696208715438843),\n",
       " ('even', 0.6634716391563416),\n",
       " ('so', 0.663071870803833),\n",
       " ('rabbit', 0.6600933074951172),\n",
       " ('like', 0.6579574346542358)]"
      ]
     },
     "execution_count": 59,
     "metadata": {},
     "output_type": "execute_result"
    }
   ],
   "source": [
    "definition('little', 'duck')"
   ]
  },
  {
   "cell_type": "code",
   "execution_count": 45,
   "metadata": {},
   "outputs": [
    {
     "data": {
      "text/plain": [
       "[('bit', 0.6069000363349915),\n",
       " ('just', 0.5427685379981995),\n",
       " ('too', 0.5328499674797058),\n",
       " ('lame', 0.5064114332199097),\n",
       " ('even', 0.5063546895980835),\n",
       " ('much', 0.4996291399002075),\n",
       " ('kind', 0.4988514184951782),\n",
       " ('lot', 0.4984596371650696),\n",
       " ('big', 0.49657073616981506),\n",
       " ('actually', 0.496439129114151)]"
      ]
     },
     "execution_count": 45,
     "metadata": {},
     "output_type": "execute_result"
    }
   ],
   "source": [
    "definition_300d('little', 'duck')"
   ]
  },
  {
   "cell_type": "code",
   "execution_count": 93,
   "metadata": {},
   "outputs": [
    {
     "data": {
      "text/plain": [
       "array([[0.2061248]], dtype=float32)"
      ]
     },
     "execution_count": 93,
     "metadata": {},
     "output_type": "execute_result"
    }
   ],
   "source": [
    "calculate_similarity('little', 'duck', 'duckling')"
   ]
  },
  {
   "cell_type": "code",
   "execution_count": 104,
   "metadata": {},
   "outputs": [
    {
     "data": {
      "text/plain": [
       "[('baby', 0.7387073040008545),\n",
       " ('boy', 0.7287305593490601),\n",
       " ('dog', 0.694217324256897),\n",
       " ('girl', 0.6903077960014343),\n",
       " ('woman', 0.6817472577095032),\n",
       " ('cat', 0.6749307513237),\n",
       " ('children', 0.669579029083252),\n",
       " ('mother', 0.6604345440864563),\n",
       " ('man', 0.6539339423179626),\n",
       " ('bird', 0.6318632960319519)]"
      ]
     },
     "execution_count": 104,
     "metadata": {},
     "output_type": "execute_result"
    }
   ],
   "source": [
    "definition('child', 'duck')"
   ]
  },
  {
   "cell_type": "code",
   "execution_count": 105,
   "metadata": {},
   "outputs": [
    {
     "data": {
      "text/plain": [
       "[('boy', 0.5751781463623047),\n",
       " ('baby', 0.5685468316078186),\n",
       " ('children', 0.5620506405830383),\n",
       " ('girl', 0.5435641407966614),\n",
       " ('mother', 0.5174210667610168),\n",
       " ('parents', 0.4905431866645813),\n",
       " ('infant', 0.4820095896720886),\n",
       " ('daughter', 0.47889819741249084),\n",
       " ('kids', 0.4774121940135956),\n",
       " ('woman', 0.4766649901866913)]"
      ]
     },
     "execution_count": 105,
     "metadata": {},
     "output_type": "execute_result"
    }
   ],
   "source": [
    "definition_300d('child', 'duck')"
   ]
  },
  {
   "cell_type": "code",
   "execution_count": 106,
   "metadata": {},
   "outputs": [
    {
     "data": {
      "text/plain": [
       "array([[0.24638756]], dtype=float32)"
      ]
     },
     "execution_count": 106,
     "metadata": {},
     "output_type": "execute_result"
    }
   ],
   "source": [
    "calculate_similarity('child', 'duck', 'duckling')"
   ]
  },
  {
   "cell_type": "markdown",
   "metadata": {},
   "source": [
    "### 'small' + 'cat' and variations"
   ]
  },
  {
   "cell_type": "code",
   "execution_count": 60,
   "metadata": {},
   "outputs": [
    {
     "data": {
      "text/plain": [
       "[('dog', 0.7789637446403503),\n",
       " ('large', 0.7542371153831482),\n",
       " ('tiny', 0.7404225468635559),\n",
       " ('little', 0.7348185181617737),\n",
       " ('big', 0.7019434571266174),\n",
       " ('dogs', 0.6901535391807556),\n",
       " ('like', 0.6812320351600647),\n",
       " ('few', 0.6762623190879822),\n",
       " ('one', 0.6740338802337646),\n",
       " ('larger', 0.6732674241065979)]"
      ]
     },
     "execution_count": 60,
     "metadata": {},
     "output_type": "execute_result"
    }
   ],
   "source": [
    "definition('small', 'cat')"
   ]
  },
  {
   "cell_type": "code",
   "execution_count": 46,
   "metadata": {},
   "outputs": [
    {
     "data": {
      "text/plain": [
       "[('large', 0.6367977857589722),\n",
       " ('tiny', 0.6292120814323425),\n",
       " ('dog', 0.6141706109046936),\n",
       " ('little', 0.5644365549087524),\n",
       " ('cats', 0.5567792654037476),\n",
       " ('big', 0.5449622869491577),\n",
       " ('smaller', 0.5314121842384338),\n",
       " ('sized', 0.5182141065597534),\n",
       " ('pet', 0.5116186738014221),\n",
       " ('like', 0.5096837878227234)]"
      ]
     },
     "execution_count": 46,
     "metadata": {},
     "output_type": "execute_result"
    }
   ],
   "source": [
    "definition_300d('small', 'cat')"
   ]
  },
  {
   "cell_type": "code",
   "execution_count": 97,
   "metadata": {},
   "outputs": [
    {
     "data": {
      "text/plain": [
       "array([[0.34473705]], dtype=float32)"
      ]
     },
     "execution_count": 97,
     "metadata": {},
     "output_type": "execute_result"
    }
   ],
   "source": [
    "calculate_similarity('small', 'cat', 'kitten')"
   ]
  },
  {
   "cell_type": "code",
   "execution_count": 61,
   "metadata": {},
   "outputs": [
    {
     "data": {
      "text/plain": [
       "[('dog', 0.8127073049545288),\n",
       " ('boy', 0.7638528943061829),\n",
       " ('girl', 0.7336031198501587),\n",
       " ('pet', 0.7272219061851501),\n",
       " ('rabbit', 0.6875886917114258),\n",
       " ('cats', 0.6796918511390686),\n",
       " ('dogs', 0.6777850389480591),\n",
       " ('puppy', 0.6669325232505798),\n",
       " ('kid', 0.664391279220581),\n",
       " ('mom', 0.6632115244865417)]"
      ]
     },
     "execution_count": 61,
     "metadata": {},
     "output_type": "execute_result"
    }
   ],
   "source": [
    "definition('baby', 'cat')"
   ]
  },
  {
   "cell_type": "code",
   "execution_count": 47,
   "metadata": {},
   "outputs": [
    {
     "data": {
      "text/plain": [
       "[('dog', 0.639026939868927),\n",
       " ('cats', 0.609463632106781),\n",
       " ('pet', 0.5913442373275757),\n",
       " ('girl', 0.5715005397796631),\n",
       " ('boy', 0.5681838393211365),\n",
       " ('newborn', 0.5611903071403503),\n",
       " ('babies', 0.550870954990387),\n",
       " ('dogs', 0.5117906928062439),\n",
       " ('child', 0.5101261138916016),\n",
       " ('mom', 0.5076110363006592)]"
      ]
     },
     "execution_count": 47,
     "metadata": {},
     "output_type": "execute_result"
    }
   ],
   "source": [
    "definition_300d('baby', 'cat')"
   ]
  },
  {
   "cell_type": "code",
   "execution_count": 96,
   "metadata": {},
   "outputs": [
    {
     "data": {
      "text/plain": [
       "array([[0.57189286]], dtype=float32)"
      ]
     },
     "execution_count": 96,
     "metadata": {},
     "output_type": "execute_result"
    }
   ],
   "source": [
    "calculate_similarity('baby', 'cat', 'kitten')"
   ]
  },
  {
   "cell_type": "code",
   "execution_count": 102,
   "metadata": {},
   "outputs": [
    {
     "data": {
      "text/plain": [
       "[('boy', 0.814297616481781),\n",
       " ('dog', 0.8051776885986328),\n",
       " ('baby', 0.7981764078140259),\n",
       " ('girl', 0.793245255947113),\n",
       " ('mother', 0.7382760047912598),\n",
       " ('children', 0.7323399186134338),\n",
       " ('woman', 0.7310007214546204),\n",
       " ('man', 0.7049850225448608),\n",
       " ('animal', 0.6739353537559509),\n",
       " ('pet', 0.6734364628791809)]"
      ]
     },
     "execution_count": 102,
     "metadata": {},
     "output_type": "execute_result"
    }
   ],
   "source": [
    "definition('child', 'cat')"
   ]
  },
  {
   "cell_type": "code",
   "execution_count": 103,
   "metadata": {},
   "outputs": [
    {
     "data": {
      "text/plain": [
       "[('dog', 0.6304463148117065),\n",
       " ('boy', 0.6217886209487915),\n",
       " ('girl', 0.6180351376533508),\n",
       " ('baby', 0.5958205461502075),\n",
       " ('children', 0.5954334139823914),\n",
       " ('mother', 0.5814193487167358),\n",
       " ('cats', 0.5577535629272461),\n",
       " ('daughter', 0.5479570627212524),\n",
       " ('parents', 0.5415760278701782),\n",
       " ('pet', 0.5365710854530334)]"
      ]
     },
     "execution_count": 103,
     "metadata": {},
     "output_type": "execute_result"
    }
   ],
   "source": [
    "definition_300d('child', 'cat')"
   ]
  },
  {
   "cell_type": "code",
   "execution_count": 101,
   "metadata": {},
   "outputs": [
    {
     "data": {
      "text/plain": [
       "array([[0.49331015]], dtype=float32)"
      ]
     },
     "execution_count": 101,
     "metadata": {},
     "output_type": "execute_result"
    }
   ],
   "source": [
    "calculate_similarity('child', 'cat', 'kitten')"
   ]
  },
  {
   "cell_type": "markdown",
   "metadata": {},
   "source": [
    "### 'baby' + 'dog' and variations"
   ]
  },
  {
   "cell_type": "code",
   "execution_count": 62,
   "metadata": {},
   "outputs": [
    {
     "data": {
      "text/plain": [
       "[('cat', 0.8454183340072632),\n",
       " ('boy', 0.7890797257423401),\n",
       " ('dogs', 0.752583384513855),\n",
       " ('pet', 0.7509226202964783),\n",
       " ('girl', 0.7379759550094604),\n",
       " ('puppy', 0.6998087167739868),\n",
       " ('mom', 0.68051677942276),\n",
       " ('child', 0.6800344586372375),\n",
       " ('babies', 0.6709420084953308),\n",
       " ('kid', 0.6680909991264343)]"
      ]
     },
     "execution_count": 62,
     "metadata": {},
     "output_type": "execute_result"
    }
   ],
   "source": [
    "definition('baby', 'dog')"
   ]
  },
  {
   "cell_type": "code",
   "execution_count": 40,
   "metadata": {},
   "outputs": [
    {
     "data": {
      "text/plain": [
       "[('dogs', 0.6589652299880981),\n",
       " ('cat', 0.6271884441375732),\n",
       " ('pet', 0.6137261390686035),\n",
       " ('boy', 0.5887221693992615),\n",
       " ('babies', 0.5866448879241943),\n",
       " ('girl', 0.5715811848640442),\n",
       " ('newborn', 0.5535208582878113),\n",
       " ('mom', 0.5532939434051514),\n",
       " ('puppy', 0.547976553440094),\n",
       " ('child', 0.5454639792442322)]"
      ]
     },
     "execution_count": 40,
     "metadata": {},
     "output_type": "execute_result"
    }
   ],
   "source": [
    "definition_300d('baby', 'dog')"
   ]
  },
  {
   "cell_type": "code",
   "execution_count": 98,
   "metadata": {},
   "outputs": [
    {
     "data": {
      "text/plain": [
       "array([[0.69795763]], dtype=float32)"
      ]
     },
     "execution_count": 98,
     "metadata": {},
     "output_type": "execute_result"
    }
   ],
   "source": [
    "calculate_similarity('baby', 'dog', 'puppy')"
   ]
  },
  {
   "cell_type": "code",
   "execution_count": 41,
   "metadata": {},
   "outputs": [
    {
     "data": {
      "text/plain": [
       "[('cat', 0.7745434641838074),\n",
       " ('dogs', 0.7584885358810425),\n",
       " ('large', 0.7511091828346252),\n",
       " ('little', 0.73993980884552),\n",
       " ('one', 0.699674129486084),\n",
       " ('big', 0.6948302984237671),\n",
       " ('few', 0.6936855912208557),\n",
       " ('tiny', 0.6898406744003296),\n",
       " ('like', 0.6831692457199097),\n",
       " ('well', 0.6819196343421936)]"
      ]
     },
     "execution_count": 41,
     "metadata": {},
     "output_type": "execute_result"
    }
   ],
   "source": [
    "definition('small', 'dog')"
   ]
  },
  {
   "cell_type": "code",
   "execution_count": 42,
   "metadata": {},
   "outputs": [
    {
     "data": {
      "text/plain": [
       "[('dogs', 0.6499183177947998),\n",
       " ('large', 0.6301786303520203),\n",
       " ('tiny', 0.6044901609420776),\n",
       " ('little', 0.5914078950881958),\n",
       " ('smaller', 0.5697966814041138),\n",
       " ('cat', 0.5677505731582642),\n",
       " ('big', 0.5529771447181702),\n",
       " ('few', 0.5376969575881958),\n",
       " ('like', 0.5277330875396729),\n",
       " ('pet', 0.5271344184875488)]"
      ]
     },
     "execution_count": 42,
     "metadata": {},
     "output_type": "execute_result"
    }
   ],
   "source": [
    "definition_300d('small', 'dog')"
   ]
  },
  {
   "cell_type": "code",
   "execution_count": 99,
   "metadata": {},
   "outputs": [
    {
     "data": {
      "text/plain": [
       "array([[0.529829]], dtype=float32)"
      ]
     },
     "execution_count": 99,
     "metadata": {},
     "output_type": "execute_result"
    }
   ],
   "source": [
    "calculate_similarity('small', 'dog', 'puppy')"
   ]
  },
  {
   "cell_type": "code",
   "execution_count": 107,
   "metadata": {},
   "outputs": [
    {
     "data": {
      "text/plain": [
       "[('boy', 0.8168787956237793),\n",
       " ('girl', 0.7750166058540344),\n",
       " ('cat', 0.7632631659507751),\n",
       " ('baby', 0.7616083025932312),\n",
       " ('children', 0.7390168905258179),\n",
       " ('woman', 0.7302547693252563),\n",
       " ('dogs', 0.7273513674736023),\n",
       " ('mother', 0.7245290279388428),\n",
       " ('man', 0.7153592705726624),\n",
       " ('animal', 0.6984661221504211)]"
      ]
     },
     "execution_count": 107,
     "metadata": {},
     "output_type": "execute_result"
    }
   ],
   "source": [
    "definition('child', 'dog')"
   ]
  },
  {
   "cell_type": "code",
   "execution_count": 108,
   "metadata": {},
   "outputs": [
    {
     "data": {
      "text/plain": [
       "[('dogs', 0.6415126919746399),\n",
       " ('boy', 0.6307135820388794),\n",
       " ('children', 0.6303172707557678),\n",
       " ('girl', 0.606192409992218),\n",
       " ('mother', 0.6040725111961365),\n",
       " ('parents', 0.5956936478614807),\n",
       " ('baby', 0.5901288986206055),\n",
       " ('cat', 0.5764565467834473),\n",
       " ('kids', 0.5733127593994141),\n",
       " ('animal', 0.5565695762634277)]"
      ]
     },
     "execution_count": 108,
     "metadata": {},
     "output_type": "execute_result"
    }
   ],
   "source": [
    "definition_300d('child', 'dog')"
   ]
  },
  {
   "cell_type": "code",
   "execution_count": 109,
   "metadata": {},
   "outputs": [
    {
     "data": {
      "text/plain": [
       "array([[0.591485]], dtype=float32)"
      ]
     },
     "execution_count": 109,
     "metadata": {},
     "output_type": "execute_result"
    }
   ],
   "source": [
    "calculate_similarity('child', 'dog', 'puppy')"
   ]
  },
  {
   "cell_type": "code",
   "execution_count": 73,
   "metadata": {},
   "outputs": [],
   "source": [
    "def display_pca_scatterplot(model, words=None, sample=0):\n",
    "    if words == None:\n",
    "        if sample > 0:\n",
    "            words = np.random.choice(list(model.key_to_index.keys()), sample)\n",
    "        else:\n",
    "            words = [ word for word in model.vocab ]\n",
    "        \n",
    "    word_vectors = np.array([model[w] for w in words])\n",
    "\n",
    "    twodim = PCA().fit_transform(word_vectors)[:,:2]\n",
    "    \n",
    "    plt.figure(figsize=(6,6))\n",
    "    plt.scatter(twodim[:,0], twodim[:,1], edgecolors='k', c='r')\n",
    "    for word, (x,y) in zip(words, twodim):\n",
    "        plt.text(x+0.05, y+0.05, word)"
   ]
  },
  {
   "cell_type": "code",
   "execution_count": null,
   "metadata": {},
   "outputs": [],
   "source": []
  },
  {
   "cell_type": "code",
   "execution_count": 74,
   "metadata": {},
   "outputs": [
    {
     "data": {
      "application/javascript": [
       "/* Put everything inside the global mpl namespace */\n",
       "/* global mpl */\n",
       "window.mpl = {};\n",
       "\n",
       "mpl.get_websocket_type = function () {\n",
       "    if (typeof WebSocket !== 'undefined') {\n",
       "        return WebSocket;\n",
       "    } else if (typeof MozWebSocket !== 'undefined') {\n",
       "        return MozWebSocket;\n",
       "    } else {\n",
       "        alert(\n",
       "            'Your browser does not have WebSocket support. ' +\n",
       "                'Please try Chrome, Safari or Firefox ≥ 6. ' +\n",
       "                'Firefox 4 and 5 are also supported but you ' +\n",
       "                'have to enable WebSockets in about:config.'\n",
       "        );\n",
       "    }\n",
       "};\n",
       "\n",
       "mpl.figure = function (figure_id, websocket, ondownload, parent_element) {\n",
       "    this.id = figure_id;\n",
       "\n",
       "    this.ws = websocket;\n",
       "\n",
       "    this.supports_binary = this.ws.binaryType !== undefined;\n",
       "\n",
       "    if (!this.supports_binary) {\n",
       "        var warnings = document.getElementById('mpl-warnings');\n",
       "        if (warnings) {\n",
       "            warnings.style.display = 'block';\n",
       "            warnings.textContent =\n",
       "                'This browser does not support binary websocket messages. ' +\n",
       "                'Performance may be slow.';\n",
       "        }\n",
       "    }\n",
       "\n",
       "    this.imageObj = new Image();\n",
       "\n",
       "    this.context = undefined;\n",
       "    this.message = undefined;\n",
       "    this.canvas = undefined;\n",
       "    this.rubberband_canvas = undefined;\n",
       "    this.rubberband_context = undefined;\n",
       "    this.format_dropdown = undefined;\n",
       "\n",
       "    this.image_mode = 'full';\n",
       "\n",
       "    this.root = document.createElement('div');\n",
       "    this.root.setAttribute('style', 'display: inline-block');\n",
       "    this._root_extra_style(this.root);\n",
       "\n",
       "    parent_element.appendChild(this.root);\n",
       "\n",
       "    this._init_header(this);\n",
       "    this._init_canvas(this);\n",
       "    this._init_toolbar(this);\n",
       "\n",
       "    var fig = this;\n",
       "\n",
       "    this.waiting = false;\n",
       "\n",
       "    this.ws.onopen = function () {\n",
       "        fig.send_message('supports_binary', { value: fig.supports_binary });\n",
       "        fig.send_message('send_image_mode', {});\n",
       "        if (fig.ratio !== 1) {\n",
       "            fig.send_message('set_dpi_ratio', { dpi_ratio: fig.ratio });\n",
       "        }\n",
       "        fig.send_message('refresh', {});\n",
       "    };\n",
       "\n",
       "    this.imageObj.onload = function () {\n",
       "        if (fig.image_mode === 'full') {\n",
       "            // Full images could contain transparency (where diff images\n",
       "            // almost always do), so we need to clear the canvas so that\n",
       "            // there is no ghosting.\n",
       "            fig.context.clearRect(0, 0, fig.canvas.width, fig.canvas.height);\n",
       "        }\n",
       "        fig.context.drawImage(fig.imageObj, 0, 0);\n",
       "    };\n",
       "\n",
       "    this.imageObj.onunload = function () {\n",
       "        fig.ws.close();\n",
       "    };\n",
       "\n",
       "    this.ws.onmessage = this._make_on_message_function(this);\n",
       "\n",
       "    this.ondownload = ondownload;\n",
       "};\n",
       "\n",
       "mpl.figure.prototype._init_header = function () {\n",
       "    var titlebar = document.createElement('div');\n",
       "    titlebar.classList =\n",
       "        'ui-dialog-titlebar ui-widget-header ui-corner-all ui-helper-clearfix';\n",
       "    var titletext = document.createElement('div');\n",
       "    titletext.classList = 'ui-dialog-title';\n",
       "    titletext.setAttribute(\n",
       "        'style',\n",
       "        'width: 100%; text-align: center; padding: 3px;'\n",
       "    );\n",
       "    titlebar.appendChild(titletext);\n",
       "    this.root.appendChild(titlebar);\n",
       "    this.header = titletext;\n",
       "};\n",
       "\n",
       "mpl.figure.prototype._canvas_extra_style = function (_canvas_div) {};\n",
       "\n",
       "mpl.figure.prototype._root_extra_style = function (_canvas_div) {};\n",
       "\n",
       "mpl.figure.prototype._init_canvas = function () {\n",
       "    var fig = this;\n",
       "\n",
       "    var canvas_div = (this.canvas_div = document.createElement('div'));\n",
       "    canvas_div.setAttribute(\n",
       "        'style',\n",
       "        'border: 1px solid #ddd;' +\n",
       "            'box-sizing: content-box;' +\n",
       "            'clear: both;' +\n",
       "            'min-height: 1px;' +\n",
       "            'min-width: 1px;' +\n",
       "            'outline: 0;' +\n",
       "            'overflow: hidden;' +\n",
       "            'position: relative;' +\n",
       "            'resize: both;'\n",
       "    );\n",
       "\n",
       "    function on_keyboard_event_closure(name) {\n",
       "        return function (event) {\n",
       "            return fig.key_event(event, name);\n",
       "        };\n",
       "    }\n",
       "\n",
       "    canvas_div.addEventListener(\n",
       "        'keydown',\n",
       "        on_keyboard_event_closure('key_press')\n",
       "    );\n",
       "    canvas_div.addEventListener(\n",
       "        'keyup',\n",
       "        on_keyboard_event_closure('key_release')\n",
       "    );\n",
       "\n",
       "    this._canvas_extra_style(canvas_div);\n",
       "    this.root.appendChild(canvas_div);\n",
       "\n",
       "    var canvas = (this.canvas = document.createElement('canvas'));\n",
       "    canvas.classList.add('mpl-canvas');\n",
       "    canvas.setAttribute('style', 'box-sizing: content-box;');\n",
       "\n",
       "    this.context = canvas.getContext('2d');\n",
       "\n",
       "    var backingStore =\n",
       "        this.context.backingStorePixelRatio ||\n",
       "        this.context.webkitBackingStorePixelRatio ||\n",
       "        this.context.mozBackingStorePixelRatio ||\n",
       "        this.context.msBackingStorePixelRatio ||\n",
       "        this.context.oBackingStorePixelRatio ||\n",
       "        this.context.backingStorePixelRatio ||\n",
       "        1;\n",
       "\n",
       "    this.ratio = (window.devicePixelRatio || 1) / backingStore;\n",
       "    if (this.ratio !== 1) {\n",
       "        fig.send_message('set_dpi_ratio', { dpi_ratio: this.ratio });\n",
       "    }\n",
       "\n",
       "    var rubberband_canvas = (this.rubberband_canvas = document.createElement(\n",
       "        'canvas'\n",
       "    ));\n",
       "    rubberband_canvas.setAttribute(\n",
       "        'style',\n",
       "        'box-sizing: content-box; position: absolute; left: 0; top: 0; z-index: 1;'\n",
       "    );\n",
       "\n",
       "    var resizeObserver = new ResizeObserver(function (entries) {\n",
       "        var nentries = entries.length;\n",
       "        for (var i = 0; i < nentries; i++) {\n",
       "            var entry = entries[i];\n",
       "            var width, height;\n",
       "            if (entry.contentBoxSize) {\n",
       "                if (entry.contentBoxSize instanceof Array) {\n",
       "                    // Chrome 84 implements new version of spec.\n",
       "                    width = entry.contentBoxSize[0].inlineSize;\n",
       "                    height = entry.contentBoxSize[0].blockSize;\n",
       "                } else {\n",
       "                    // Firefox implements old version of spec.\n",
       "                    width = entry.contentBoxSize.inlineSize;\n",
       "                    height = entry.contentBoxSize.blockSize;\n",
       "                }\n",
       "            } else {\n",
       "                // Chrome <84 implements even older version of spec.\n",
       "                width = entry.contentRect.width;\n",
       "                height = entry.contentRect.height;\n",
       "            }\n",
       "\n",
       "            // Keep the size of the canvas and rubber band canvas in sync with\n",
       "            // the canvas container.\n",
       "            if (entry.devicePixelContentBoxSize) {\n",
       "                // Chrome 84 implements new version of spec.\n",
       "                canvas.setAttribute(\n",
       "                    'width',\n",
       "                    entry.devicePixelContentBoxSize[0].inlineSize\n",
       "                );\n",
       "                canvas.setAttribute(\n",
       "                    'height',\n",
       "                    entry.devicePixelContentBoxSize[0].blockSize\n",
       "                );\n",
       "            } else {\n",
       "                canvas.setAttribute('width', width * fig.ratio);\n",
       "                canvas.setAttribute('height', height * fig.ratio);\n",
       "            }\n",
       "            canvas.setAttribute(\n",
       "                'style',\n",
       "                'width: ' + width + 'px; height: ' + height + 'px;'\n",
       "            );\n",
       "\n",
       "            rubberband_canvas.setAttribute('width', width);\n",
       "            rubberband_canvas.setAttribute('height', height);\n",
       "\n",
       "            // And update the size in Python. We ignore the initial 0/0 size\n",
       "            // that occurs as the element is placed into the DOM, which should\n",
       "            // otherwise not happen due to the minimum size styling.\n",
       "            if (width != 0 && height != 0) {\n",
       "                fig.request_resize(width, height);\n",
       "            }\n",
       "        }\n",
       "    });\n",
       "    resizeObserver.observe(canvas_div);\n",
       "\n",
       "    function on_mouse_event_closure(name) {\n",
       "        return function (event) {\n",
       "            return fig.mouse_event(event, name);\n",
       "        };\n",
       "    }\n",
       "\n",
       "    rubberband_canvas.addEventListener(\n",
       "        'mousedown',\n",
       "        on_mouse_event_closure('button_press')\n",
       "    );\n",
       "    rubberband_canvas.addEventListener(\n",
       "        'mouseup',\n",
       "        on_mouse_event_closure('button_release')\n",
       "    );\n",
       "    // Throttle sequential mouse events to 1 every 20ms.\n",
       "    rubberband_canvas.addEventListener(\n",
       "        'mousemove',\n",
       "        on_mouse_event_closure('motion_notify')\n",
       "    );\n",
       "\n",
       "    rubberband_canvas.addEventListener(\n",
       "        'mouseenter',\n",
       "        on_mouse_event_closure('figure_enter')\n",
       "    );\n",
       "    rubberband_canvas.addEventListener(\n",
       "        'mouseleave',\n",
       "        on_mouse_event_closure('figure_leave')\n",
       "    );\n",
       "\n",
       "    canvas_div.addEventListener('wheel', function (event) {\n",
       "        if (event.deltaY < 0) {\n",
       "            event.step = 1;\n",
       "        } else {\n",
       "            event.step = -1;\n",
       "        }\n",
       "        on_mouse_event_closure('scroll')(event);\n",
       "    });\n",
       "\n",
       "    canvas_div.appendChild(canvas);\n",
       "    canvas_div.appendChild(rubberband_canvas);\n",
       "\n",
       "    this.rubberband_context = rubberband_canvas.getContext('2d');\n",
       "    this.rubberband_context.strokeStyle = '#000000';\n",
       "\n",
       "    this._resize_canvas = function (width, height, forward) {\n",
       "        if (forward) {\n",
       "            canvas_div.style.width = width + 'px';\n",
       "            canvas_div.style.height = height + 'px';\n",
       "        }\n",
       "    };\n",
       "\n",
       "    // Disable right mouse context menu.\n",
       "    this.rubberband_canvas.addEventListener('contextmenu', function (_e) {\n",
       "        event.preventDefault();\n",
       "        return false;\n",
       "    });\n",
       "\n",
       "    function set_focus() {\n",
       "        canvas.focus();\n",
       "        canvas_div.focus();\n",
       "    }\n",
       "\n",
       "    window.setTimeout(set_focus, 100);\n",
       "};\n",
       "\n",
       "mpl.figure.prototype._init_toolbar = function () {\n",
       "    var fig = this;\n",
       "\n",
       "    var toolbar = document.createElement('div');\n",
       "    toolbar.classList = 'mpl-toolbar';\n",
       "    this.root.appendChild(toolbar);\n",
       "\n",
       "    function on_click_closure(name) {\n",
       "        return function (_event) {\n",
       "            return fig.toolbar_button_onclick(name);\n",
       "        };\n",
       "    }\n",
       "\n",
       "    function on_mouseover_closure(tooltip) {\n",
       "        return function (event) {\n",
       "            if (!event.currentTarget.disabled) {\n",
       "                return fig.toolbar_button_onmouseover(tooltip);\n",
       "            }\n",
       "        };\n",
       "    }\n",
       "\n",
       "    fig.buttons = {};\n",
       "    var buttonGroup = document.createElement('div');\n",
       "    buttonGroup.classList = 'mpl-button-group';\n",
       "    for (var toolbar_ind in mpl.toolbar_items) {\n",
       "        var name = mpl.toolbar_items[toolbar_ind][0];\n",
       "        var tooltip = mpl.toolbar_items[toolbar_ind][1];\n",
       "        var image = mpl.toolbar_items[toolbar_ind][2];\n",
       "        var method_name = mpl.toolbar_items[toolbar_ind][3];\n",
       "\n",
       "        if (!name) {\n",
       "            /* Instead of a spacer, we start a new button group. */\n",
       "            if (buttonGroup.hasChildNodes()) {\n",
       "                toolbar.appendChild(buttonGroup);\n",
       "            }\n",
       "            buttonGroup = document.createElement('div');\n",
       "            buttonGroup.classList = 'mpl-button-group';\n",
       "            continue;\n",
       "        }\n",
       "\n",
       "        var button = (fig.buttons[name] = document.createElement('button'));\n",
       "        button.classList = 'mpl-widget';\n",
       "        button.setAttribute('role', 'button');\n",
       "        button.setAttribute('aria-disabled', 'false');\n",
       "        button.addEventListener('click', on_click_closure(method_name));\n",
       "        button.addEventListener('mouseover', on_mouseover_closure(tooltip));\n",
       "\n",
       "        var icon_img = document.createElement('img');\n",
       "        icon_img.src = '_images/' + image + '.png';\n",
       "        icon_img.srcset = '_images/' + image + '_large.png 2x';\n",
       "        icon_img.alt = tooltip;\n",
       "        button.appendChild(icon_img);\n",
       "\n",
       "        buttonGroup.appendChild(button);\n",
       "    }\n",
       "\n",
       "    if (buttonGroup.hasChildNodes()) {\n",
       "        toolbar.appendChild(buttonGroup);\n",
       "    }\n",
       "\n",
       "    var fmt_picker = document.createElement('select');\n",
       "    fmt_picker.classList = 'mpl-widget';\n",
       "    toolbar.appendChild(fmt_picker);\n",
       "    this.format_dropdown = fmt_picker;\n",
       "\n",
       "    for (var ind in mpl.extensions) {\n",
       "        var fmt = mpl.extensions[ind];\n",
       "        var option = document.createElement('option');\n",
       "        option.selected = fmt === mpl.default_extension;\n",
       "        option.innerHTML = fmt;\n",
       "        fmt_picker.appendChild(option);\n",
       "    }\n",
       "\n",
       "    var status_bar = document.createElement('span');\n",
       "    status_bar.classList = 'mpl-message';\n",
       "    toolbar.appendChild(status_bar);\n",
       "    this.message = status_bar;\n",
       "};\n",
       "\n",
       "mpl.figure.prototype.request_resize = function (x_pixels, y_pixels) {\n",
       "    // Request matplotlib to resize the figure. Matplotlib will then trigger a resize in the client,\n",
       "    // which will in turn request a refresh of the image.\n",
       "    this.send_message('resize', { width: x_pixels, height: y_pixels });\n",
       "};\n",
       "\n",
       "mpl.figure.prototype.send_message = function (type, properties) {\n",
       "    properties['type'] = type;\n",
       "    properties['figure_id'] = this.id;\n",
       "    this.ws.send(JSON.stringify(properties));\n",
       "};\n",
       "\n",
       "mpl.figure.prototype.send_draw_message = function () {\n",
       "    if (!this.waiting) {\n",
       "        this.waiting = true;\n",
       "        this.ws.send(JSON.stringify({ type: 'draw', figure_id: this.id }));\n",
       "    }\n",
       "};\n",
       "\n",
       "mpl.figure.prototype.handle_save = function (fig, _msg) {\n",
       "    var format_dropdown = fig.format_dropdown;\n",
       "    var format = format_dropdown.options[format_dropdown.selectedIndex].value;\n",
       "    fig.ondownload(fig, format);\n",
       "};\n",
       "\n",
       "mpl.figure.prototype.handle_resize = function (fig, msg) {\n",
       "    var size = msg['size'];\n",
       "    if (size[0] !== fig.canvas.width || size[1] !== fig.canvas.height) {\n",
       "        fig._resize_canvas(size[0], size[1], msg['forward']);\n",
       "        fig.send_message('refresh', {});\n",
       "    }\n",
       "};\n",
       "\n",
       "mpl.figure.prototype.handle_rubberband = function (fig, msg) {\n",
       "    var x0 = msg['x0'] / fig.ratio;\n",
       "    var y0 = (fig.canvas.height - msg['y0']) / fig.ratio;\n",
       "    var x1 = msg['x1'] / fig.ratio;\n",
       "    var y1 = (fig.canvas.height - msg['y1']) / fig.ratio;\n",
       "    x0 = Math.floor(x0) + 0.5;\n",
       "    y0 = Math.floor(y0) + 0.5;\n",
       "    x1 = Math.floor(x1) + 0.5;\n",
       "    y1 = Math.floor(y1) + 0.5;\n",
       "    var min_x = Math.min(x0, x1);\n",
       "    var min_y = Math.min(y0, y1);\n",
       "    var width = Math.abs(x1 - x0);\n",
       "    var height = Math.abs(y1 - y0);\n",
       "\n",
       "    fig.rubberband_context.clearRect(\n",
       "        0,\n",
       "        0,\n",
       "        fig.canvas.width / fig.ratio,\n",
       "        fig.canvas.height / fig.ratio\n",
       "    );\n",
       "\n",
       "    fig.rubberband_context.strokeRect(min_x, min_y, width, height);\n",
       "};\n",
       "\n",
       "mpl.figure.prototype.handle_figure_label = function (fig, msg) {\n",
       "    // Updates the figure title.\n",
       "    fig.header.textContent = msg['label'];\n",
       "};\n",
       "\n",
       "mpl.figure.prototype.handle_cursor = function (fig, msg) {\n",
       "    var cursor = msg['cursor'];\n",
       "    switch (cursor) {\n",
       "        case 0:\n",
       "            cursor = 'pointer';\n",
       "            break;\n",
       "        case 1:\n",
       "            cursor = 'default';\n",
       "            break;\n",
       "        case 2:\n",
       "            cursor = 'crosshair';\n",
       "            break;\n",
       "        case 3:\n",
       "            cursor = 'move';\n",
       "            break;\n",
       "    }\n",
       "    fig.rubberband_canvas.style.cursor = cursor;\n",
       "};\n",
       "\n",
       "mpl.figure.prototype.handle_message = function (fig, msg) {\n",
       "    fig.message.textContent = msg['message'];\n",
       "};\n",
       "\n",
       "mpl.figure.prototype.handle_draw = function (fig, _msg) {\n",
       "    // Request the server to send over a new figure.\n",
       "    fig.send_draw_message();\n",
       "};\n",
       "\n",
       "mpl.figure.prototype.handle_image_mode = function (fig, msg) {\n",
       "    fig.image_mode = msg['mode'];\n",
       "};\n",
       "\n",
       "mpl.figure.prototype.handle_history_buttons = function (fig, msg) {\n",
       "    for (var key in msg) {\n",
       "        if (!(key in fig.buttons)) {\n",
       "            continue;\n",
       "        }\n",
       "        fig.buttons[key].disabled = !msg[key];\n",
       "        fig.buttons[key].setAttribute('aria-disabled', !msg[key]);\n",
       "    }\n",
       "};\n",
       "\n",
       "mpl.figure.prototype.handle_navigate_mode = function (fig, msg) {\n",
       "    if (msg['mode'] === 'PAN') {\n",
       "        fig.buttons['Pan'].classList.add('active');\n",
       "        fig.buttons['Zoom'].classList.remove('active');\n",
       "    } else if (msg['mode'] === 'ZOOM') {\n",
       "        fig.buttons['Pan'].classList.remove('active');\n",
       "        fig.buttons['Zoom'].classList.add('active');\n",
       "    } else {\n",
       "        fig.buttons['Pan'].classList.remove('active');\n",
       "        fig.buttons['Zoom'].classList.remove('active');\n",
       "    }\n",
       "};\n",
       "\n",
       "mpl.figure.prototype.updated_canvas_event = function () {\n",
       "    // Called whenever the canvas gets updated.\n",
       "    this.send_message('ack', {});\n",
       "};\n",
       "\n",
       "// A function to construct a web socket function for onmessage handling.\n",
       "// Called in the figure constructor.\n",
       "mpl.figure.prototype._make_on_message_function = function (fig) {\n",
       "    return function socket_on_message(evt) {\n",
       "        if (evt.data instanceof Blob) {\n",
       "            /* FIXME: We get \"Resource interpreted as Image but\n",
       "             * transferred with MIME type text/plain:\" errors on\n",
       "             * Chrome.  But how to set the MIME type?  It doesn't seem\n",
       "             * to be part of the websocket stream */\n",
       "            evt.data.type = 'image/png';\n",
       "\n",
       "            /* Free the memory for the previous frames */\n",
       "            if (fig.imageObj.src) {\n",
       "                (window.URL || window.webkitURL).revokeObjectURL(\n",
       "                    fig.imageObj.src\n",
       "                );\n",
       "            }\n",
       "\n",
       "            fig.imageObj.src = (window.URL || window.webkitURL).createObjectURL(\n",
       "                evt.data\n",
       "            );\n",
       "            fig.updated_canvas_event();\n",
       "            fig.waiting = false;\n",
       "            return;\n",
       "        } else if (\n",
       "            typeof evt.data === 'string' &&\n",
       "            evt.data.slice(0, 21) === 'data:image/png;base64'\n",
       "        ) {\n",
       "            fig.imageObj.src = evt.data;\n",
       "            fig.updated_canvas_event();\n",
       "            fig.waiting = false;\n",
       "            return;\n",
       "        }\n",
       "\n",
       "        var msg = JSON.parse(evt.data);\n",
       "        var msg_type = msg['type'];\n",
       "\n",
       "        // Call the  \"handle_{type}\" callback, which takes\n",
       "        // the figure and JSON message as its only arguments.\n",
       "        try {\n",
       "            var callback = fig['handle_' + msg_type];\n",
       "        } catch (e) {\n",
       "            console.log(\n",
       "                \"No handler for the '\" + msg_type + \"' message type: \",\n",
       "                msg\n",
       "            );\n",
       "            return;\n",
       "        }\n",
       "\n",
       "        if (callback) {\n",
       "            try {\n",
       "                // console.log(\"Handling '\" + msg_type + \"' message: \", msg);\n",
       "                callback(fig, msg);\n",
       "            } catch (e) {\n",
       "                console.log(\n",
       "                    \"Exception inside the 'handler_\" + msg_type + \"' callback:\",\n",
       "                    e,\n",
       "                    e.stack,\n",
       "                    msg\n",
       "                );\n",
       "            }\n",
       "        }\n",
       "    };\n",
       "};\n",
       "\n",
       "// from http://stackoverflow.com/questions/1114465/getting-mouse-location-in-canvas\n",
       "mpl.findpos = function (e) {\n",
       "    //this section is from http://www.quirksmode.org/js/events_properties.html\n",
       "    var targ;\n",
       "    if (!e) {\n",
       "        e = window.event;\n",
       "    }\n",
       "    if (e.target) {\n",
       "        targ = e.target;\n",
       "    } else if (e.srcElement) {\n",
       "        targ = e.srcElement;\n",
       "    }\n",
       "    if (targ.nodeType === 3) {\n",
       "        // defeat Safari bug\n",
       "        targ = targ.parentNode;\n",
       "    }\n",
       "\n",
       "    // pageX,Y are the mouse positions relative to the document\n",
       "    var boundingRect = targ.getBoundingClientRect();\n",
       "    var x = e.pageX - (boundingRect.left + document.body.scrollLeft);\n",
       "    var y = e.pageY - (boundingRect.top + document.body.scrollTop);\n",
       "\n",
       "    return { x: x, y: y };\n",
       "};\n",
       "\n",
       "/*\n",
       " * return a copy of an object with only non-object keys\n",
       " * we need this to avoid circular references\n",
       " * http://stackoverflow.com/a/24161582/3208463\n",
       " */\n",
       "function simpleKeys(original) {\n",
       "    return Object.keys(original).reduce(function (obj, key) {\n",
       "        if (typeof original[key] !== 'object') {\n",
       "            obj[key] = original[key];\n",
       "        }\n",
       "        return obj;\n",
       "    }, {});\n",
       "}\n",
       "\n",
       "mpl.figure.prototype.mouse_event = function (event, name) {\n",
       "    var canvas_pos = mpl.findpos(event);\n",
       "\n",
       "    if (name === 'button_press') {\n",
       "        this.canvas.focus();\n",
       "        this.canvas_div.focus();\n",
       "    }\n",
       "\n",
       "    var x = canvas_pos.x * this.ratio;\n",
       "    var y = canvas_pos.y * this.ratio;\n",
       "\n",
       "    this.send_message(name, {\n",
       "        x: x,\n",
       "        y: y,\n",
       "        button: event.button,\n",
       "        step: event.step,\n",
       "        guiEvent: simpleKeys(event),\n",
       "    });\n",
       "\n",
       "    /* This prevents the web browser from automatically changing to\n",
       "     * the text insertion cursor when the button is pressed.  We want\n",
       "     * to control all of the cursor setting manually through the\n",
       "     * 'cursor' event from matplotlib */\n",
       "    event.preventDefault();\n",
       "    return false;\n",
       "};\n",
       "\n",
       "mpl.figure.prototype._key_event_extra = function (_event, _name) {\n",
       "    // Handle any extra behaviour associated with a key event\n",
       "};\n",
       "\n",
       "mpl.figure.prototype.key_event = function (event, name) {\n",
       "    // Prevent repeat events\n",
       "    if (name === 'key_press') {\n",
       "        if (event.which === this._key) {\n",
       "            return;\n",
       "        } else {\n",
       "            this._key = event.which;\n",
       "        }\n",
       "    }\n",
       "    if (name === 'key_release') {\n",
       "        this._key = null;\n",
       "    }\n",
       "\n",
       "    var value = '';\n",
       "    if (event.ctrlKey && event.which !== 17) {\n",
       "        value += 'ctrl+';\n",
       "    }\n",
       "    if (event.altKey && event.which !== 18) {\n",
       "        value += 'alt+';\n",
       "    }\n",
       "    if (event.shiftKey && event.which !== 16) {\n",
       "        value += 'shift+';\n",
       "    }\n",
       "\n",
       "    value += 'k';\n",
       "    value += event.which.toString();\n",
       "\n",
       "    this._key_event_extra(event, name);\n",
       "\n",
       "    this.send_message(name, { key: value, guiEvent: simpleKeys(event) });\n",
       "    return false;\n",
       "};\n",
       "\n",
       "mpl.figure.prototype.toolbar_button_onclick = function (name) {\n",
       "    if (name === 'download') {\n",
       "        this.handle_save(this, null);\n",
       "    } else {\n",
       "        this.send_message('toolbar_button', { name: name });\n",
       "    }\n",
       "};\n",
       "\n",
       "mpl.figure.prototype.toolbar_button_onmouseover = function (tooltip) {\n",
       "    this.message.textContent = tooltip;\n",
       "};\n",
       "mpl.toolbar_items = [[\"Home\", \"Reset original view\", \"fa fa-home icon-home\", \"home\"], [\"Back\", \"Back to previous view\", \"fa fa-arrow-left icon-arrow-left\", \"back\"], [\"Forward\", \"Forward to next view\", \"fa fa-arrow-right icon-arrow-right\", \"forward\"], [\"\", \"\", \"\", \"\"], [\"Pan\", \"Left button pans, Right button zooms\\nx/y fixes axis, CTRL fixes aspect\", \"fa fa-arrows icon-move\", \"pan\"], [\"Zoom\", \"Zoom to rectangle\\nx/y fixes axis, CTRL fixes aspect\", \"fa fa-square-o icon-check-empty\", \"zoom\"], [\"\", \"\", \"\", \"\"], [\"Download\", \"Download plot\", \"fa fa-floppy-o icon-save\", \"download\"]];\n",
       "\n",
       "mpl.extensions = [\"eps\", \"jpeg\", \"pdf\", \"png\", \"ps\", \"raw\", \"svg\", \"tif\"];\n",
       "\n",
       "mpl.default_extension = \"png\";/* global mpl */\n",
       "\n",
       "var comm_websocket_adapter = function (comm) {\n",
       "    // Create a \"websocket\"-like object which calls the given IPython comm\n",
       "    // object with the appropriate methods. Currently this is a non binary\n",
       "    // socket, so there is still some room for performance tuning.\n",
       "    var ws = {};\n",
       "\n",
       "    ws.close = function () {\n",
       "        comm.close();\n",
       "    };\n",
       "    ws.send = function (m) {\n",
       "        //console.log('sending', m);\n",
       "        comm.send(m);\n",
       "    };\n",
       "    // Register the callback with on_msg.\n",
       "    comm.on_msg(function (msg) {\n",
       "        //console.log('receiving', msg['content']['data'], msg);\n",
       "        // Pass the mpl event to the overridden (by mpl) onmessage function.\n",
       "        ws.onmessage(msg['content']['data']);\n",
       "    });\n",
       "    return ws;\n",
       "};\n",
       "\n",
       "mpl.mpl_figure_comm = function (comm, msg) {\n",
       "    // This is the function which gets called when the mpl process\n",
       "    // starts-up an IPython Comm through the \"matplotlib\" channel.\n",
       "\n",
       "    var id = msg.content.data.id;\n",
       "    // Get hold of the div created by the display call when the Comm\n",
       "    // socket was opened in Python.\n",
       "    var element = document.getElementById(id);\n",
       "    var ws_proxy = comm_websocket_adapter(comm);\n",
       "\n",
       "    function ondownload(figure, _format) {\n",
       "        window.open(figure.canvas.toDataURL());\n",
       "    }\n",
       "\n",
       "    var fig = new mpl.figure(id, ws_proxy, ondownload, element);\n",
       "\n",
       "    // Call onopen now - mpl needs it, as it is assuming we've passed it a real\n",
       "    // web socket which is closed, not our websocket->open comm proxy.\n",
       "    ws_proxy.onopen();\n",
       "\n",
       "    fig.parent_element = element;\n",
       "    fig.cell_info = mpl.find_output_cell(\"<div id='\" + id + \"'></div>\");\n",
       "    if (!fig.cell_info) {\n",
       "        console.error('Failed to find cell for figure', id, fig);\n",
       "        return;\n",
       "    }\n",
       "    fig.cell_info[0].output_area.element.one(\n",
       "        'cleared',\n",
       "        { fig: fig },\n",
       "        fig._remove_fig_handler\n",
       "    );\n",
       "};\n",
       "\n",
       "mpl.figure.prototype.handle_close = function (fig, msg) {\n",
       "    var width = fig.canvas.width / fig.ratio;\n",
       "    fig.cell_info[0].output_area.element.off(\n",
       "        'cleared',\n",
       "        fig._remove_fig_handler\n",
       "    );\n",
       "\n",
       "    // Update the output cell to use the data from the current canvas.\n",
       "    fig.push_to_output();\n",
       "    var dataURL = fig.canvas.toDataURL();\n",
       "    // Re-enable the keyboard manager in IPython - without this line, in FF,\n",
       "    // the notebook keyboard shortcuts fail.\n",
       "    IPython.keyboard_manager.enable();\n",
       "    fig.parent_element.innerHTML =\n",
       "        '<img src=\"' + dataURL + '\" width=\"' + width + '\">';\n",
       "    fig.close_ws(fig, msg);\n",
       "};\n",
       "\n",
       "mpl.figure.prototype.close_ws = function (fig, msg) {\n",
       "    fig.send_message('closing', msg);\n",
       "    // fig.ws.close()\n",
       "};\n",
       "\n",
       "mpl.figure.prototype.push_to_output = function (_remove_interactive) {\n",
       "    // Turn the data on the canvas into data in the output cell.\n",
       "    var width = this.canvas.width / this.ratio;\n",
       "    var dataURL = this.canvas.toDataURL();\n",
       "    this.cell_info[1]['text/html'] =\n",
       "        '<img src=\"' + dataURL + '\" width=\"' + width + '\">';\n",
       "};\n",
       "\n",
       "mpl.figure.prototype.updated_canvas_event = function () {\n",
       "    // Tell IPython that the notebook contents must change.\n",
       "    IPython.notebook.set_dirty(true);\n",
       "    this.send_message('ack', {});\n",
       "    var fig = this;\n",
       "    // Wait a second, then push the new image to the DOM so\n",
       "    // that it is saved nicely (might be nice to debounce this).\n",
       "    setTimeout(function () {\n",
       "        fig.push_to_output();\n",
       "    }, 1000);\n",
       "};\n",
       "\n",
       "mpl.figure.prototype._init_toolbar = function () {\n",
       "    var fig = this;\n",
       "\n",
       "    var toolbar = document.createElement('div');\n",
       "    toolbar.classList = 'btn-toolbar';\n",
       "    this.root.appendChild(toolbar);\n",
       "\n",
       "    function on_click_closure(name) {\n",
       "        return function (_event) {\n",
       "            return fig.toolbar_button_onclick(name);\n",
       "        };\n",
       "    }\n",
       "\n",
       "    function on_mouseover_closure(tooltip) {\n",
       "        return function (event) {\n",
       "            if (!event.currentTarget.disabled) {\n",
       "                return fig.toolbar_button_onmouseover(tooltip);\n",
       "            }\n",
       "        };\n",
       "    }\n",
       "\n",
       "    fig.buttons = {};\n",
       "    var buttonGroup = document.createElement('div');\n",
       "    buttonGroup.classList = 'btn-group';\n",
       "    var button;\n",
       "    for (var toolbar_ind in mpl.toolbar_items) {\n",
       "        var name = mpl.toolbar_items[toolbar_ind][0];\n",
       "        var tooltip = mpl.toolbar_items[toolbar_ind][1];\n",
       "        var image = mpl.toolbar_items[toolbar_ind][2];\n",
       "        var method_name = mpl.toolbar_items[toolbar_ind][3];\n",
       "\n",
       "        if (!name) {\n",
       "            /* Instead of a spacer, we start a new button group. */\n",
       "            if (buttonGroup.hasChildNodes()) {\n",
       "                toolbar.appendChild(buttonGroup);\n",
       "            }\n",
       "            buttonGroup = document.createElement('div');\n",
       "            buttonGroup.classList = 'btn-group';\n",
       "            continue;\n",
       "        }\n",
       "\n",
       "        button = fig.buttons[name] = document.createElement('button');\n",
       "        button.classList = 'btn btn-default';\n",
       "        button.href = '#';\n",
       "        button.title = name;\n",
       "        button.innerHTML = '<i class=\"fa ' + image + ' fa-lg\"></i>';\n",
       "        button.addEventListener('click', on_click_closure(method_name));\n",
       "        button.addEventListener('mouseover', on_mouseover_closure(tooltip));\n",
       "        buttonGroup.appendChild(button);\n",
       "    }\n",
       "\n",
       "    if (buttonGroup.hasChildNodes()) {\n",
       "        toolbar.appendChild(buttonGroup);\n",
       "    }\n",
       "\n",
       "    // Add the status bar.\n",
       "    var status_bar = document.createElement('span');\n",
       "    status_bar.classList = 'mpl-message pull-right';\n",
       "    toolbar.appendChild(status_bar);\n",
       "    this.message = status_bar;\n",
       "\n",
       "    // Add the close button to the window.\n",
       "    var buttongrp = document.createElement('div');\n",
       "    buttongrp.classList = 'btn-group inline pull-right';\n",
       "    button = document.createElement('button');\n",
       "    button.classList = 'btn btn-mini btn-primary';\n",
       "    button.href = '#';\n",
       "    button.title = 'Stop Interaction';\n",
       "    button.innerHTML = '<i class=\"fa fa-power-off icon-remove icon-large\"></i>';\n",
       "    button.addEventListener('click', function (_evt) {\n",
       "        fig.handle_close(fig, {});\n",
       "    });\n",
       "    button.addEventListener(\n",
       "        'mouseover',\n",
       "        on_mouseover_closure('Stop Interaction')\n",
       "    );\n",
       "    buttongrp.appendChild(button);\n",
       "    var titlebar = this.root.querySelector('.ui-dialog-titlebar');\n",
       "    titlebar.insertBefore(buttongrp, titlebar.firstChild);\n",
       "};\n",
       "\n",
       "mpl.figure.prototype._remove_fig_handler = function (event) {\n",
       "    var fig = event.data.fig;\n",
       "    fig.close_ws(fig, {});\n",
       "};\n",
       "\n",
       "mpl.figure.prototype._root_extra_style = function (el) {\n",
       "    el.style.boxSizing = 'content-box'; // override notebook setting of border-box.\n",
       "};\n",
       "\n",
       "mpl.figure.prototype._canvas_extra_style = function (el) {\n",
       "    // this is important to make the div 'focusable\n",
       "    el.setAttribute('tabindex', 0);\n",
       "    // reach out to IPython and tell the keyboard manager to turn it's self\n",
       "    // off when our div gets focus\n",
       "\n",
       "    // location in version 3\n",
       "    if (IPython.notebook.keyboard_manager) {\n",
       "        IPython.notebook.keyboard_manager.register_events(el);\n",
       "    } else {\n",
       "        // location in version 2\n",
       "        IPython.keyboard_manager.register_events(el);\n",
       "    }\n",
       "};\n",
       "\n",
       "mpl.figure.prototype._key_event_extra = function (event, _name) {\n",
       "    var manager = IPython.notebook.keyboard_manager;\n",
       "    if (!manager) {\n",
       "        manager = IPython.keyboard_manager;\n",
       "    }\n",
       "\n",
       "    // Check for shift+enter\n",
       "    if (event.shiftKey && event.which === 13) {\n",
       "        this.canvas_div.blur();\n",
       "        // select the cell after this one\n",
       "        var index = IPython.notebook.find_cell_index(this.cell_info[0]);\n",
       "        IPython.notebook.select(index + 1);\n",
       "    }\n",
       "};\n",
       "\n",
       "mpl.figure.prototype.handle_save = function (fig, _msg) {\n",
       "    fig.ondownload(fig, null);\n",
       "};\n",
       "\n",
       "mpl.find_output_cell = function (html_output) {\n",
       "    // Return the cell and output element which can be found *uniquely* in the notebook.\n",
       "    // Note - this is a bit hacky, but it is done because the \"notebook_saving.Notebook\"\n",
       "    // IPython event is triggered only after the cells have been serialised, which for\n",
       "    // our purposes (turning an active figure into a static one), is too late.\n",
       "    var cells = IPython.notebook.get_cells();\n",
       "    var ncells = cells.length;\n",
       "    for (var i = 0; i < ncells; i++) {\n",
       "        var cell = cells[i];\n",
       "        if (cell.cell_type === 'code') {\n",
       "            for (var j = 0; j < cell.output_area.outputs.length; j++) {\n",
       "                var data = cell.output_area.outputs[j];\n",
       "                if (data.data) {\n",
       "                    // IPython >= 3 moved mimebundle to data attribute of output\n",
       "                    data = data.data;\n",
       "                }\n",
       "                if (data['text/html'] === html_output) {\n",
       "                    return [cell, data, j];\n",
       "                }\n",
       "            }\n",
       "        }\n",
       "    }\n",
       "};\n",
       "\n",
       "// Register the function which deals with the matplotlib target/channel.\n",
       "// The kernel may be null if the page has been refreshed.\n",
       "if (IPython.notebook.kernel !== null) {\n",
       "    IPython.notebook.kernel.comm_manager.register_target(\n",
       "        'matplotlib',\n",
       "        mpl.mpl_figure_comm\n",
       "    );\n",
       "}\n"
      ],
      "text/plain": [
       "<IPython.core.display.Javascript object>"
      ]
     },
     "metadata": {},
     "output_type": "display_data"
    },
    {
     "data": {
      "text/html": [
       "<img src=\"data:image/png;base64,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\" width=\"600\">"
      ],
      "text/plain": [
       "<IPython.core.display.HTML object>"
      ]
     },
     "metadata": {},
     "output_type": "display_data"
    }
   ],
   "source": [
    "display_pca_scatterplot(model, \n",
    "                        ['coffee', 'tea', 'beer', 'wine', 'brandy', 'rum', 'champagne', 'water',\n",
    "                         'spaghetti', 'borscht', 'hamburger', 'pizza', 'falafel', 'sushi', 'meatballs',\n",
    "                         'dog', 'horse', 'cat', 'monkey', 'parrot', 'koala', 'lizard',\n",
    "                         'frog', 'toad', 'monkey', 'ape', 'kangaroo', 'wombat', 'wolf',\n",
    "                         'france', 'germany', 'hungary', 'luxembourg', 'australia', 'fiji', 'china',\n",
    "                         'homework', 'assignment', 'problem', 'exam', 'test', 'class',\n",
    "                         'school', 'college', 'university', 'institute'])"
   ]
  },
  {
   "cell_type": "code",
   "execution_count": 68,
   "metadata": {},
   "outputs": [
    {
     "data": {
      "application/javascript": [
       "/* Put everything inside the global mpl namespace */\n",
       "/* global mpl */\n",
       "window.mpl = {};\n",
       "\n",
       "mpl.get_websocket_type = function () {\n",
       "    if (typeof WebSocket !== 'undefined') {\n",
       "        return WebSocket;\n",
       "    } else if (typeof MozWebSocket !== 'undefined') {\n",
       "        return MozWebSocket;\n",
       "    } else {\n",
       "        alert(\n",
       "            'Your browser does not have WebSocket support. ' +\n",
       "                'Please try Chrome, Safari or Firefox ≥ 6. ' +\n",
       "                'Firefox 4 and 5 are also supported but you ' +\n",
       "                'have to enable WebSockets in about:config.'\n",
       "        );\n",
       "    }\n",
       "};\n",
       "\n",
       "mpl.figure = function (figure_id, websocket, ondownload, parent_element) {\n",
       "    this.id = figure_id;\n",
       "\n",
       "    this.ws = websocket;\n",
       "\n",
       "    this.supports_binary = this.ws.binaryType !== undefined;\n",
       "\n",
       "    if (!this.supports_binary) {\n",
       "        var warnings = document.getElementById('mpl-warnings');\n",
       "        if (warnings) {\n",
       "            warnings.style.display = 'block';\n",
       "            warnings.textContent =\n",
       "                'This browser does not support binary websocket messages. ' +\n",
       "                'Performance may be slow.';\n",
       "        }\n",
       "    }\n",
       "\n",
       "    this.imageObj = new Image();\n",
       "\n",
       "    this.context = undefined;\n",
       "    this.message = undefined;\n",
       "    this.canvas = undefined;\n",
       "    this.rubberband_canvas = undefined;\n",
       "    this.rubberband_context = undefined;\n",
       "    this.format_dropdown = undefined;\n",
       "\n",
       "    this.image_mode = 'full';\n",
       "\n",
       "    this.root = document.createElement('div');\n",
       "    this.root.setAttribute('style', 'display: inline-block');\n",
       "    this._root_extra_style(this.root);\n",
       "\n",
       "    parent_element.appendChild(this.root);\n",
       "\n",
       "    this._init_header(this);\n",
       "    this._init_canvas(this);\n",
       "    this._init_toolbar(this);\n",
       "\n",
       "    var fig = this;\n",
       "\n",
       "    this.waiting = false;\n",
       "\n",
       "    this.ws.onopen = function () {\n",
       "        fig.send_message('supports_binary', { value: fig.supports_binary });\n",
       "        fig.send_message('send_image_mode', {});\n",
       "        if (fig.ratio !== 1) {\n",
       "            fig.send_message('set_dpi_ratio', { dpi_ratio: fig.ratio });\n",
       "        }\n",
       "        fig.send_message('refresh', {});\n",
       "    };\n",
       "\n",
       "    this.imageObj.onload = function () {\n",
       "        if (fig.image_mode === 'full') {\n",
       "            // Full images could contain transparency (where diff images\n",
       "            // almost always do), so we need to clear the canvas so that\n",
       "            // there is no ghosting.\n",
       "            fig.context.clearRect(0, 0, fig.canvas.width, fig.canvas.height);\n",
       "        }\n",
       "        fig.context.drawImage(fig.imageObj, 0, 0);\n",
       "    };\n",
       "\n",
       "    this.imageObj.onunload = function () {\n",
       "        fig.ws.close();\n",
       "    };\n",
       "\n",
       "    this.ws.onmessage = this._make_on_message_function(this);\n",
       "\n",
       "    this.ondownload = ondownload;\n",
       "};\n",
       "\n",
       "mpl.figure.prototype._init_header = function () {\n",
       "    var titlebar = document.createElement('div');\n",
       "    titlebar.classList =\n",
       "        'ui-dialog-titlebar ui-widget-header ui-corner-all ui-helper-clearfix';\n",
       "    var titletext = document.createElement('div');\n",
       "    titletext.classList = 'ui-dialog-title';\n",
       "    titletext.setAttribute(\n",
       "        'style',\n",
       "        'width: 100%; text-align: center; padding: 3px;'\n",
       "    );\n",
       "    titlebar.appendChild(titletext);\n",
       "    this.root.appendChild(titlebar);\n",
       "    this.header = titletext;\n",
       "};\n",
       "\n",
       "mpl.figure.prototype._canvas_extra_style = function (_canvas_div) {};\n",
       "\n",
       "mpl.figure.prototype._root_extra_style = function (_canvas_div) {};\n",
       "\n",
       "mpl.figure.prototype._init_canvas = function () {\n",
       "    var fig = this;\n",
       "\n",
       "    var canvas_div = (this.canvas_div = document.createElement('div'));\n",
       "    canvas_div.setAttribute(\n",
       "        'style',\n",
       "        'border: 1px solid #ddd;' +\n",
       "            'box-sizing: content-box;' +\n",
       "            'clear: both;' +\n",
       "            'min-height: 1px;' +\n",
       "            'min-width: 1px;' +\n",
       "            'outline: 0;' +\n",
       "            'overflow: hidden;' +\n",
       "            'position: relative;' +\n",
       "            'resize: both;'\n",
       "    );\n",
       "\n",
       "    function on_keyboard_event_closure(name) {\n",
       "        return function (event) {\n",
       "            return fig.key_event(event, name);\n",
       "        };\n",
       "    }\n",
       "\n",
       "    canvas_div.addEventListener(\n",
       "        'keydown',\n",
       "        on_keyboard_event_closure('key_press')\n",
       "    );\n",
       "    canvas_div.addEventListener(\n",
       "        'keyup',\n",
       "        on_keyboard_event_closure('key_release')\n",
       "    );\n",
       "\n",
       "    this._canvas_extra_style(canvas_div);\n",
       "    this.root.appendChild(canvas_div);\n",
       "\n",
       "    var canvas = (this.canvas = document.createElement('canvas'));\n",
       "    canvas.classList.add('mpl-canvas');\n",
       "    canvas.setAttribute('style', 'box-sizing: content-box;');\n",
       "\n",
       "    this.context = canvas.getContext('2d');\n",
       "\n",
       "    var backingStore =\n",
       "        this.context.backingStorePixelRatio ||\n",
       "        this.context.webkitBackingStorePixelRatio ||\n",
       "        this.context.mozBackingStorePixelRatio ||\n",
       "        this.context.msBackingStorePixelRatio ||\n",
       "        this.context.oBackingStorePixelRatio ||\n",
       "        this.context.backingStorePixelRatio ||\n",
       "        1;\n",
       "\n",
       "    this.ratio = (window.devicePixelRatio || 1) / backingStore;\n",
       "    if (this.ratio !== 1) {\n",
       "        fig.send_message('set_dpi_ratio', { dpi_ratio: this.ratio });\n",
       "    }\n",
       "\n",
       "    var rubberband_canvas = (this.rubberband_canvas = document.createElement(\n",
       "        'canvas'\n",
       "    ));\n",
       "    rubberband_canvas.setAttribute(\n",
       "        'style',\n",
       "        'box-sizing: content-box; position: absolute; left: 0; top: 0; z-index: 1;'\n",
       "    );\n",
       "\n",
       "    var resizeObserver = new ResizeObserver(function (entries) {\n",
       "        var nentries = entries.length;\n",
       "        for (var i = 0; i < nentries; i++) {\n",
       "            var entry = entries[i];\n",
       "            var width, height;\n",
       "            if (entry.contentBoxSize) {\n",
       "                if (entry.contentBoxSize instanceof Array) {\n",
       "                    // Chrome 84 implements new version of spec.\n",
       "                    width = entry.contentBoxSize[0].inlineSize;\n",
       "                    height = entry.contentBoxSize[0].blockSize;\n",
       "                } else {\n",
       "                    // Firefox implements old version of spec.\n",
       "                    width = entry.contentBoxSize.inlineSize;\n",
       "                    height = entry.contentBoxSize.blockSize;\n",
       "                }\n",
       "            } else {\n",
       "                // Chrome <84 implements even older version of spec.\n",
       "                width = entry.contentRect.width;\n",
       "                height = entry.contentRect.height;\n",
       "            }\n",
       "\n",
       "            // Keep the size of the canvas and rubber band canvas in sync with\n",
       "            // the canvas container.\n",
       "            if (entry.devicePixelContentBoxSize) {\n",
       "                // Chrome 84 implements new version of spec.\n",
       "                canvas.setAttribute(\n",
       "                    'width',\n",
       "                    entry.devicePixelContentBoxSize[0].inlineSize\n",
       "                );\n",
       "                canvas.setAttribute(\n",
       "                    'height',\n",
       "                    entry.devicePixelContentBoxSize[0].blockSize\n",
       "                );\n",
       "            } else {\n",
       "                canvas.setAttribute('width', width * fig.ratio);\n",
       "                canvas.setAttribute('height', height * fig.ratio);\n",
       "            }\n",
       "            canvas.setAttribute(\n",
       "                'style',\n",
       "                'width: ' + width + 'px; height: ' + height + 'px;'\n",
       "            );\n",
       "\n",
       "            rubberband_canvas.setAttribute('width', width);\n",
       "            rubberband_canvas.setAttribute('height', height);\n",
       "\n",
       "            // And update the size in Python. We ignore the initial 0/0 size\n",
       "            // that occurs as the element is placed into the DOM, which should\n",
       "            // otherwise not happen due to the minimum size styling.\n",
       "            if (width != 0 && height != 0) {\n",
       "                fig.request_resize(width, height);\n",
       "            }\n",
       "        }\n",
       "    });\n",
       "    resizeObserver.observe(canvas_div);\n",
       "\n",
       "    function on_mouse_event_closure(name) {\n",
       "        return function (event) {\n",
       "            return fig.mouse_event(event, name);\n",
       "        };\n",
       "    }\n",
       "\n",
       "    rubberband_canvas.addEventListener(\n",
       "        'mousedown',\n",
       "        on_mouse_event_closure('button_press')\n",
       "    );\n",
       "    rubberband_canvas.addEventListener(\n",
       "        'mouseup',\n",
       "        on_mouse_event_closure('button_release')\n",
       "    );\n",
       "    // Throttle sequential mouse events to 1 every 20ms.\n",
       "    rubberband_canvas.addEventListener(\n",
       "        'mousemove',\n",
       "        on_mouse_event_closure('motion_notify')\n",
       "    );\n",
       "\n",
       "    rubberband_canvas.addEventListener(\n",
       "        'mouseenter',\n",
       "        on_mouse_event_closure('figure_enter')\n",
       "    );\n",
       "    rubberband_canvas.addEventListener(\n",
       "        'mouseleave',\n",
       "        on_mouse_event_closure('figure_leave')\n",
       "    );\n",
       "\n",
       "    canvas_div.addEventListener('wheel', function (event) {\n",
       "        if (event.deltaY < 0) {\n",
       "            event.step = 1;\n",
       "        } else {\n",
       "            event.step = -1;\n",
       "        }\n",
       "        on_mouse_event_closure('scroll')(event);\n",
       "    });\n",
       "\n",
       "    canvas_div.appendChild(canvas);\n",
       "    canvas_div.appendChild(rubberband_canvas);\n",
       "\n",
       "    this.rubberband_context = rubberband_canvas.getContext('2d');\n",
       "    this.rubberband_context.strokeStyle = '#000000';\n",
       "\n",
       "    this._resize_canvas = function (width, height, forward) {\n",
       "        if (forward) {\n",
       "            canvas_div.style.width = width + 'px';\n",
       "            canvas_div.style.height = height + 'px';\n",
       "        }\n",
       "    };\n",
       "\n",
       "    // Disable right mouse context menu.\n",
       "    this.rubberband_canvas.addEventListener('contextmenu', function (_e) {\n",
       "        event.preventDefault();\n",
       "        return false;\n",
       "    });\n",
       "\n",
       "    function set_focus() {\n",
       "        canvas.focus();\n",
       "        canvas_div.focus();\n",
       "    }\n",
       "\n",
       "    window.setTimeout(set_focus, 100);\n",
       "};\n",
       "\n",
       "mpl.figure.prototype._init_toolbar = function () {\n",
       "    var fig = this;\n",
       "\n",
       "    var toolbar = document.createElement('div');\n",
       "    toolbar.classList = 'mpl-toolbar';\n",
       "    this.root.appendChild(toolbar);\n",
       "\n",
       "    function on_click_closure(name) {\n",
       "        return function (_event) {\n",
       "            return fig.toolbar_button_onclick(name);\n",
       "        };\n",
       "    }\n",
       "\n",
       "    function on_mouseover_closure(tooltip) {\n",
       "        return function (event) {\n",
       "            if (!event.currentTarget.disabled) {\n",
       "                return fig.toolbar_button_onmouseover(tooltip);\n",
       "            }\n",
       "        };\n",
       "    }\n",
       "\n",
       "    fig.buttons = {};\n",
       "    var buttonGroup = document.createElement('div');\n",
       "    buttonGroup.classList = 'mpl-button-group';\n",
       "    for (var toolbar_ind in mpl.toolbar_items) {\n",
       "        var name = mpl.toolbar_items[toolbar_ind][0];\n",
       "        var tooltip = mpl.toolbar_items[toolbar_ind][1];\n",
       "        var image = mpl.toolbar_items[toolbar_ind][2];\n",
       "        var method_name = mpl.toolbar_items[toolbar_ind][3];\n",
       "\n",
       "        if (!name) {\n",
       "            /* Instead of a spacer, we start a new button group. */\n",
       "            if (buttonGroup.hasChildNodes()) {\n",
       "                toolbar.appendChild(buttonGroup);\n",
       "            }\n",
       "            buttonGroup = document.createElement('div');\n",
       "            buttonGroup.classList = 'mpl-button-group';\n",
       "            continue;\n",
       "        }\n",
       "\n",
       "        var button = (fig.buttons[name] = document.createElement('button'));\n",
       "        button.classList = 'mpl-widget';\n",
       "        button.setAttribute('role', 'button');\n",
       "        button.setAttribute('aria-disabled', 'false');\n",
       "        button.addEventListener('click', on_click_closure(method_name));\n",
       "        button.addEventListener('mouseover', on_mouseover_closure(tooltip));\n",
       "\n",
       "        var icon_img = document.createElement('img');\n",
       "        icon_img.src = '_images/' + image + '.png';\n",
       "        icon_img.srcset = '_images/' + image + '_large.png 2x';\n",
       "        icon_img.alt = tooltip;\n",
       "        button.appendChild(icon_img);\n",
       "\n",
       "        buttonGroup.appendChild(button);\n",
       "    }\n",
       "\n",
       "    if (buttonGroup.hasChildNodes()) {\n",
       "        toolbar.appendChild(buttonGroup);\n",
       "    }\n",
       "\n",
       "    var fmt_picker = document.createElement('select');\n",
       "    fmt_picker.classList = 'mpl-widget';\n",
       "    toolbar.appendChild(fmt_picker);\n",
       "    this.format_dropdown = fmt_picker;\n",
       "\n",
       "    for (var ind in mpl.extensions) {\n",
       "        var fmt = mpl.extensions[ind];\n",
       "        var option = document.createElement('option');\n",
       "        option.selected = fmt === mpl.default_extension;\n",
       "        option.innerHTML = fmt;\n",
       "        fmt_picker.appendChild(option);\n",
       "    }\n",
       "\n",
       "    var status_bar = document.createElement('span');\n",
       "    status_bar.classList = 'mpl-message';\n",
       "    toolbar.appendChild(status_bar);\n",
       "    this.message = status_bar;\n",
       "};\n",
       "\n",
       "mpl.figure.prototype.request_resize = function (x_pixels, y_pixels) {\n",
       "    // Request matplotlib to resize the figure. Matplotlib will then trigger a resize in the client,\n",
       "    // which will in turn request a refresh of the image.\n",
       "    this.send_message('resize', { width: x_pixels, height: y_pixels });\n",
       "};\n",
       "\n",
       "mpl.figure.prototype.send_message = function (type, properties) {\n",
       "    properties['type'] = type;\n",
       "    properties['figure_id'] = this.id;\n",
       "    this.ws.send(JSON.stringify(properties));\n",
       "};\n",
       "\n",
       "mpl.figure.prototype.send_draw_message = function () {\n",
       "    if (!this.waiting) {\n",
       "        this.waiting = true;\n",
       "        this.ws.send(JSON.stringify({ type: 'draw', figure_id: this.id }));\n",
       "    }\n",
       "};\n",
       "\n",
       "mpl.figure.prototype.handle_save = function (fig, _msg) {\n",
       "    var format_dropdown = fig.format_dropdown;\n",
       "    var format = format_dropdown.options[format_dropdown.selectedIndex].value;\n",
       "    fig.ondownload(fig, format);\n",
       "};\n",
       "\n",
       "mpl.figure.prototype.handle_resize = function (fig, msg) {\n",
       "    var size = msg['size'];\n",
       "    if (size[0] !== fig.canvas.width || size[1] !== fig.canvas.height) {\n",
       "        fig._resize_canvas(size[0], size[1], msg['forward']);\n",
       "        fig.send_message('refresh', {});\n",
       "    }\n",
       "};\n",
       "\n",
       "mpl.figure.prototype.handle_rubberband = function (fig, msg) {\n",
       "    var x0 = msg['x0'] / fig.ratio;\n",
       "    var y0 = (fig.canvas.height - msg['y0']) / fig.ratio;\n",
       "    var x1 = msg['x1'] / fig.ratio;\n",
       "    var y1 = (fig.canvas.height - msg['y1']) / fig.ratio;\n",
       "    x0 = Math.floor(x0) + 0.5;\n",
       "    y0 = Math.floor(y0) + 0.5;\n",
       "    x1 = Math.floor(x1) + 0.5;\n",
       "    y1 = Math.floor(y1) + 0.5;\n",
       "    var min_x = Math.min(x0, x1);\n",
       "    var min_y = Math.min(y0, y1);\n",
       "    var width = Math.abs(x1 - x0);\n",
       "    var height = Math.abs(y1 - y0);\n",
       "\n",
       "    fig.rubberband_context.clearRect(\n",
       "        0,\n",
       "        0,\n",
       "        fig.canvas.width / fig.ratio,\n",
       "        fig.canvas.height / fig.ratio\n",
       "    );\n",
       "\n",
       "    fig.rubberband_context.strokeRect(min_x, min_y, width, height);\n",
       "};\n",
       "\n",
       "mpl.figure.prototype.handle_figure_label = function (fig, msg) {\n",
       "    // Updates the figure title.\n",
       "    fig.header.textContent = msg['label'];\n",
       "};\n",
       "\n",
       "mpl.figure.prototype.handle_cursor = function (fig, msg) {\n",
       "    var cursor = msg['cursor'];\n",
       "    switch (cursor) {\n",
       "        case 0:\n",
       "            cursor = 'pointer';\n",
       "            break;\n",
       "        case 1:\n",
       "            cursor = 'default';\n",
       "            break;\n",
       "        case 2:\n",
       "            cursor = 'crosshair';\n",
       "            break;\n",
       "        case 3:\n",
       "            cursor = 'move';\n",
       "            break;\n",
       "    }\n",
       "    fig.rubberband_canvas.style.cursor = cursor;\n",
       "};\n",
       "\n",
       "mpl.figure.prototype.handle_message = function (fig, msg) {\n",
       "    fig.message.textContent = msg['message'];\n",
       "};\n",
       "\n",
       "mpl.figure.prototype.handle_draw = function (fig, _msg) {\n",
       "    // Request the server to send over a new figure.\n",
       "    fig.send_draw_message();\n",
       "};\n",
       "\n",
       "mpl.figure.prototype.handle_image_mode = function (fig, msg) {\n",
       "    fig.image_mode = msg['mode'];\n",
       "};\n",
       "\n",
       "mpl.figure.prototype.handle_history_buttons = function (fig, msg) {\n",
       "    for (var key in msg) {\n",
       "        if (!(key in fig.buttons)) {\n",
       "            continue;\n",
       "        }\n",
       "        fig.buttons[key].disabled = !msg[key];\n",
       "        fig.buttons[key].setAttribute('aria-disabled', !msg[key]);\n",
       "    }\n",
       "};\n",
       "\n",
       "mpl.figure.prototype.handle_navigate_mode = function (fig, msg) {\n",
       "    if (msg['mode'] === 'PAN') {\n",
       "        fig.buttons['Pan'].classList.add('active');\n",
       "        fig.buttons['Zoom'].classList.remove('active');\n",
       "    } else if (msg['mode'] === 'ZOOM') {\n",
       "        fig.buttons['Pan'].classList.remove('active');\n",
       "        fig.buttons['Zoom'].classList.add('active');\n",
       "    } else {\n",
       "        fig.buttons['Pan'].classList.remove('active');\n",
       "        fig.buttons['Zoom'].classList.remove('active');\n",
       "    }\n",
       "};\n",
       "\n",
       "mpl.figure.prototype.updated_canvas_event = function () {\n",
       "    // Called whenever the canvas gets updated.\n",
       "    this.send_message('ack', {});\n",
       "};\n",
       "\n",
       "// A function to construct a web socket function for onmessage handling.\n",
       "// Called in the figure constructor.\n",
       "mpl.figure.prototype._make_on_message_function = function (fig) {\n",
       "    return function socket_on_message(evt) {\n",
       "        if (evt.data instanceof Blob) {\n",
       "            /* FIXME: We get \"Resource interpreted as Image but\n",
       "             * transferred with MIME type text/plain:\" errors on\n",
       "             * Chrome.  But how to set the MIME type?  It doesn't seem\n",
       "             * to be part of the websocket stream */\n",
       "            evt.data.type = 'image/png';\n",
       "\n",
       "            /* Free the memory for the previous frames */\n",
       "            if (fig.imageObj.src) {\n",
       "                (window.URL || window.webkitURL).revokeObjectURL(\n",
       "                    fig.imageObj.src\n",
       "                );\n",
       "            }\n",
       "\n",
       "            fig.imageObj.src = (window.URL || window.webkitURL).createObjectURL(\n",
       "                evt.data\n",
       "            );\n",
       "            fig.updated_canvas_event();\n",
       "            fig.waiting = false;\n",
       "            return;\n",
       "        } else if (\n",
       "            typeof evt.data === 'string' &&\n",
       "            evt.data.slice(0, 21) === 'data:image/png;base64'\n",
       "        ) {\n",
       "            fig.imageObj.src = evt.data;\n",
       "            fig.updated_canvas_event();\n",
       "            fig.waiting = false;\n",
       "            return;\n",
       "        }\n",
       "\n",
       "        var msg = JSON.parse(evt.data);\n",
       "        var msg_type = msg['type'];\n",
       "\n",
       "        // Call the  \"handle_{type}\" callback, which takes\n",
       "        // the figure and JSON message as its only arguments.\n",
       "        try {\n",
       "            var callback = fig['handle_' + msg_type];\n",
       "        } catch (e) {\n",
       "            console.log(\n",
       "                \"No handler for the '\" + msg_type + \"' message type: \",\n",
       "                msg\n",
       "            );\n",
       "            return;\n",
       "        }\n",
       "\n",
       "        if (callback) {\n",
       "            try {\n",
       "                // console.log(\"Handling '\" + msg_type + \"' message: \", msg);\n",
       "                callback(fig, msg);\n",
       "            } catch (e) {\n",
       "                console.log(\n",
       "                    \"Exception inside the 'handler_\" + msg_type + \"' callback:\",\n",
       "                    e,\n",
       "                    e.stack,\n",
       "                    msg\n",
       "                );\n",
       "            }\n",
       "        }\n",
       "    };\n",
       "};\n",
       "\n",
       "// from http://stackoverflow.com/questions/1114465/getting-mouse-location-in-canvas\n",
       "mpl.findpos = function (e) {\n",
       "    //this section is from http://www.quirksmode.org/js/events_properties.html\n",
       "    var targ;\n",
       "    if (!e) {\n",
       "        e = window.event;\n",
       "    }\n",
       "    if (e.target) {\n",
       "        targ = e.target;\n",
       "    } else if (e.srcElement) {\n",
       "        targ = e.srcElement;\n",
       "    }\n",
       "    if (targ.nodeType === 3) {\n",
       "        // defeat Safari bug\n",
       "        targ = targ.parentNode;\n",
       "    }\n",
       "\n",
       "    // pageX,Y are the mouse positions relative to the document\n",
       "    var boundingRect = targ.getBoundingClientRect();\n",
       "    var x = e.pageX - (boundingRect.left + document.body.scrollLeft);\n",
       "    var y = e.pageY - (boundingRect.top + document.body.scrollTop);\n",
       "\n",
       "    return { x: x, y: y };\n",
       "};\n",
       "\n",
       "/*\n",
       " * return a copy of an object with only non-object keys\n",
       " * we need this to avoid circular references\n",
       " * http://stackoverflow.com/a/24161582/3208463\n",
       " */\n",
       "function simpleKeys(original) {\n",
       "    return Object.keys(original).reduce(function (obj, key) {\n",
       "        if (typeof original[key] !== 'object') {\n",
       "            obj[key] = original[key];\n",
       "        }\n",
       "        return obj;\n",
       "    }, {});\n",
       "}\n",
       "\n",
       "mpl.figure.prototype.mouse_event = function (event, name) {\n",
       "    var canvas_pos = mpl.findpos(event);\n",
       "\n",
       "    if (name === 'button_press') {\n",
       "        this.canvas.focus();\n",
       "        this.canvas_div.focus();\n",
       "    }\n",
       "\n",
       "    var x = canvas_pos.x * this.ratio;\n",
       "    var y = canvas_pos.y * this.ratio;\n",
       "\n",
       "    this.send_message(name, {\n",
       "        x: x,\n",
       "        y: y,\n",
       "        button: event.button,\n",
       "        step: event.step,\n",
       "        guiEvent: simpleKeys(event),\n",
       "    });\n",
       "\n",
       "    /* This prevents the web browser from automatically changing to\n",
       "     * the text insertion cursor when the button is pressed.  We want\n",
       "     * to control all of the cursor setting manually through the\n",
       "     * 'cursor' event from matplotlib */\n",
       "    event.preventDefault();\n",
       "    return false;\n",
       "};\n",
       "\n",
       "mpl.figure.prototype._key_event_extra = function (_event, _name) {\n",
       "    // Handle any extra behaviour associated with a key event\n",
       "};\n",
       "\n",
       "mpl.figure.prototype.key_event = function (event, name) {\n",
       "    // Prevent repeat events\n",
       "    if (name === 'key_press') {\n",
       "        if (event.which === this._key) {\n",
       "            return;\n",
       "        } else {\n",
       "            this._key = event.which;\n",
       "        }\n",
       "    }\n",
       "    if (name === 'key_release') {\n",
       "        this._key = null;\n",
       "    }\n",
       "\n",
       "    var value = '';\n",
       "    if (event.ctrlKey && event.which !== 17) {\n",
       "        value += 'ctrl+';\n",
       "    }\n",
       "    if (event.altKey && event.which !== 18) {\n",
       "        value += 'alt+';\n",
       "    }\n",
       "    if (event.shiftKey && event.which !== 16) {\n",
       "        value += 'shift+';\n",
       "    }\n",
       "\n",
       "    value += 'k';\n",
       "    value += event.which.toString();\n",
       "\n",
       "    this._key_event_extra(event, name);\n",
       "\n",
       "    this.send_message(name, { key: value, guiEvent: simpleKeys(event) });\n",
       "    return false;\n",
       "};\n",
       "\n",
       "mpl.figure.prototype.toolbar_button_onclick = function (name) {\n",
       "    if (name === 'download') {\n",
       "        this.handle_save(this, null);\n",
       "    } else {\n",
       "        this.send_message('toolbar_button', { name: name });\n",
       "    }\n",
       "};\n",
       "\n",
       "mpl.figure.prototype.toolbar_button_onmouseover = function (tooltip) {\n",
       "    this.message.textContent = tooltip;\n",
       "};\n",
       "mpl.toolbar_items = [[\"Home\", \"Reset original view\", \"fa fa-home icon-home\", \"home\"], [\"Back\", \"Back to previous view\", \"fa fa-arrow-left icon-arrow-left\", \"back\"], [\"Forward\", \"Forward to next view\", \"fa fa-arrow-right icon-arrow-right\", \"forward\"], [\"\", \"\", \"\", \"\"], [\"Pan\", \"Left button pans, Right button zooms\\nx/y fixes axis, CTRL fixes aspect\", \"fa fa-arrows icon-move\", \"pan\"], [\"Zoom\", \"Zoom to rectangle\\nx/y fixes axis, CTRL fixes aspect\", \"fa fa-square-o icon-check-empty\", \"zoom\"], [\"\", \"\", \"\", \"\"], [\"Download\", \"Download plot\", \"fa fa-floppy-o icon-save\", \"download\"]];\n",
       "\n",
       "mpl.extensions = [\"eps\", \"jpeg\", \"pdf\", \"png\", \"ps\", \"raw\", \"svg\", \"tif\"];\n",
       "\n",
       "mpl.default_extension = \"png\";/* global mpl */\n",
       "\n",
       "var comm_websocket_adapter = function (comm) {\n",
       "    // Create a \"websocket\"-like object which calls the given IPython comm\n",
       "    // object with the appropriate methods. Currently this is a non binary\n",
       "    // socket, so there is still some room for performance tuning.\n",
       "    var ws = {};\n",
       "\n",
       "    ws.close = function () {\n",
       "        comm.close();\n",
       "    };\n",
       "    ws.send = function (m) {\n",
       "        //console.log('sending', m);\n",
       "        comm.send(m);\n",
       "    };\n",
       "    // Register the callback with on_msg.\n",
       "    comm.on_msg(function (msg) {\n",
       "        //console.log('receiving', msg['content']['data'], msg);\n",
       "        // Pass the mpl event to the overridden (by mpl) onmessage function.\n",
       "        ws.onmessage(msg['content']['data']);\n",
       "    });\n",
       "    return ws;\n",
       "};\n",
       "\n",
       "mpl.mpl_figure_comm = function (comm, msg) {\n",
       "    // This is the function which gets called when the mpl process\n",
       "    // starts-up an IPython Comm through the \"matplotlib\" channel.\n",
       "\n",
       "    var id = msg.content.data.id;\n",
       "    // Get hold of the div created by the display call when the Comm\n",
       "    // socket was opened in Python.\n",
       "    var element = document.getElementById(id);\n",
       "    var ws_proxy = comm_websocket_adapter(comm);\n",
       "\n",
       "    function ondownload(figure, _format) {\n",
       "        window.open(figure.canvas.toDataURL());\n",
       "    }\n",
       "\n",
       "    var fig = new mpl.figure(id, ws_proxy, ondownload, element);\n",
       "\n",
       "    // Call onopen now - mpl needs it, as it is assuming we've passed it a real\n",
       "    // web socket which is closed, not our websocket->open comm proxy.\n",
       "    ws_proxy.onopen();\n",
       "\n",
       "    fig.parent_element = element;\n",
       "    fig.cell_info = mpl.find_output_cell(\"<div id='\" + id + \"'></div>\");\n",
       "    if (!fig.cell_info) {\n",
       "        console.error('Failed to find cell for figure', id, fig);\n",
       "        return;\n",
       "    }\n",
       "    fig.cell_info[0].output_area.element.one(\n",
       "        'cleared',\n",
       "        { fig: fig },\n",
       "        fig._remove_fig_handler\n",
       "    );\n",
       "};\n",
       "\n",
       "mpl.figure.prototype.handle_close = function (fig, msg) {\n",
       "    var width = fig.canvas.width / fig.ratio;\n",
       "    fig.cell_info[0].output_area.element.off(\n",
       "        'cleared',\n",
       "        fig._remove_fig_handler\n",
       "    );\n",
       "\n",
       "    // Update the output cell to use the data from the current canvas.\n",
       "    fig.push_to_output();\n",
       "    var dataURL = fig.canvas.toDataURL();\n",
       "    // Re-enable the keyboard manager in IPython - without this line, in FF,\n",
       "    // the notebook keyboard shortcuts fail.\n",
       "    IPython.keyboard_manager.enable();\n",
       "    fig.parent_element.innerHTML =\n",
       "        '<img src=\"' + dataURL + '\" width=\"' + width + '\">';\n",
       "    fig.close_ws(fig, msg);\n",
       "};\n",
       "\n",
       "mpl.figure.prototype.close_ws = function (fig, msg) {\n",
       "    fig.send_message('closing', msg);\n",
       "    // fig.ws.close()\n",
       "};\n",
       "\n",
       "mpl.figure.prototype.push_to_output = function (_remove_interactive) {\n",
       "    // Turn the data on the canvas into data in the output cell.\n",
       "    var width = this.canvas.width / this.ratio;\n",
       "    var dataURL = this.canvas.toDataURL();\n",
       "    this.cell_info[1]['text/html'] =\n",
       "        '<img src=\"' + dataURL + '\" width=\"' + width + '\">';\n",
       "};\n",
       "\n",
       "mpl.figure.prototype.updated_canvas_event = function () {\n",
       "    // Tell IPython that the notebook contents must change.\n",
       "    IPython.notebook.set_dirty(true);\n",
       "    this.send_message('ack', {});\n",
       "    var fig = this;\n",
       "    // Wait a second, then push the new image to the DOM so\n",
       "    // that it is saved nicely (might be nice to debounce this).\n",
       "    setTimeout(function () {\n",
       "        fig.push_to_output();\n",
       "    }, 1000);\n",
       "};\n",
       "\n",
       "mpl.figure.prototype._init_toolbar = function () {\n",
       "    var fig = this;\n",
       "\n",
       "    var toolbar = document.createElement('div');\n",
       "    toolbar.classList = 'btn-toolbar';\n",
       "    this.root.appendChild(toolbar);\n",
       "\n",
       "    function on_click_closure(name) {\n",
       "        return function (_event) {\n",
       "            return fig.toolbar_button_onclick(name);\n",
       "        };\n",
       "    }\n",
       "\n",
       "    function on_mouseover_closure(tooltip) {\n",
       "        return function (event) {\n",
       "            if (!event.currentTarget.disabled) {\n",
       "                return fig.toolbar_button_onmouseover(tooltip);\n",
       "            }\n",
       "        };\n",
       "    }\n",
       "\n",
       "    fig.buttons = {};\n",
       "    var buttonGroup = document.createElement('div');\n",
       "    buttonGroup.classList = 'btn-group';\n",
       "    var button;\n",
       "    for (var toolbar_ind in mpl.toolbar_items) {\n",
       "        var name = mpl.toolbar_items[toolbar_ind][0];\n",
       "        var tooltip = mpl.toolbar_items[toolbar_ind][1];\n",
       "        var image = mpl.toolbar_items[toolbar_ind][2];\n",
       "        var method_name = mpl.toolbar_items[toolbar_ind][3];\n",
       "\n",
       "        if (!name) {\n",
       "            /* Instead of a spacer, we start a new button group. */\n",
       "            if (buttonGroup.hasChildNodes()) {\n",
       "                toolbar.appendChild(buttonGroup);\n",
       "            }\n",
       "            buttonGroup = document.createElement('div');\n",
       "            buttonGroup.classList = 'btn-group';\n",
       "            continue;\n",
       "        }\n",
       "\n",
       "        button = fig.buttons[name] = document.createElement('button');\n",
       "        button.classList = 'btn btn-default';\n",
       "        button.href = '#';\n",
       "        button.title = name;\n",
       "        button.innerHTML = '<i class=\"fa ' + image + ' fa-lg\"></i>';\n",
       "        button.addEventListener('click', on_click_closure(method_name));\n",
       "        button.addEventListener('mouseover', on_mouseover_closure(tooltip));\n",
       "        buttonGroup.appendChild(button);\n",
       "    }\n",
       "\n",
       "    if (buttonGroup.hasChildNodes()) {\n",
       "        toolbar.appendChild(buttonGroup);\n",
       "    }\n",
       "\n",
       "    // Add the status bar.\n",
       "    var status_bar = document.createElement('span');\n",
       "    status_bar.classList = 'mpl-message pull-right';\n",
       "    toolbar.appendChild(status_bar);\n",
       "    this.message = status_bar;\n",
       "\n",
       "    // Add the close button to the window.\n",
       "    var buttongrp = document.createElement('div');\n",
       "    buttongrp.classList = 'btn-group inline pull-right';\n",
       "    button = document.createElement('button');\n",
       "    button.classList = 'btn btn-mini btn-primary';\n",
       "    button.href = '#';\n",
       "    button.title = 'Stop Interaction';\n",
       "    button.innerHTML = '<i class=\"fa fa-power-off icon-remove icon-large\"></i>';\n",
       "    button.addEventListener('click', function (_evt) {\n",
       "        fig.handle_close(fig, {});\n",
       "    });\n",
       "    button.addEventListener(\n",
       "        'mouseover',\n",
       "        on_mouseover_closure('Stop Interaction')\n",
       "    );\n",
       "    buttongrp.appendChild(button);\n",
       "    var titlebar = this.root.querySelector('.ui-dialog-titlebar');\n",
       "    titlebar.insertBefore(buttongrp, titlebar.firstChild);\n",
       "};\n",
       "\n",
       "mpl.figure.prototype._remove_fig_handler = function (event) {\n",
       "    var fig = event.data.fig;\n",
       "    fig.close_ws(fig, {});\n",
       "};\n",
       "\n",
       "mpl.figure.prototype._root_extra_style = function (el) {\n",
       "    el.style.boxSizing = 'content-box'; // override notebook setting of border-box.\n",
       "};\n",
       "\n",
       "mpl.figure.prototype._canvas_extra_style = function (el) {\n",
       "    // this is important to make the div 'focusable\n",
       "    el.setAttribute('tabindex', 0);\n",
       "    // reach out to IPython and tell the keyboard manager to turn it's self\n",
       "    // off when our div gets focus\n",
       "\n",
       "    // location in version 3\n",
       "    if (IPython.notebook.keyboard_manager) {\n",
       "        IPython.notebook.keyboard_manager.register_events(el);\n",
       "    } else {\n",
       "        // location in version 2\n",
       "        IPython.keyboard_manager.register_events(el);\n",
       "    }\n",
       "};\n",
       "\n",
       "mpl.figure.prototype._key_event_extra = function (event, _name) {\n",
       "    var manager = IPython.notebook.keyboard_manager;\n",
       "    if (!manager) {\n",
       "        manager = IPython.keyboard_manager;\n",
       "    }\n",
       "\n",
       "    // Check for shift+enter\n",
       "    if (event.shiftKey && event.which === 13) {\n",
       "        this.canvas_div.blur();\n",
       "        // select the cell after this one\n",
       "        var index = IPython.notebook.find_cell_index(this.cell_info[0]);\n",
       "        IPython.notebook.select(index + 1);\n",
       "    }\n",
       "};\n",
       "\n",
       "mpl.figure.prototype.handle_save = function (fig, _msg) {\n",
       "    fig.ondownload(fig, null);\n",
       "};\n",
       "\n",
       "mpl.find_output_cell = function (html_output) {\n",
       "    // Return the cell and output element which can be found *uniquely* in the notebook.\n",
       "    // Note - this is a bit hacky, but it is done because the \"notebook_saving.Notebook\"\n",
       "    // IPython event is triggered only after the cells have been serialised, which for\n",
       "    // our purposes (turning an active figure into a static one), is too late.\n",
       "    var cells = IPython.notebook.get_cells();\n",
       "    var ncells = cells.length;\n",
       "    for (var i = 0; i < ncells; i++) {\n",
       "        var cell = cells[i];\n",
       "        if (cell.cell_type === 'code') {\n",
       "            for (var j = 0; j < cell.output_area.outputs.length; j++) {\n",
       "                var data = cell.output_area.outputs[j];\n",
       "                if (data.data) {\n",
       "                    // IPython >= 3 moved mimebundle to data attribute of output\n",
       "                    data = data.data;\n",
       "                }\n",
       "                if (data['text/html'] === html_output) {\n",
       "                    return [cell, data, j];\n",
       "                }\n",
       "            }\n",
       "        }\n",
       "    }\n",
       "};\n",
       "\n",
       "// Register the function which deals with the matplotlib target/channel.\n",
       "// The kernel may be null if the page has been refreshed.\n",
       "if (IPython.notebook.kernel !== null) {\n",
       "    IPython.notebook.kernel.comm_manager.register_target(\n",
       "        'matplotlib',\n",
       "        mpl.mpl_figure_comm\n",
       "    );\n",
       "}\n"
      ],
      "text/plain": [
       "<IPython.core.display.Javascript object>"
      ]
     },
     "metadata": {},
     "output_type": "display_data"
    },
    {
     "data": {
      "text/html": [
       "<img src=\"data:image/png;base64,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\" width=\"600\">"
      ],
      "text/plain": [
       "<IPython.core.display.HTML object>"
      ]
     },
     "metadata": {},
     "output_type": "display_data"
    }
   ],
   "source": [
    "display_pca_scatterplot(model, sample=300)"
   ]
  },
  {
   "cell_type": "markdown",
   "metadata": {},
   "source": [
    "# BERT language modeling\n",
    "\n",
    "Using pre-trained BERT langauge model to create word vectors for words and check their cosine similarity "
   ]
  },
  {
   "cell_type": "markdown",
   "metadata": {},
   "source": [
    "### Preparing Word Vectors\n",
    "\n",
    "words = 'man', 'married', 'unmarried', 'woman', 'female', 'male', 'girls', 'boys', 'girl', 'boy', 'spouse', 'sibling', 'siblings', 'offspring', 'wives', 'wife', 'husband', 'husbands', 'brother', 'brothers', 'sister', 'sisters', 'daughter', 'daughters', 'child', 'children', 'bachelor', 'baby', 'small', 'little', 'duck', 'cat', 'kitten', 'dog', 'puppy'"
   ]
  },
  {
   "cell_type": "code",
   "execution_count": 112,
   "metadata": {},
   "outputs": [
    {
     "name": "stdout",
     "output_type": "stream",
     "text": [
      "Collecting torch\n",
      "  Downloading torch-1.10.0-cp38-cp38-win_amd64.whl (226.6 MB)\n",
      "Requirement already satisfied: typing-extensions in c:\\users\\tma8\\anaconda3\\lib\\site-packages (from torch) (3.7.4.3)\n",
      "Installing collected packages: torch\n",
      "Successfully installed torch-1.10.0\n",
      "Collecting transformers"
     ]
    },
    {
     "name": "stderr",
     "output_type": "stream",
     "text": [
      "ERROR: After October 2020 you may experience errors when installing or updating packages. This is because pip will change the way that it resolves dependency conflicts.\n",
      "\n",
      "We recommend you use --use-feature=2020-resolver to test your packages with the new resolver before it becomes the default.\n",
      "\n",
      "huggingface-hub 0.0.19 requires packaging>=20.9, but you'll have packaging 20.4 which is incompatible.\n"
     ]
    },
    {
     "name": "stdout",
     "output_type": "stream",
     "text": [
      "\n",
      "  Downloading transformers-4.12.0-py3-none-any.whl (3.1 MB)\n",
      "Requirement already satisfied: filelock in c:\\users\\tma8\\anaconda3\\lib\\site-packages (from transformers) (3.0.12)\n",
      "Requirement already satisfied: numpy>=1.17 in c:\\users\\tma8\\anaconda3\\lib\\site-packages (from transformers) (1.19.2)\n",
      "Requirement already satisfied: packaging>=20.0 in c:\\users\\tma8\\anaconda3\\lib\\site-packages (from transformers) (20.4)\n",
      "Requirement already satisfied: requests in c:\\users\\tma8\\anaconda3\\lib\\site-packages (from transformers) (2.24.0)\n",
      "Requirement already satisfied: regex!=2019.12.17 in c:\\users\\tma8\\anaconda3\\lib\\site-packages (from transformers) (2020.10.15)\n",
      "Requirement already satisfied: pyyaml>=5.1 in c:\\users\\tma8\\anaconda3\\lib\\site-packages (from transformers) (5.3.1)\n",
      "Collecting huggingface-hub>=0.0.17\n",
      "  Downloading huggingface_hub-0.0.19-py3-none-any.whl (56 kB)\n",
      "Requirement already satisfied: tqdm>=4.27 in c:\\users\\tma8\\anaconda3\\lib\\site-packages (from transformers) (4.50.2)\n",
      "Collecting tokenizers<0.11,>=0.10.1\n",
      "  Downloading tokenizers-0.10.3-cp38-cp38-win_amd64.whl (2.0 MB)\n",
      "Collecting sacremoses\n",
      "  Downloading sacremoses-0.0.46-py3-none-any.whl (895 kB)\n",
      "Requirement already satisfied: pyparsing>=2.0.2 in c:\\users\\tma8\\anaconda3\\lib\\site-packages (from packaging>=20.0->transformers) (2.4.7)\n",
      "Requirement already satisfied: six in c:\\users\\tma8\\anaconda3\\lib\\site-packages (from packaging>=20.0->transformers) (1.15.0)\n",
      "Requirement already satisfied: urllib3!=1.25.0,!=1.25.1,<1.26,>=1.21.1 in c:\\users\\tma8\\anaconda3\\lib\\site-packages (from requests->transformers) (1.25.11)\n",
      "Requirement already satisfied: idna<3,>=2.5 in c:\\users\\tma8\\anaconda3\\lib\\site-packages (from requests->transformers) (2.10)\n",
      "Requirement already satisfied: chardet<4,>=3.0.2 in c:\\users\\tma8\\anaconda3\\lib\\site-packages (from requests->transformers) (3.0.4)\n",
      "Requirement already satisfied: certifi>=2017.4.17 in c:\\users\\tma8\\anaconda3\\lib\\site-packages (from requests->transformers) (2020.6.20)\n",
      "Requirement already satisfied: typing-extensions in c:\\users\\tma8\\anaconda3\\lib\\site-packages (from huggingface-hub>=0.0.17->transformers) (3.7.4.3)\n",
      "Requirement already satisfied: click in c:\\users\\tma8\\anaconda3\\lib\\site-packages (from sacremoses->transformers) (7.1.2)\n",
      "Requirement already satisfied: joblib in c:\\users\\tma8\\anaconda3\\lib\\site-packages (from sacremoses->transformers) (0.17.0)\n",
      "Installing collected packages: huggingface-hub, tokenizers, sacremoses, transformers\n",
      "Successfully installed huggingface-hub-0.0.19 sacremoses-0.0.46 tokenizers-0.10.3 transformers-4.12.0\n"
     ]
    }
   ],
   "source": [
    "#!pip install torch\n",
    "!pip install transformers"
   ]
  },
  {
   "cell_type": "code",
   "execution_count": 113,
   "metadata": {},
   "outputs": [],
   "source": [
    "from transformers import BertTokenizer, BertModel\n",
    "import pandas as pd\n",
    "import numpy as np\n",
    "import nltk\n",
    "import torch"
   ]
  },
  {
   "cell_type": "code",
   "execution_count": 114,
   "metadata": {},
   "outputs": [
    {
     "data": {
      "application/vnd.jupyter.widget-view+json": {
       "model_id": "6b503c174309432c9be4e8e7a97ba52c",
       "version_major": 2,
       "version_minor": 0
      },
      "text/plain": [
       "HBox(children=(HTML(value='Downloading'), FloatProgress(value=0.0, max=570.0), HTML(value='')))"
      ]
     },
     "metadata": {},
     "output_type": "display_data"
    },
    {
     "name": "stdout",
     "output_type": "stream",
     "text": [
      "\n"
     ]
    },
    {
     "data": {
      "application/vnd.jupyter.widget-view+json": {
       "model_id": "60f46fa95a7c4583977b2d54b7f56643",
       "version_major": 2,
       "version_minor": 0
      },
      "text/plain": [
       "HBox(children=(HTML(value='Downloading'), FloatProgress(value=0.0, max=440473133.0), HTML(value='')))"
      ]
     },
     "metadata": {},
     "output_type": "display_data"
    },
    {
     "name": "stdout",
     "output_type": "stream",
     "text": [
      "\n"
     ]
    },
    {
     "name": "stderr",
     "output_type": "stream",
     "text": [
      "Some weights of the model checkpoint at bert-base-uncased were not used when initializing BertModel: ['cls.predictions.transform.dense.bias', 'cls.seq_relationship.bias', 'cls.predictions.transform.LayerNorm.bias', 'cls.predictions.bias', 'cls.predictions.decoder.weight', 'cls.seq_relationship.weight', 'cls.predictions.transform.LayerNorm.weight', 'cls.predictions.transform.dense.weight']\n",
      "- This IS expected if you are initializing BertModel from the checkpoint of a model trained on another task or with another architecture (e.g. initializing a BertForSequenceClassification model from a BertForPreTraining model).\n",
      "- This IS NOT expected if you are initializing BertModel from the checkpoint of a model that you expect to be exactly identical (initializing a BertForSequenceClassification model from a BertForSequenceClassification model).\n"
     ]
    },
    {
     "data": {
      "application/vnd.jupyter.widget-view+json": {
       "model_id": "f73b206e23b147b38b2394dc13b1d95b",
       "version_major": 2,
       "version_minor": 0
      },
      "text/plain": [
       "HBox(children=(HTML(value='Downloading'), FloatProgress(value=0.0, max=231508.0), HTML(value='')))"
      ]
     },
     "metadata": {},
     "output_type": "display_data"
    },
    {
     "name": "stdout",
     "output_type": "stream",
     "text": [
      "\n"
     ]
    },
    {
     "data": {
      "application/vnd.jupyter.widget-view+json": {
       "model_id": "8d5df9bda195432b9af04fd308b05320",
       "version_major": 2,
       "version_minor": 0
      },
      "text/plain": [
       "HBox(children=(HTML(value='Downloading'), FloatProgress(value=0.0, max=28.0), HTML(value='')))"
      ]
     },
     "metadata": {},
     "output_type": "display_data"
    },
    {
     "name": "stdout",
     "output_type": "stream",
     "text": [
      "\n"
     ]
    },
    {
     "data": {
      "application/vnd.jupyter.widget-view+json": {
       "model_id": "c4a55da520ba48f99d95c77c8d713e16",
       "version_major": 2,
       "version_minor": 0
      },
      "text/plain": [
       "HBox(children=(HTML(value='Downloading'), FloatProgress(value=0.0, max=466062.0), HTML(value='')))"
      ]
     },
     "metadata": {},
     "output_type": "display_data"
    },
    {
     "name": "stdout",
     "output_type": "stream",
     "text": [
      "\n"
     ]
    }
   ],
   "source": [
    "model = BertModel.from_pretrained('bert-base-uncased',\n",
    "                                  output_hidden_states = True,\n",
    "                                  )\n",
    "tokenizer = BertTokenizer.from_pretrained('bert-base-uncased')"
   ]
  },
  {
   "cell_type": "code",
   "execution_count": 115,
   "metadata": {},
   "outputs": [],
   "source": [
    "# create vocab\n",
    "texts = ['man', 'married', 'unmarried', 'woman', 'female', 'male', 'girls', 'boys', 'girl', 'boy', 'spouse', 'spouses', \n",
    "         'sibling', 'siblings', 'offspring', 'offsprings', 'wives', 'wife', 'husband', 'husbands', 'brother', 'brothers',\n",
    "         'sister', 'sisters', 'daughter', 'daughters', 'child', 'children', 'bachelor', 'bachelors', 'baby', 'small', \n",
    "         'little', 'duck', 'duckling', 'cat', 'kitten', 'dog', 'puppy']"
   ]
  },
  {
   "cell_type": "code",
   "execution_count": 116,
   "metadata": {},
   "outputs": [],
   "source": [
    "def bert_text_preparation(text, tokenizer):\n",
    "    \"\"\"Preparing the input for BERT\n",
    "    \n",
    "    Takes a string argument and performs\n",
    "    pre-processing like adding special tokens,\n",
    "    tokenization, tokens to ids, and tokens to\n",
    "    segment ids. All tokens are mapped to seg-\n",
    "    ment id = 1.\n",
    "    \n",
    "    Args:\n",
    "        text (str): Text to be converted\n",
    "        tokenizer (obj): Tokenizer object\n",
    "            to convert text into BERT-re-\n",
    "            adable tokens and ids\n",
    "        \n",
    "    Returns:\n",
    "        list: List of BERT-readable tokens\n",
    "        obj: Torch tensor with token ids\n",
    "        obj: Torch tensor segment ids\n",
    "    \n",
    "    \n",
    "    \"\"\"\n",
    "    marked_text = \"[CLS] \" + text + \" [SEP]\"\n",
    "    tokenized_text = tokenizer.tokenize(marked_text)\n",
    "    indexed_tokens = tokenizer.convert_tokens_to_ids(tokenized_text)\n",
    "    segments_ids = [1]*len(indexed_tokens)\n",
    "\n",
    "    # Convert inputs to PyTorch tensors\n",
    "    tokens_tensor = torch.tensor([indexed_tokens])\n",
    "    segments_tensors = torch.tensor([segments_ids])\n",
    "\n",
    "    return tokenized_text, tokens_tensor, segments_tensors\n",
    "    \n",
    "def get_bert_embeddings(tokens_tensor, segments_tensors, model):\n",
    "    \"\"\"Get embeddings from an embedding model\n",
    "    \n",
    "    Args:\n",
    "        tokens_tensor (obj): Torch tensor size [n_tokens]\n",
    "            with token ids for each token in text\n",
    "        segments_tensors (obj): Torch tensor size [n_tokens]\n",
    "            with segment ids for each token in text\n",
    "        model (obj): Embedding model to generate embeddings\n",
    "            from token and segment ids\n",
    "    \n",
    "    Returns:\n",
    "        list: List of list of floats of size\n",
    "            [n_tokens, n_embedding_dimensions]\n",
    "            containing embeddings for each token\n",
    "    \n",
    "    \"\"\"\n",
    "    \n",
    "    # Gradient calculation id disabled\n",
    "    # Model is in inference mode\n",
    "    with torch.no_grad():\n",
    "        outputs = model(tokens_tensor, segments_tensors)\n",
    "        # Removing the first hidden state\n",
    "        # The first state is the input state\n",
    "        hidden_states = outputs[2][1:]\n",
    "\n",
    "    # Getting embeddings from the final BERT layer\n",
    "    token_embeddings = hidden_states[-1]\n",
    "    # Collapsing the tensor into 1-dimension\n",
    "    token_embeddings = torch.squeeze(token_embeddings, dim=0)\n",
    "    # Converting torchtensors to lists\n",
    "    list_token_embeddings = [token_embed.tolist() for token_embed in token_embeddings]\n",
    "\n",
    "    return list_token_embeddings"
   ]
  },
  {
   "cell_type": "code",
   "execution_count": 121,
   "metadata": {},
   "outputs": [],
   "source": [
    "# Getting embeddings for the target word\n",
    "target_word_embeddings = []\n",
    "\n",
    "for text in texts:\n",
    "    tokenized_text, tokens_tensor, segments_tensors = bert_text_preparation(text, tokenizer)\n",
    "    list_token_embeddings = get_bert_embeddings(tokens_tensor, segments_tensors, model)\n",
    "    \n",
    "    # Find the position text in list of tokens\n",
    "    word_embedding = None\n",
    "    if text in tokenized_text:\n",
    "        word_index = tokenized_text.index(text)\n",
    "        # Get the embedding for text\n",
    "        word_embedding = list_token_embeddings[word_index]\n",
    "\n",
    "    target_word_embeddings.append(word_embedding)"
   ]
  },
  {
   "cell_type": "code",
   "execution_count": 194,
   "metadata": {},
   "outputs": [],
   "source": [
    "model_bert = dict(zip(texts, target_word_embeddings))"
   ]
  },
  {
   "cell_type": "code",
   "execution_count": 195,
   "metadata": {},
   "outputs": [],
   "source": [
    "keys = list(model_bert)\n",
    "nonekeys = []\n",
    "for key in keys:\n",
    "    if model_bert[key] == None:\n",
    "        nonekeys.append(key)\n",
    "        del model_bert[key]"
   ]
  },
  {
   "cell_type": "code",
   "execution_count": 196,
   "metadata": {},
   "outputs": [
    {
     "data": {
      "text/plain": [
       "35"
      ]
     },
     "execution_count": 196,
     "metadata": {},
     "output_type": "execute_result"
    }
   ],
   "source": [
    "len(model_bert)"
   ]
  },
  {
   "cell_type": "code",
   "execution_count": 197,
   "metadata": {},
   "outputs": [
    {
     "data": {
      "text/plain": [
       "['spouses', 'offsprings', 'bachelors', 'duckling']"
      ]
     },
     "execution_count": 197,
     "metadata": {},
     "output_type": "execute_result"
    }
   ],
   "source": [
    "nonekeys"
   ]
  },
  {
   "cell_type": "code",
   "execution_count": 198,
   "metadata": {},
   "outputs": [
    {
     "data": {
      "text/plain": [
       "dict_keys(['man', 'married', 'unmarried', 'woman', 'female', 'male', 'girls', 'boys', 'girl', 'boy', 'spouse', 'sibling', 'siblings', 'offspring', 'wives', 'wife', 'husband', 'husbands', 'brother', 'brothers', 'sister', 'sisters', 'daughter', 'daughters', 'child', 'children', 'bachelor', 'baby', 'small', 'little', 'duck', 'cat', 'kitten', 'dog', 'puppy'])"
      ]
     },
     "execution_count": 198,
     "metadata": {},
     "output_type": "execute_result"
    }
   ],
   "source": [
    "model_bert.keys()"
   ]
  },
  {
   "cell_type": "markdown",
   "metadata": {},
   "source": [
    "### Compare similarity\n",
    "\n",
    "word = 'man', 'married', 'unmarried', 'woman', 'female', 'male', 'girls', 'boys', 'girl', 'boy', 'spouse', 'sibling', 'siblings', 'offspring', 'wives', 'wife', 'husband', 'husbands', 'brother', 'brothers', 'sister', 'sisters', 'daughter', 'daughters', 'child', 'children', 'bachelor', 'baby', 'small', 'little', 'duck', 'cat', 'kitten', 'dog', 'puppy'\n",
    "\n",
    "#### BERT model performs much better than GloVe in general"
   ]
  },
  {
   "cell_type": "code",
   "execution_count": 149,
   "metadata": {},
   "outputs": [],
   "source": [
    "def calculate_similarity_bert(x1, x2, x3):\n",
    "    phrase = (np.array(model_bert[x1]) + np.array(model_bert[x2])).reshape(1, -1)\n",
    "    word = np.array(model_bert[x3]).reshape(1, -1)\n",
    "    result = cosine_similarity(phrase, word)\n",
    "    return result"
   ]
  },
  {
   "cell_type": "code",
   "execution_count": 150,
   "metadata": {},
   "outputs": [
    {
     "data": {
      "text/plain": [
       "array([[0.72141254]])"
      ]
     },
     "execution_count": 150,
     "metadata": {},
     "output_type": "execute_result"
    }
   ],
   "source": [
    "calculate_similarity_bert('man', 'unmarried', 'bachelor')"
   ]
  },
  {
   "cell_type": "code",
   "execution_count": 157,
   "metadata": {},
   "outputs": [
    {
     "data": {
      "text/plain": [
       "array([[0.81838927]])"
      ]
     },
     "execution_count": 157,
     "metadata": {},
     "output_type": "execute_result"
    }
   ],
   "source": [
    "calculate_similarity_bert('man', 'married', 'husband')"
   ]
  },
  {
   "cell_type": "code",
   "execution_count": 158,
   "metadata": {},
   "outputs": [
    {
     "data": {
      "text/plain": [
       "array([[0.90269145]])"
      ]
     },
     "execution_count": 158,
     "metadata": {},
     "output_type": "execute_result"
    }
   ],
   "source": [
    "calculate_similarity_bert('man', 'sibling', 'brother')"
   ]
  },
  {
   "cell_type": "code",
   "execution_count": 159,
   "metadata": {},
   "outputs": [
    {
     "data": {
      "text/plain": [
       "array([[0.89054641]])"
      ]
     },
     "execution_count": 159,
     "metadata": {},
     "output_type": "execute_result"
    }
   ],
   "source": [
    "calculate_similarity_bert('man', 'siblings', 'brother')"
   ]
  },
  {
   "cell_type": "code",
   "execution_count": 160,
   "metadata": {},
   "outputs": [
    {
     "data": {
      "text/plain": [
       "array([[0.68358772]])"
      ]
     },
     "execution_count": 160,
     "metadata": {},
     "output_type": "execute_result"
    }
   ],
   "source": [
    "calculate_similarity_bert('boys', 'siblings', 'brother')"
   ]
  },
  {
   "cell_type": "code",
   "execution_count": 161,
   "metadata": {},
   "outputs": [
    {
     "data": {
      "text/plain": [
       "array([[0.73682338]])"
      ]
     },
     "execution_count": 161,
     "metadata": {},
     "output_type": "execute_result"
    }
   ],
   "source": [
    "calculate_similarity_bert('male', 'sibling', 'brother')"
   ]
  },
  {
   "cell_type": "code",
   "execution_count": 162,
   "metadata": {},
   "outputs": [
    {
     "data": {
      "text/plain": [
       "array([[0.70625922]])"
      ]
     },
     "execution_count": 162,
     "metadata": {},
     "output_type": "execute_result"
    }
   ],
   "source": [
    "calculate_similarity_bert('male', 'siblings', 'brother')"
   ]
  },
  {
   "cell_type": "code",
   "execution_count": 163,
   "metadata": {},
   "outputs": [
    {
     "data": {
      "text/plain": [
       "array([[0.77218837]])"
      ]
     },
     "execution_count": 163,
     "metadata": {},
     "output_type": "execute_result"
    }
   ],
   "source": [
    "calculate_similarity_bert('female', 'siblings', 'sisters')"
   ]
  },
  {
   "cell_type": "code",
   "execution_count": 164,
   "metadata": {},
   "outputs": [
    {
     "data": {
      "text/plain": [
       "array([[0.73355772]])"
      ]
     },
     "execution_count": 164,
     "metadata": {},
     "output_type": "execute_result"
    }
   ],
   "source": [
    "calculate_similarity_bert('female', 'sibling', 'sister')"
   ]
  },
  {
   "cell_type": "code",
   "execution_count": 165,
   "metadata": {},
   "outputs": [
    {
     "data": {
      "text/plain": [
       "array([[0.83401117]])"
      ]
     },
     "execution_count": 165,
     "metadata": {},
     "output_type": "execute_result"
    }
   ],
   "source": [
    "calculate_similarity_bert('woman', 'siblings', 'sister')"
   ]
  },
  {
   "cell_type": "code",
   "execution_count": 166,
   "metadata": {},
   "outputs": [
    {
     "data": {
      "text/plain": [
       "array([[0.86178458]])"
      ]
     },
     "execution_count": 166,
     "metadata": {},
     "output_type": "execute_result"
    }
   ],
   "source": [
    "calculate_similarity_bert('woman', 'sibling', 'sister')"
   ]
  },
  {
   "cell_type": "code",
   "execution_count": 167,
   "metadata": {},
   "outputs": [
    {
     "data": {
      "text/plain": [
       "array([[0.88138312]])"
      ]
     },
     "execution_count": 167,
     "metadata": {},
     "output_type": "execute_result"
    }
   ],
   "source": [
    "calculate_similarity_bert('girl', 'siblings', 'sisters')"
   ]
  },
  {
   "cell_type": "code",
   "execution_count": 168,
   "metadata": {},
   "outputs": [
    {
     "data": {
      "text/plain": [
       "array([[0.86372976]])"
      ]
     },
     "execution_count": 168,
     "metadata": {},
     "output_type": "execute_result"
    }
   ],
   "source": [
    "calculate_similarity_bert('girl', 'sibling', 'sister')"
   ]
  },
  {
   "cell_type": "code",
   "execution_count": 169,
   "metadata": {},
   "outputs": [
    {
     "data": {
      "text/plain": [
       "array([[0.79813281]])"
      ]
     },
     "execution_count": 169,
     "metadata": {},
     "output_type": "execute_result"
    }
   ],
   "source": [
    "calculate_similarity_bert('girl', 'children', 'daughter')"
   ]
  },
  {
   "cell_type": "code",
   "execution_count": 170,
   "metadata": {},
   "outputs": [
    {
     "data": {
      "text/plain": [
       "array([[0.80072848]])"
      ]
     },
     "execution_count": 170,
     "metadata": {},
     "output_type": "execute_result"
    }
   ],
   "source": [
    "calculate_similarity_bert('woman', 'children', 'daughter')"
   ]
  },
  {
   "cell_type": "code",
   "execution_count": 171,
   "metadata": {},
   "outputs": [
    {
     "data": {
      "text/plain": [
       "array([[0.62771365]])"
      ]
     },
     "execution_count": 171,
     "metadata": {},
     "output_type": "execute_result"
    }
   ],
   "source": [
    "calculate_similarity_bert('female', 'children', 'daughter')"
   ]
  },
  {
   "cell_type": "code",
   "execution_count": 172,
   "metadata": {},
   "outputs": [
    {
     "data": {
      "text/plain": [
       "array([[0.66243071]])"
      ]
     },
     "execution_count": 172,
     "metadata": {},
     "output_type": "execute_result"
    }
   ],
   "source": [
    "calculate_similarity_bert('female', 'offspring', 'daughter')"
   ]
  },
  {
   "cell_type": "code",
   "execution_count": 173,
   "metadata": {},
   "outputs": [
    {
     "data": {
      "text/plain": [
       "array([[0.85383232]])"
      ]
     },
     "execution_count": 173,
     "metadata": {},
     "output_type": "execute_result"
    }
   ],
   "source": [
    "calculate_similarity_bert('woman', 'offspring', 'daughter')"
   ]
  },
  {
   "cell_type": "code",
   "execution_count": 174,
   "metadata": {},
   "outputs": [
    {
     "data": {
      "text/plain": [
       "array([[0.8179141]])"
      ]
     },
     "execution_count": 174,
     "metadata": {},
     "output_type": "execute_result"
    }
   ],
   "source": [
    "calculate_similarity_bert('woman', 'spouse', 'wives')"
   ]
  },
  {
   "cell_type": "code",
   "execution_count": 175,
   "metadata": {},
   "outputs": [
    {
     "data": {
      "text/plain": [
       "array([[0.90737613]])"
      ]
     },
     "execution_count": 175,
     "metadata": {},
     "output_type": "execute_result"
    }
   ],
   "source": [
    "calculate_similarity_bert('woman', 'spouse', 'wife')"
   ]
  },
  {
   "cell_type": "code",
   "execution_count": 176,
   "metadata": {},
   "outputs": [
    {
     "data": {
      "text/plain": [
       "array([[0.69979336]])"
      ]
     },
     "execution_count": 176,
     "metadata": {},
     "output_type": "execute_result"
    }
   ],
   "source": [
    "calculate_similarity_bert('male', 'spouse', 'husbands')"
   ]
  },
  {
   "cell_type": "code",
   "execution_count": 177,
   "metadata": {},
   "outputs": [
    {
     "data": {
      "text/plain": [
       "array([[0.75144243]])"
      ]
     },
     "execution_count": 177,
     "metadata": {},
     "output_type": "execute_result"
    }
   ],
   "source": [
    "calculate_similarity_bert('male', 'spouse', 'husband')"
   ]
  },
  {
   "cell_type": "code",
   "execution_count": 178,
   "metadata": {},
   "outputs": [
    {
     "data": {
      "text/plain": [
       "array([[0.82231791]])"
      ]
     },
     "execution_count": 178,
     "metadata": {},
     "output_type": "execute_result"
    }
   ],
   "source": [
    "calculate_similarity_bert('man', 'spouse', 'husband')"
   ]
  },
  {
   "cell_type": "code",
   "execution_count": 179,
   "metadata": {},
   "outputs": [
    {
     "data": {
      "text/plain": [
       "array([[0.85065687]])"
      ]
     },
     "execution_count": 179,
     "metadata": {},
     "output_type": "execute_result"
    }
   ],
   "source": [
    "calculate_similarity_bert('small', 'cat', 'kitten')"
   ]
  },
  {
   "cell_type": "code",
   "execution_count": 180,
   "metadata": {},
   "outputs": [
    {
     "data": {
      "text/plain": [
       "array([[0.88181678]])"
      ]
     },
     "execution_count": 180,
     "metadata": {},
     "output_type": "execute_result"
    }
   ],
   "source": [
    "calculate_similarity_bert('baby', 'cat', 'kitten')"
   ]
  },
  {
   "cell_type": "code",
   "execution_count": 181,
   "metadata": {},
   "outputs": [
    {
     "data": {
      "text/plain": [
       "array([[0.81294964]])"
      ]
     },
     "execution_count": 181,
     "metadata": {},
     "output_type": "execute_result"
    }
   ],
   "source": [
    "calculate_similarity_bert('child', 'cat', 'kitten')"
   ]
  },
  {
   "cell_type": "code",
   "execution_count": 182,
   "metadata": {},
   "outputs": [
    {
     "data": {
      "text/plain": [
       "array([[0.827689]])"
      ]
     },
     "execution_count": 182,
     "metadata": {},
     "output_type": "execute_result"
    }
   ],
   "source": [
    "calculate_similarity_bert('baby', 'dog', 'puppy')"
   ]
  },
  {
   "cell_type": "code",
   "execution_count": 183,
   "metadata": {},
   "outputs": [
    {
     "data": {
      "text/plain": [
       "array([[0.8285944]])"
      ]
     },
     "execution_count": 183,
     "metadata": {},
     "output_type": "execute_result"
    }
   ],
   "source": [
    "calculate_similarity_bert('small', 'dog', 'puppy')"
   ]
  },
  {
   "cell_type": "code",
   "execution_count": 184,
   "metadata": {},
   "outputs": [
    {
     "data": {
      "text/plain": [
       "array([[0.71537523]])"
      ]
     },
     "execution_count": 184,
     "metadata": {},
     "output_type": "execute_result"
    }
   ],
   "source": [
    "calculate_similarity_bert('child', 'dog', 'puppy')"
   ]
  },
  {
   "cell_type": "markdown",
   "metadata": {},
   "source": [
    "# Quantify the complexity of word vectors"
   ]
  },
  {
   "cell_type": "markdown",
   "metadata": {},
   "source": [
    "### Setting up the environment again"
   ]
  },
  {
   "cell_type": "code",
   "execution_count": 204,
   "metadata": {},
   "outputs": [
    {
     "name": "stderr",
     "output_type": "stream",
     "text": [
      "<ipython-input-204-fed696d60718>:3: DeprecationWarning: Call to deprecated `glove2word2vec` (KeyedVectors.load_word2vec_format(.., binary=False, no_header=True) loads GLoVE text vectors.).\n",
      "  glove2word2vec(glove_file, word2vec_glove_file)\n"
     ]
    },
    {
     "data": {
      "text/plain": [
       "(400000, 100)"
      ]
     },
     "execution_count": 204,
     "metadata": {},
     "output_type": "execute_result"
    }
   ],
   "source": [
    "glove_file = datapath(\"glove.6B\\glove.6B.100d.txt\")\n",
    "word2vec_glove_file = get_tmpfile(\"glove.6B.100d.word2vec.txt\")\n",
    "glove2word2vec(glove_file, word2vec_glove_file)"
   ]
  },
  {
   "cell_type": "code",
   "execution_count": 205,
   "metadata": {},
   "outputs": [
    {
     "name": "stderr",
     "output_type": "stream",
     "text": [
      "<ipython-input-205-0664e9791f5e>:3: DeprecationWarning: Call to deprecated `glove2word2vec` (KeyedVectors.load_word2vec_format(.., binary=False, no_header=True) loads GLoVE text vectors.).\n",
      "  glove2word2vec(glove_file_300d, word2vec_glove_file_300d)\n"
     ]
    },
    {
     "data": {
      "text/plain": [
       "(400000, 300)"
      ]
     },
     "execution_count": 205,
     "metadata": {},
     "output_type": "execute_result"
    }
   ],
   "source": [
    "glove_file_300d = datapath(\"glove.6B\\glove.6B.300d.txt\")\n",
    "word2vec_glove_file_300d = get_tmpfile(\"glove.6B.300d.word2vec.txt\")\n",
    "glove2word2vec(glove_file_300d, word2vec_glove_file_300d)"
   ]
  },
  {
   "cell_type": "code",
   "execution_count": 206,
   "metadata": {},
   "outputs": [],
   "source": [
    "model = KeyedVectors.load_word2vec_format(word2vec_glove_file)\n",
    "model_300d = KeyedVectors.load_word2vec_format(word2vec_glove_file_300d)"
   ]
  },
  {
   "cell_type": "markdown",
   "metadata": {},
   "source": [
    "### Functions that calculate the complexity metrics"
   ]
  },
  {
   "cell_type": "code",
   "execution_count": 217,
   "metadata": {},
   "outputs": [],
   "source": [
    "# sum of the word vector\n",
    "\n",
    "def sum_complexity(x1):\n",
    "    models = ['BERT', 'GloVe_100d', 'GloVe_300d']\n",
    "    data = [sum([abs(x) for x in model_bert[x1]]), sum(model[x1]), sum(model_300d[x1])]\n",
    "    return dict(zip(models, data))"
   ]
  },
  {
   "cell_type": "code",
   "execution_count": 218,
   "metadata": {},
   "outputs": [],
   "source": [
    "# count the number of features that has significant information\n",
    "# threshold = how far away a feature is from 0 (0 <= threshold <= 1). default = 0.5\n",
    "\n",
    "def above_zero_complexity(x1, threshold = 0.5):\n",
    "    models = ['BERT', 'GloVe_100d', 'GloVe_300d']\n",
    "    bert = len([x for x in model_bert[x1] if abs(x) >= threshold])/len(model_bert[x1])\n",
    "    glove_100d = len([x for x in model[x1] if x >= threshold])/len(model[x1])\n",
    "    glove_300d = len([x for x in model_300d[x1] if x >= threshold])/len(model_300d[x1])\n",
    "    data = [bert, glove_100d, glove_300d]\n",
    "    return dict(zip(models, data))"
   ]
  },
  {
   "cell_type": "markdown",
   "metadata": {},
   "source": [
    "### Results"
   ]
  },
  {
   "cell_type": "code",
   "execution_count": 219,
   "metadata": {},
   "outputs": [
    {
     "name": "stdout",
     "output_type": "stream",
     "text": [
      "man\n",
      "Sum Complexity: \n",
      " {'BERT': 332.63076185714453, 'GloVe_100d': 3.922419093782082, 'GloVe_300d': 4.971497090766206}\n",
      "Above Zero Complexity: (threshold = 0.5)\n",
      " {'BERT': 0.3424479166666667, 'GloVe_100d': 0.18, 'GloVe_300d': 0.04666666666666667}\n",
      "Above Zero Complexity: (threshold = 0.3)\n",
      " {'BERT': 0.57421875, 'GloVe_100d': 0.31, 'GloVe_300d': 0.17}\n",
      "\n",
      "married\n",
      "Sum Complexity: \n",
      " {'BERT': 344.30526093184017, 'GloVe_100d': -4.701409709639847, 'GloVe_300d': 1.218420646211598}\n",
      "Above Zero Complexity: (threshold = 0.5)\n",
      " {'BERT': 0.3723958333333333, 'GloVe_100d': 0.15, 'GloVe_300d': 0.10666666666666667}\n",
      "Above Zero Complexity: (threshold = 0.3)\n",
      " {'BERT': 0.5833333333333334, 'GloVe_100d': 0.31, 'GloVe_300d': 0.21}\n",
      "\n",
      "unmarried\n",
      "Sum Complexity: \n",
      " {'BERT': 324.8027933984995, 'GloVe_100d': -1.1166526627494022, 'GloVe_300d': 0.37002692744135857}\n",
      "Above Zero Complexity: (threshold = 0.5)\n",
      " {'BERT': 0.3502604166666667, 'GloVe_100d': 0.18, 'GloVe_300d': 0.10666666666666667}\n",
      "Above Zero Complexity: (threshold = 0.3)\n",
      " {'BERT': 0.5546875, 'GloVe_100d': 0.31, 'GloVe_300d': 0.24}\n",
      "\n",
      "woman\n",
      "Sum Complexity: \n",
      " {'BERT': 307.03413203172386, 'GloVe_100d': 7.971902118064463, 'GloVe_300d': 0.12607840937562287}\n",
      "Above Zero Complexity: (threshold = 0.5)\n",
      " {'BERT': 0.3216145833333333, 'GloVe_100d': 0.2, 'GloVe_300d': 0.06333333333333334}\n",
      "Above Zero Complexity: (threshold = 0.3)\n",
      " {'BERT': 0.5533854166666666, 'GloVe_100d': 0.36, 'GloVe_300d': 0.19333333333333333}\n",
      "\n",
      "female\n",
      "Sum Complexity: \n",
      " {'BERT': 371.1202130652964, 'GloVe_100d': 3.9186480659991503, 'GloVe_300d': -3.2203202340751886}\n",
      "Above Zero Complexity: (threshold = 0.5)\n",
      " {'BERT': 0.4140625, 'GloVe_100d': 0.23, 'GloVe_300d': 0.11333333333333333}\n",
      "Above Zero Complexity: (threshold = 0.3)\n",
      " {'BERT': 0.6276041666666666, 'GloVe_100d': 0.36, 'GloVe_300d': 0.21666666666666667}\n",
      "\n",
      "male\n",
      "Sum Complexity: \n",
      " {'BERT': 368.41052789241076, 'GloVe_100d': 1.4079397427849472, 'GloVe_300d': -6.8938494878821075}\n",
      "Above Zero Complexity: (threshold = 0.5)\n",
      " {'BERT': 0.4010416666666667, 'GloVe_100d': 0.18, 'GloVe_300d': 0.08333333333333333}\n",
      "Above Zero Complexity: (threshold = 0.3)\n",
      " {'BERT': 0.6106770833333334, 'GloVe_100d': 0.31, 'GloVe_300d': 0.21333333333333335}\n",
      "\n",
      "girls\n",
      "Sum Complexity: \n",
      " {'BERT': 367.9560924344696, 'GloVe_100d': 0.9912809273228049, 'GloVe_300d': -10.84381859516725}\n",
      "Above Zero Complexity: (threshold = 0.5)\n",
      " {'BERT': 0.3854166666666667, 'GloVe_100d': 0.22, 'GloVe_300d': 0.07666666666666666}\n",
      "Above Zero Complexity: (threshold = 0.3)\n",
      " {'BERT': 0.5924479166666666, 'GloVe_100d': 0.32, 'GloVe_300d': 0.16}\n",
      "\n",
      "boys\n",
      "Sum Complexity: \n",
      " {'BERT': 359.2444212315604, 'GloVe_100d': 0.3561777211725712, 'GloVe_300d': -6.227921382058412}\n",
      "Above Zero Complexity: (threshold = 0.5)\n",
      " {'BERT': 0.3841145833333333, 'GloVe_100d': 0.2, 'GloVe_300d': 0.06333333333333334}\n",
      "Above Zero Complexity: (threshold = 0.3)\n",
      " {'BERT': 0.6015625, 'GloVe_100d': 0.28, 'GloVe_300d': 0.17666666666666667}\n",
      "\n",
      "girl\n",
      "Sum Complexity: \n",
      " {'BERT': 314.79033630434424, 'GloVe_100d': 7.272923119948246, 'GloVe_300d': -4.728802822995931}\n",
      "Above Zero Complexity: (threshold = 0.5)\n",
      " {'BERT': 0.3229166666666667, 'GloVe_100d': 0.22, 'GloVe_300d': 0.07}\n",
      "Above Zero Complexity: (threshold = 0.3)\n",
      " {'BERT': 0.5494791666666666, 'GloVe_100d': 0.35, 'GloVe_300d': 0.18666666666666668}\n",
      "\n",
      "boy\n",
      "Sum Complexity: \n",
      " {'BERT': 282.76530178438406, 'GloVe_100d': 5.6171217961236835, 'GloVe_300d': -2.685563242121134}\n",
      "Above Zero Complexity: (threshold = 0.5)\n",
      " {'BERT': 0.28125, 'GloVe_100d': 0.17, 'GloVe_300d': 0.05}\n",
      "Above Zero Complexity: (threshold = 0.3)\n",
      " {'BERT': 0.5169270833333334, 'GloVe_100d': 0.32, 'GloVe_300d': 0.17666666666666667}\n",
      "\n",
      "spouse\n",
      "Sum Complexity: \n",
      " {'BERT': 264.635907440912, 'GloVe_100d': 4.969702927395701, 'GloVe_300d': 5.906543562654406}\n",
      "Above Zero Complexity: (threshold = 0.5)\n",
      " {'BERT': 0.23307291666666666, 'GloVe_100d': 0.18, 'GloVe_300d': 0.09666666666666666}\n",
      "Above Zero Complexity: (threshold = 0.3)\n",
      " {'BERT': 0.47265625, 'GloVe_100d': 0.3, 'GloVe_300d': 0.23666666666666666}\n",
      "\n",
      "sibling\n",
      "Sum Complexity: \n",
      " {'BERT': 241.04925753362477, 'GloVe_100d': 4.074372913688421, 'GloVe_300d': 7.318111675762339}\n",
      "Above Zero Complexity: (threshold = 0.5)\n",
      " {'BERT': 0.20833333333333334, 'GloVe_100d': 0.19, 'GloVe_300d': 0.08333333333333333}\n",
      "Above Zero Complexity: (threshold = 0.3)\n",
      " {'BERT': 0.4322916666666667, 'GloVe_100d': 0.29, 'GloVe_300d': 0.21333333333333335}\n",
      "\n",
      "siblings\n",
      "Sum Complexity: \n",
      " {'BERT': 267.9125963440165, 'GloVe_100d': -2.328687602072023, 'GloVe_300d': 0.23538206197554246}\n",
      "Above Zero Complexity: (threshold = 0.5)\n",
      " {'BERT': 0.24348958333333334, 'GloVe_100d': 0.2, 'GloVe_300d': 0.07333333333333333}\n",
      "Above Zero Complexity: (threshold = 0.3)\n",
      " {'BERT': 0.4778645833333333, 'GloVe_100d': 0.27, 'GloVe_300d': 0.15666666666666668}\n",
      "\n",
      "offspring\n",
      "Sum Complexity: \n",
      " {'BERT': 262.37068815832026, 'GloVe_100d': -1.8321100692264736, 'GloVe_300d': 2.2595805127348285}\n",
      "Above Zero Complexity: (threshold = 0.5)\n",
      " {'BERT': 0.22916666666666666, 'GloVe_100d': 0.12, 'GloVe_300d': 0.07666666666666666}\n",
      "Above Zero Complexity: (threshold = 0.3)\n",
      " {'BERT': 0.4453125, 'GloVe_100d': 0.28, 'GloVe_300d': 0.19}\n",
      "\n",
      "wives\n",
      "Sum Complexity: \n",
      " {'BERT': 307.06113684992306, 'GloVe_100d': -3.019225629977882, 'GloVe_300d': 0.20620530353244249}\n",
      "Above Zero Complexity: (threshold = 0.5)\n",
      " {'BERT': 0.2994791666666667, 'GloVe_100d': 0.11, 'GloVe_300d': 0.07666666666666666}\n",
      "Above Zero Complexity: (threshold = 0.3)\n",
      " {'BERT': 0.53125, 'GloVe_100d': 0.27, 'GloVe_300d': 0.17666666666666667}\n",
      "\n",
      "wife\n",
      "Sum Complexity: \n",
      " {'BERT': 304.20355190802366, 'GloVe_100d': 7.263094519264996, 'GloVe_300d': 2.5433388634992298}\n",
      "Above Zero Complexity: (threshold = 0.5)\n",
      " {'BERT': 0.3098958333333333, 'GloVe_100d': 0.2, 'GloVe_300d': 0.08}\n",
      "Above Zero Complexity: (threshold = 0.3)\n",
      " {'BERT': 0.5208333333333334, 'GloVe_100d': 0.35, 'GloVe_300d': 0.18333333333333332}\n",
      "\n",
      "husband\n",
      "Sum Complexity: \n",
      " {'BERT': 307.98503236984834, 'GloVe_100d': 6.686437053605914, 'GloVe_300d': 6.670569034875371}\n",
      "Above Zero Complexity: (threshold = 0.5)\n",
      " {'BERT': 0.3059895833333333, 'GloVe_100d': 0.19, 'GloVe_300d': 0.08333333333333333}\n",
      "Above Zero Complexity: (threshold = 0.3)\n",
      " {'BERT': 0.546875, 'GloVe_100d': 0.35, 'GloVe_300d': 0.17666666666666667}\n",
      "\n",
      "husbands\n",
      "Sum Complexity: \n",
      " {'BERT': 281.579478637781, 'GloVe_100d': -2.74656665220391, 'GloVe_300d': -3.892142489552498}\n",
      "Above Zero Complexity: (threshold = 0.5)\n",
      " {'BERT': 0.2708333333333333, 'GloVe_100d': 0.17, 'GloVe_300d': 0.06666666666666667}\n",
      "Above Zero Complexity: (threshold = 0.3)\n",
      " {'BERT': 0.4817708333333333, 'GloVe_100d': 0.23, 'GloVe_300d': 0.18333333333333332}\n",
      "\n",
      "brother\n",
      "Sum Complexity: \n",
      " {'BERT': 292.6944778924808, 'GloVe_100d': -1.2145340405404568, 'GloVe_300d': 5.45322897285223}\n",
      "Above Zero Complexity: (threshold = 0.5)\n",
      " {'BERT': 0.2799479166666667, 'GloVe_100d': 0.16, 'GloVe_300d': 0.07}\n",
      "Above Zero Complexity: (threshold = 0.3)\n",
      " {'BERT': 0.51953125, 'GloVe_100d': 0.3, 'GloVe_300d': 0.19333333333333333}\n",
      "\n",
      "brothers\n",
      "Sum Complexity: \n",
      " {'BERT': 295.3078163364553, 'GloVe_100d': -4.790178474504501, 'GloVe_300d': 0.2461538432398811}\n",
      "Above Zero Complexity: (threshold = 0.5)\n",
      " {'BERT': 0.2916666666666667, 'GloVe_100d': 0.19, 'GloVe_300d': 0.06666666666666667}\n",
      "Above Zero Complexity: (threshold = 0.3)\n",
      " {'BERT': 0.53125, 'GloVe_100d': 0.26, 'GloVe_300d': 0.18333333333333332}\n",
      "\n",
      "sister\n",
      "Sum Complexity: \n",
      " {'BERT': 307.26306819496676, 'GloVe_100d': 8.687032090383582, 'GloVe_300d': 5.058146728784777}\n",
      "Above Zero Complexity: (threshold = 0.5)\n",
      " {'BERT': 0.3190104166666667, 'GloVe_100d': 0.19, 'GloVe_300d': 0.07}\n",
      "Above Zero Complexity: (threshold = 0.3)\n",
      " {'BERT': 0.5286458333333334, 'GloVe_100d': 0.35, 'GloVe_300d': 0.18666666666666668}\n",
      "\n",
      "sisters\n",
      "Sum Complexity: \n",
      " {'BERT': 290.43934682616964, 'GloVe_100d': 1.6291782564367168, 'GloVe_300d': -5.0805591540411115}\n",
      "Above Zero Complexity: (threshold = 0.5)\n",
      " {'BERT': 0.2786458333333333, 'GloVe_100d': 0.19, 'GloVe_300d': 0.06666666666666667}\n",
      "Above Zero Complexity: (threshold = 0.3)\n",
      " {'BERT': 0.53125, 'GloVe_100d': 0.33, 'GloVe_300d': 0.18333333333333332}\n",
      "\n",
      "daughter\n",
      "Sum Complexity: \n",
      " {'BERT': 295.4021926606074, 'GloVe_100d': 1.7682307404465973, 'GloVe_300d': 2.9203062711749226}\n",
      "Above Zero Complexity: (threshold = 0.5)\n",
      " {'BERT': 0.2916666666666667, 'GloVe_100d': 0.22, 'GloVe_300d': 0.09}\n",
      "Above Zero Complexity: (threshold = 0.3)\n",
      " {'BERT': 0.5091145833333334, 'GloVe_100d': 0.34, 'GloVe_300d': 0.17}\n",
      "\n",
      "daughters\n",
      "Sum Complexity: \n",
      " {'BERT': 310.2571994671598, 'GloVe_100d': -0.5968458894640207, 'GloVe_300d': 2.116005705553107}\n",
      "Above Zero Complexity: (threshold = 0.5)\n",
      " {'BERT': 0.31640625, 'GloVe_100d': 0.16, 'GloVe_300d': 0.09}\n",
      "Above Zero Complexity: (threshold = 0.3)\n",
      " {'BERT': 0.5299479166666666, 'GloVe_100d': 0.27, 'GloVe_300d': 0.20666666666666667}\n",
      "\n",
      "child\n",
      "Sum Complexity: \n",
      " {'BERT': 280.99492997012567, 'GloVe_100d': 1.4257087670266628, 'GloVe_300d': -2.4750566812581383}\n",
      "Above Zero Complexity: (threshold = 0.5)\n",
      " {'BERT': 0.2591145833333333, 'GloVe_100d': 0.2, 'GloVe_300d': 0.07666666666666666}\n",
      "Above Zero Complexity: (threshold = 0.3)\n",
      " {'BERT': 0.5, 'GloVe_100d': 0.33, 'GloVe_300d': 0.20666666666666667}\n",
      "\n",
      "children\n",
      "Sum Complexity: \n",
      " {'BERT': 272.71354610286653, 'GloVe_100d': 0.7391962169203907, 'GloVe_300d': -1.5846417911816388}\n",
      "Above Zero Complexity: (threshold = 0.5)\n",
      " {'BERT': 0.24479166666666666, 'GloVe_100d': 0.21, 'GloVe_300d': 0.09666666666666666}\n",
      "Above Zero Complexity: (threshold = 0.3)\n",
      " {'BERT': 0.4973958333333333, 'GloVe_100d': 0.32, 'GloVe_300d': 0.18}\n",
      "\n",
      "bachelor\n",
      "Sum Complexity: \n",
      " {'BERT': 324.8254075208679, 'GloVe_100d': 1.399544013896957, 'GloVe_300d': 1.131382291438058}\n",
      "Above Zero Complexity: (threshold = 0.5)\n",
      " {'BERT': 0.3229166666666667, 'GloVe_100d': 0.19, 'GloVe_300d': 0.11}\n",
      "Above Zero Complexity: (threshold = 0.3)\n",
      " {'BERT': 0.55078125, 'GloVe_100d': 0.33, 'GloVe_300d': 0.27}\n",
      "\n",
      "baby\n",
      "Sum Complexity: \n",
      " {'BERT': 302.5292102666572, 'GloVe_100d': 3.2682499112561345, 'GloVe_300d': 4.656420110259205}\n",
      "Above Zero Complexity: (threshold = 0.5)\n",
      " {'BERT': 0.3033854166666667, 'GloVe_100d': 0.21, 'GloVe_300d': 0.08666666666666667}\n",
      "Above Zero Complexity: (threshold = 0.3)\n",
      " {'BERT': 0.53125, 'GloVe_100d': 0.31, 'GloVe_300d': 0.22666666666666666}\n",
      "\n",
      "small\n",
      "Sum Complexity: \n",
      " {'BERT': 277.34951843041927, 'GloVe_100d': 3.6984057491645217, 'GloVe_300d': 4.9825761069078}\n",
      "Above Zero Complexity: (threshold = 0.5)\n",
      " {'BERT': 0.265625, 'GloVe_100d': 0.19, 'GloVe_300d': 0.043333333333333335}\n",
      "Above Zero Complexity: (threshold = 0.3)\n",
      " {'BERT': 0.4830729166666667, 'GloVe_100d': 0.29, 'GloVe_300d': 0.17}\n",
      "\n",
      "little\n",
      "Sum Complexity: \n",
      " {'BERT': 276.5053451335989, 'GloVe_100d': -5.478721471736208, 'GloVe_300d': -4.497760925325565}\n",
      "Above Zero Complexity: (threshold = 0.5)\n",
      " {'BERT': 0.2513020833333333, 'GloVe_100d': 0.1, 'GloVe_300d': 0.05333333333333334}\n",
      "Above Zero Complexity: (threshold = 0.3)\n",
      " {'BERT': 0.4778645833333333, 'GloVe_100d': 0.22, 'GloVe_300d': 0.12}\n",
      "\n",
      "duck\n",
      "Sum Complexity: \n",
      " {'BERT': 294.4434286921751, 'GloVe_100d': -3.2890617272350937, 'GloVe_300d': -10.453037639264949}\n",
      "Above Zero Complexity: (threshold = 0.5)\n",
      " {'BERT': 0.2786458333333333, 'GloVe_100d': 0.18, 'GloVe_300d': 0.08}\n",
      "Above Zero Complexity: (threshold = 0.3)\n",
      " {'BERT': 0.5013020833333334, 'GloVe_100d': 0.26, 'GloVe_300d': 0.17333333333333334}\n",
      "\n",
      "cat\n",
      "Sum Complexity: \n",
      " {'BERT': 270.7549908044748, 'GloVe_100d': 8.430565601214767, 'GloVe_300d': -5.760323077440262}\n",
      "Above Zero Complexity: (threshold = 0.5)\n",
      " {'BERT': 0.2578125, 'GloVe_100d': 0.21, 'GloVe_300d': 0.06666666666666667}\n",
      "Above Zero Complexity: (threshold = 0.3)\n",
      " {'BERT': 0.4752604166666667, 'GloVe_100d': 0.3, 'GloVe_300d': 0.18}\n",
      "\n",
      "kitten\n",
      "Sum Complexity: \n",
      " {'BERT': 268.8352004881017, 'GloVe_100d': 3.6986422518093605, 'GloVe_300d': -6.490173897705972}\n",
      "Above Zero Complexity: (threshold = 0.5)\n",
      " {'BERT': 0.24088541666666666, 'GloVe_100d': 0.11, 'GloVe_300d': 0.09333333333333334}\n",
      "Above Zero Complexity: (threshold = 0.3)\n",
      " {'BERT': 0.4934895833333333, 'GloVe_100d': 0.31, 'GloVe_300d': 0.2}\n",
      "\n",
      "dog\n",
      "Sum Complexity: \n",
      " {'BERT': 259.7306234445423, 'GloVe_100d': 9.168834713986143, 'GloVe_300d': -3.014414279954508}\n",
      "Above Zero Complexity: (threshold = 0.5)\n",
      " {'BERT': 0.2265625, 'GloVe_100d': 0.26, 'GloVe_300d': 0.09333333333333334}\n",
      "Above Zero Complexity: (threshold = 0.3)\n",
      " {'BERT': 0.46875, 'GloVe_100d': 0.39, 'GloVe_300d': 0.19666666666666666}\n",
      "\n",
      "puppy\n",
      "Sum Complexity: \n",
      " {'BERT': 289.2167390740942, 'GloVe_100d': 5.724656214006245, 'GloVe_300d': -0.6581538671161979}\n",
      "Above Zero Complexity: (threshold = 0.5)\n",
      " {'BERT': 0.2721354166666667, 'GloVe_100d': 0.2, 'GloVe_300d': 0.09}\n",
      "Above Zero Complexity: (threshold = 0.3)\n",
      " {'BERT': 0.4908854166666667, 'GloVe_100d': 0.3, 'GloVe_300d': 0.19666666666666666}\n",
      "\n"
     ]
    }
   ],
   "source": [
    "for word in model_bert.keys():\n",
    "    print(word)\n",
    "    print(\"Sum Complexity: \\n\", sum_complexity(word))\n",
    "    print(\"Above Zero Complexity: (threshold = 0.5)\\n\", above_zero_complexity(word))\n",
    "    print(\"Above Zero Complexity: (threshold = 0.3)\\n\", above_zero_complexity(word, 0.3))\n",
    "    print()"
   ]
  },
  {
   "cell_type": "code",
   "execution_count": null,
   "metadata": {},
   "outputs": [],
   "source": []
  }
 ],
 "metadata": {
  "kernelspec": {
   "display_name": "Python 3",
   "language": "python",
   "name": "python3"
  },
  "language_info": {
   "codemirror_mode": {
    "name": "ipython",
    "version": 3
   },
   "file_extension": ".py",
   "mimetype": "text/x-python",
   "name": "python",
   "nbconvert_exporter": "python",
   "pygments_lexer": "ipython3",
   "version": "3.8.5"
  }
 },
 "nbformat": 4,
 "nbformat_minor": 2
}
